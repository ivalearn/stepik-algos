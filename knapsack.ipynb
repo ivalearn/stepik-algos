{
 "cells": [
  {
   "cell_type": "code",
   "execution_count": 4,
   "metadata": {},
   "outputs": [
    {
     "name": "stdout",
     "output_type": "stream",
     "text": [
      "180.000\n"
     ]
    }
   ],
   "source": [
    "# непрерывный рюкзак\n",
    "# https://stepik.org/lesson/13238/step/10\n",
    "\n",
    "#n, w = map(int, input().split())\n",
    "#g = [tuple(map(int, input().split())) for _ in range(n)]  # cost_i, weight_i\n",
    "n, w = 3, 50\n",
    "g = [(60,20),(100,50),(120,30)]\n",
    "\n",
    "g = sorted(g, key=lambda gi: gi[0]/gi[1], reverse=True)\n",
    "c = 0\n",
    "for gi in g:\n",
    "    wi = min(gi[1], w)\n",
    "    c += gi[0] * wi / gi[1]\n",
    "    w -= wi\n",
    "    if w < 1e-8:\n",
    "        break\n",
    "print('{:.3f}'.format(c))"
   ]
  },
  {
   "cell_type": "code",
   "execution_count": 11,
   "metadata": {},
   "outputs": [
    {
     "name": "stdout",
     "output_type": "stream",
     "text": [
      "Overwriting knapsack.py\n"
     ]
    }
   ],
   "source": [
    "%%writefile knapsack.py\n",
    "# knapsack practicum\n",
    "# https://stepik.org/lesson/13244/step/1\n",
    "import sys\n",
    "\n",
    "def fractional_knapsack(capacity, values_and_weights):\n",
    "    order = [(v/w, w) for v, w in values_and_weights]\n",
    "    order.sort(reverse=True)\n",
    "    acc = 0\n",
    "    for v_per_w, w in order:\n",
    "        if w < capacity:\n",
    "            acc += v_per_w * w\n",
    "            capacity -= w\n",
    "        else:\n",
    "            acc += v_per_w * capacity\n",
    "            break\n",
    "    return acc\n",
    "\n",
    "def main():\n",
    "    reader = (tuple(map(int, line.split())) for line in sys.stdin)\n",
    "    n, capacity = next(reader)\n",
    "    values_and_weights = list(reader)\n",
    "    assert len(values_and_weights) == n\n",
    "    opt_value = fractional_knapsack(capacity, values_and_weights)\n",
    "    print(\"{:.3f}\".format(opt_value))\n",
    "\n",
    "main()"
   ]
  },
  {
   "cell_type": "code",
   "execution_count": 43,
   "metadata": {},
   "outputs": [
    {
     "name": "stdout",
     "output_type": "stream",
     "text": [
      "Overwriting knapsack.py\n"
     ]
    }
   ],
   "source": [
    "%%writefile knapsack.py\n",
    "# knapsack practicum\n",
    "# https://stepik.org/lesson/13244/step/3\n",
    "import sys\n",
    "import heapq\n",
    "\n",
    "def fractional_knapsack(capacity, values_and_weights):\n",
    "    order = [(-v / w, w) for v, w in values_and_weights]\n",
    "    heapq.heapify(order)\n",
    "\n",
    "    acc = 0\n",
    "    while order and capacity:\n",
    "        v_per_w, w = heapq.heappop(order)\n",
    "        can_take = min(w, capacity)\n",
    "        acc -= v_per_w * can_take\n",
    "        capacity -= can_take\n",
    "\n",
    "    return acc\n",
    "\n",
    "def main():\n",
    "    reader = (tuple(map(int, line.split())) for line in sys.stdin)\n",
    "    n, capacity = next(reader)\n",
    "    values_and_weights = list(reader)\n",
    "    assert len(values_and_weights) == n\n",
    "    opt_value = fractional_knapsack(capacity, values_and_weights)\n",
    "    print(\"{:.3f}\".format(opt_value))\n",
    "\n",
    "def test():\n",
    "    assert fractional_knapsack(0, [(60,20)]) == 0\n",
    "    assert fractional_knapsack(25, [(60,20)]) == 60.0\n",
    "    assert fractional_knapsack(25, [(60,20), (0,100)]) == 60.0\n",
    "    assert fractional_knapsack(25, [(60, 20), (50, 50)]) == 65.0\n",
    "    assert fractional_knapsack(50, [(60,20),(100,50),(120,30)]) == 180.0\n",
    "\n",
    "    from random import randint\n",
    "    from timing import timed\n",
    "    for attempt in range(100):\n",
    "        n = randint(1, 1000)\n",
    "        m = 2 * 10**6\n",
    "        capacity = randint(0, m)\n",
    "        values_and_weights = []\n",
    "        for _ in range(n):\n",
    "            v = randint(0, m)\n",
    "            w = randint(1, m)\n",
    "            values_and_weights.append((v,w))\n",
    "        t = timed(fractional_knapsack, (capacity, values_and_weights))\n",
    "        assert t < 1\n",
    "    print(\"OK\")\n",
    "\n",
    "main()\n",
    "#test()"
   ]
  },
  {
   "cell_type": "code",
   "execution_count": 44,
   "metadata": {},
   "outputs": [
    {
     "name": "stdout",
     "output_type": "stream",
     "text": [
      "180.000\n"
     ]
    }
   ],
   "source": [
    "%%bash\n",
    "python3 knapsack.py <<___EOF___\n",
    "3 50\n",
    "60 20\n",
    "100 50\n",
    "120 30\n",
    "___EOF___"
   ]
  },
  {
   "cell_type": "code",
   "execution_count": null,
   "metadata": {},
   "outputs": [],
   "source": []
  }
 ],
 "metadata": {
  "kernelspec": {
   "display_name": "Python 3",
   "language": "python",
   "name": "python3"
  },
  "language_info": {
   "codemirror_mode": {
    "name": "ipython",
    "version": 3
   },
   "file_extension": ".py",
   "mimetype": "text/x-python",
   "name": "python",
   "nbconvert_exporter": "python",
   "pygments_lexer": "ipython3",
   "version": "3.5.2"
  }
 },
 "nbformat": 4,
 "nbformat_minor": 2
}
