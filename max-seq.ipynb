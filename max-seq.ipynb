{
 "cells": [
  {
   "cell_type": "code",
   "execution_count": 22,
   "metadata": {},
   "outputs": [
    {
     "data": {
      "text/plain": [
       "3"
      ]
     },
     "execution_count": 22,
     "metadata": {},
     "output_type": "execute_result"
    }
   ],
   "source": [
    "def max_div_seq(a):\n",
    "    d = [1] * len(a)\n",
    "    for i in range(len(a)):\n",
    "        try:\n",
    "            d[i] = 1 + max(d[j] for j in range(i) if a[i] % a[j] == 0)\n",
    "        except ValueError:\n",
    "            pass\n",
    "    return max(d)\n",
    "\n",
    "def main():\n",
    "    n = int(input())\n",
    "    a = list(map(int, input().split()))\n",
    "    print(max_div_seq(a))\n",
    "\n",
    "max_div_seq([3,6,7,12])"
   ]
  },
  {
   "cell_type": "code",
   "execution_count": 130,
   "metadata": {},
   "outputs": [
    {
     "ename": "AssertionError",
     "evalue": "got 6.9 sec",
     "output_type": "error",
     "traceback": [
      "\u001b[0;31m---------------------------------------------------------------------------\u001b[0m",
      "\u001b[0;31mAssertionError\u001b[0m                            Traceback (most recent call last)",
      "\u001b[0;32m<ipython-input-130-187cebe55ec5>\u001b[0m in \u001b[0;36m<module>\u001b[0;34m()\u001b[0m\n\u001b[1;32m     67\u001b[0m \u001b[0;31m#max_non_inc_seq([5,3,4,4,2], 5)\u001b[0m\u001b[0;34m\u001b[0m\u001b[0;34m\u001b[0m\u001b[0m\n\u001b[1;32m     68\u001b[0m \u001b[0;31m#main()\u001b[0m\u001b[0;34m\u001b[0m\u001b[0;34m\u001b[0m\u001b[0m\n\u001b[0;32m---> 69\u001b[0;31m \u001b[0mtest\u001b[0m\u001b[0;34m(\u001b[0m\u001b[0mniter\u001b[0m\u001b[0;34m=\u001b[0m\u001b[0;36m1\u001b[0m\u001b[0;34m,\u001b[0m \u001b[0mtmax\u001b[0m\u001b[0;34m=\u001b[0m\u001b[0;36m1\u001b[0m\u001b[0;34m)\u001b[0m\u001b[0;34m\u001b[0m\u001b[0m\n\u001b[0m",
      "\u001b[0;32m<ipython-input-130-187cebe55ec5>\u001b[0m in \u001b[0;36mtest\u001b[0;34m(niter, nmax, xmax, tmax, rseed)\u001b[0m\n\u001b[1;32m     59\u001b[0m         \u001b[0mmaxd\u001b[0m\u001b[0;34m,\u001b[0m \u001b[0mout\u001b[0m \u001b[0;34m=\u001b[0m \u001b[0mmax_non_inc_seq\u001b[0m\u001b[0;34m(\u001b[0m\u001b[0ma\u001b[0m\u001b[0;34m)\u001b[0m\u001b[0;34m\u001b[0m\u001b[0m\n\u001b[1;32m     60\u001b[0m         \u001b[0mt2\u001b[0m \u001b[0;34m=\u001b[0m \u001b[0mtimer\u001b[0m\u001b[0;34m(\u001b[0m\u001b[0;34m)\u001b[0m\u001b[0;34m\u001b[0m\u001b[0m\n\u001b[0;32m---> 61\u001b[0;31m         \u001b[0;32massert\u001b[0m \u001b[0mt2\u001b[0m\u001b[0;34m-\u001b[0m\u001b[0mt1\u001b[0m \u001b[0;34m<\u001b[0m \u001b[0mtmax\u001b[0m\u001b[0;34m,\u001b[0m \u001b[0;34m\"got {:.1f} sec\"\u001b[0m\u001b[0;34m.\u001b[0m\u001b[0mformat\u001b[0m\u001b[0;34m(\u001b[0m\u001b[0mt2\u001b[0m\u001b[0;34m-\u001b[0m\u001b[0mt1\u001b[0m\u001b[0;34m)\u001b[0m\u001b[0;34m\u001b[0m\u001b[0m\n\u001b[0m\u001b[1;32m     62\u001b[0m         \u001b[0mstderr\u001b[0m\u001b[0;34m.\u001b[0m\u001b[0mwrite\u001b[0m\u001b[0;34m(\u001b[0m\u001b[0;34m\".\"\u001b[0m\u001b[0;34m)\u001b[0m\u001b[0;34m\u001b[0m\u001b[0m\n\u001b[1;32m     63\u001b[0m \u001b[0;34m\u001b[0m\u001b[0m\n",
      "\u001b[0;31mAssertionError\u001b[0m: got 6.9 sec"
     ]
    }
   ],
   "source": [
    "#%%writefile max_non_inc_seq.py\n",
    "\n",
    "def max_non_inc_seq(A, n=None):\n",
    "    if n is None:\n",
    "        n = len(A)\n",
    "    D = [1] * n\n",
    "    P = [-1] * n\n",
    "    a_best = i_best = d_best = 0\n",
    "\n",
    "    for i in range(n):\n",
    "        a = A[i]\n",
    "        if a <= a_best:\n",
    "            p, d = i_best, d_best+1\n",
    "        else:\n",
    "            p, d = -1, 0\n",
    "            for j in range(i):\n",
    "                if a <= A[j] and D[j] > d:\n",
    "                    p, d = j, D[j]\n",
    "            d += 1\n",
    "        P[i], D[i] = p, d\n",
    "        if d > d_best:\n",
    "            i_best, a_best, d_best = i, a, d\n",
    "\n",
    "    out = [0] * d_best\n",
    "    i = i_best\n",
    "    for j in range(d_best-1, 0, -1):\n",
    "        out[j], i = i+1, P[i]\n",
    "    out[0] = i+1\n",
    "    return d_best, out\n",
    "\n",
    "\n",
    "def main():\n",
    "    from sys import stdin\n",
    "    n = int(stdin.readline())\n",
    "    a = list(map(int, stdin.readline().split()))\n",
    "    d, seq = max_non_inc_seq(a, n)\n",
    "    print(d)\n",
    "    print(*seq)\n",
    "\n",
    "\n",
    "def test(niter=60, nmax=10**5, xmax=10**9, tmax=2, rseed=123):\n",
    "    from random import randint, shuffle, seed\n",
    "    from time import perf_counter as timer\n",
    "    from sys import stderr\n",
    "    seed(rseed)\n",
    "\n",
    "    assert max_non_inc_seq([1]) == (1, [1])\n",
    "    assert max_non_inc_seq([5,3,4,4,2]) == (4, [1,3,4,5])\n",
    "\n",
    "    t1 = timer()\n",
    "    maxd, out = max_non_inc_seq([xmax-i for i in range(nmax)])\n",
    "    t2 = timer()\n",
    "    assert t2-t1 < tmax\n",
    "\n",
    "    for t in range(niter):\n",
    "        a = list(range(1, randint(2, nmax)))\n",
    "        shuffle(a)\n",
    "        t1 = timer()\n",
    "        maxd, out = max_non_inc_seq(a)\n",
    "        t2 = timer()\n",
    "        assert t2-t1 < tmax, \"got {:.1f} sec\".format(t2-t1)\n",
    "        stderr.write(\".\")\n",
    "\n",
    "    stderr.flush()\n",
    "    print(\"OK\")\n",
    "    \n",
    "#max_non_inc_seq([5,3,4,4,2], 5)\n",
    "#main()\n",
    "test(niter=1, tmax=1)"
   ]
  },
  {
   "cell_type": "code",
   "execution_count": 128,
   "metadata": {},
   "outputs": [
    {
     "name": "stdout",
     "output_type": "stream",
     "text": [
      "OK\n"
     ]
    },
    {
     "name": "stderr",
     "output_type": "stream",
     "text": [
      "."
     ]
    }
   ],
   "source": [
    "%%bash\n",
    "python3 max_non_inc_seq.py << EOF\n",
    "5\n",
    "5 3 4 4 2\n",
    "EOF"
   ]
  },
  {
   "cell_type": "code",
   "execution_count": null,
   "metadata": {},
   "outputs": [],
   "source": [
    "%%bash\n",
    "python3 -m cProfile -s cumtime max_non_inc_seq.py"
   ]
  },
  {
   "cell_type": "code",
   "execution_count": null,
   "metadata": {},
   "outputs": [],
   "source": []
  }
 ],
 "metadata": {
  "kernelspec": {
   "display_name": "Python 3",
   "language": "python",
   "name": "python3"
  },
  "language_info": {
   "codemirror_mode": {
    "name": "ipython",
    "version": 3
   },
   "file_extension": ".py",
   "mimetype": "text/x-python",
   "name": "python",
   "nbconvert_exporter": "python",
   "pygments_lexer": "ipython3",
   "version": "3.5.2"
  }
 },
 "nbformat": 4,
 "nbformat_minor": 2
}
