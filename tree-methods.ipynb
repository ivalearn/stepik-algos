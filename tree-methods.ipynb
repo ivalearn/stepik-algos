{
 "cells": [
  {
   "cell_type": "markdown",
   "metadata": {},
   "source": [
    "### Задачи\n",
    "- обход inorder, preorder, postorder (рекурсия и итеративный)\n",
    "- обход в глубину (рекурсия и итеративный)\n",
    "- обход в ширину (рекурсия и итеративный)\n",
    "- поиск минимума, максимума\n",
    "- поиск предыдущего, следующего\n",
    "- поиск высоты: рекурсивно, стеком, кешами\n",
    "- АВЛ: пересчет кеша высоты, вставка, удаление\n",
    "- АВЛ: левое/правое большое/малое вращение\n",
    "- обращение по индексу, размер поддерева (и пересчет кеша)\n",
    "- разрезание, склеивание\n",
    "- полный пересчет кешей и проверка корректности"
   ]
  },
  {
   "cell_type": "code",
   "execution_count": 1,
   "metadata": {},
   "outputs": [],
   "source": [
    "%matplotlib inline\n",
    "from IPython.display import Image, HTML\n",
    "import networkx as nx"
   ]
  },
  {
   "cell_type": "code",
   "execution_count": 2,
   "metadata": {},
   "outputs": [],
   "source": [
    "class TreeNode:\n",
    "    def __init__(self):\n",
    "        self.key = self.left = self.right = None\n",
    "\n",
    "\n",
    "def parse_tree(lines):\n",
    "    if isinstance(lines, str):\n",
    "        lines = lines.split(';') if lines else []\n",
    "    tree = [TreeNode() for _ in range(len(lines))]\n",
    "    for num, line in enumerate(lines):\n",
    "        if isinstance(line, str):\n",
    "            key, left, right = map(int, line.strip().split())\n",
    "        tree[num].key = key\n",
    "        tree[num].num = num\n",
    "        if left != -1:\n",
    "            tree[num].left = tree[left]\n",
    "        if right != -1:\n",
    "            tree[num].right = tree[right]\n",
    "    return tree[0] if tree else None\n",
    "\n",
    "\n",
    "def draw_tree(tree, root=0,\n",
    "              width=.07, vgap=.05, vloc=0, xcenter=.5,\n",
    "              node_color='lightgray', node_size=1000,\n",
    "              **kw):\n",
    "    if isinstance(tree, str):\n",
    "        tree = parse_tree(tree)\n",
    "    if tree is None:\n",
    "        return\n",
    "\n",
    "    def add_node(node):\n",
    "        num = node.num\n",
    "        if num not in graph.nodes:\n",
    "            graph.add_node(num)\n",
    "            labels[num] = str(node.key)\n",
    "        left = node.left\n",
    "        if left is not None:\n",
    "            add_node(left)\n",
    "            graph.add_edge(num, left.num)\n",
    "            labels[left.num] += '<'\n",
    "        right = node.right\n",
    "        if right is not None:\n",
    "            add_node(right)\n",
    "            graph.add_edge(num, right.num)\n",
    "            labels[right.num] += '>'\n",
    "\n",
    "    graph = nx.Graph()\n",
    "    labels = {}\n",
    "    add_node(tree)\n",
    "\n",
    "    def layout_hier(root, width, vloc, xcenter, pos=None, parent=None):\n",
    "        if pos is None:\n",
    "            pos = { root: (xcenter, vloc) }\n",
    "        else:\n",
    "            pos[root] = (xcenter, vloc)\n",
    "        neighbors = list(graph.neighbors(root))\n",
    "        if parent is not None:\n",
    "            neighbors.remove(parent)\n",
    "        if len(neighbors):\n",
    "            dx = width / len(neighbors) \n",
    "            nextx = xcenter - width/2 - dx/2\n",
    "            for neighbor in neighbors:\n",
    "                nextx += dx\n",
    "                pos = layout_hier(neighbor, width=dx, vloc=vloc-vgap, xcenter=nextx,\n",
    "                                  pos=pos, parent=root)\n",
    "        return pos\n",
    "\n",
    "    pos = layout_hier(root, width, vloc, xcenter)\n",
    "    return nx.draw(graph, pos=pos, with_labels=True, labels=labels,\n",
    "                   node_color=node_color, node_size=node_size,\n",
    "                   **kw)"
   ]
  },
  {
   "cell_type": "code",
   "execution_count": 3,
   "metadata": {},
   "outputs": [
    {
     "data": {
      "image/png": "[encoded data removed]",
      "text/plain": [
       "<Figure size 432x288 with 1 Axes>"
      ]
     },
     "metadata": {},
     "output_type": "display_data"
    }
   ],
   "source": [
    "draw_tree('40 1 4;20 2 3;10 -1 -1;30 -1 -1;60 5 6;50 -1 -1;70 -1 -1')"
   ]
  },
  {
   "cell_type": "code",
   "execution_count": 4,
   "metadata": {},
   "outputs": [],
   "source": [
    "def test_methods(validate):\n",
    "    assert 1+1 == 2\n",
    "    \n",
    "    print('ok')"
   ]
  },
  {
   "cell_type": "code",
   "execution_count": 5,
   "metadata": {},
   "outputs": [
    {
     "name": "stdout",
     "output_type": "stream",
     "text": [
      "Overwriting tree-methods.py\n"
     ]
    }
   ],
   "source": [
    "%%writefile tree-methods.py\n",
    "print('OK', input())"
   ]
  },
  {
   "cell_type": "code",
   "execution_count": 6,
   "metadata": {},
   "outputs": [
    {
     "name": "stdout",
     "output_type": "stream",
     "text": [
      "OK boy\n"
     ]
    }
   ],
   "source": [
    "%%bash\n",
    "python3 tree-methods.py << EOF\n",
    "boy\n",
    "EOF\n",
    "# OK boy"
   ]
  },
  {
   "cell_type": "code",
   "execution_count": null,
   "metadata": {},
   "outputs": [],
   "source": []
  }
 ],
 "metadata": {
  "kernelspec": {
   "display_name": "Python 3",
   "language": "python",
   "name": "python3"
  },
  "language_info": {
   "codemirror_mode": {
    "name": "ipython",
    "version": 3
   },
   "file_extension": ".py",
   "mimetype": "text/x-python",
   "name": "python",
   "nbconvert_exporter": "python",
   "pygments_lexer": "ipython3",
   "version": "3.5.2"
  }
 },
 "nbformat": 4,
 "nbformat_minor": 2
}
