{
 "cells": [
  {
   "cell_type": "markdown",
   "metadata": {},
   "source": [
    "### Задачи\n",
    "- обход в глубину\n",
    "- обход в ширину\n",
    "- поиск минимума, максимума\n",
    "- поиск предыдущего, следующего\n",
    "- поиск высоты: рекурсивно, стеком, кешами\n",
    "- АВЛ: пересчет кеша высоты, вставка, удаление\n",
    "- АВЛ: левое/правое большое/малое вращение\n",
    "- обращение по индексу, размер поддерева (и пересчет кеша)\n",
    "- разрезание, склеивание\n",
    "- полный пересчет кешей и проверка корректности"
   ]
  },
  {
   "cell_type": "code",
   "execution_count": 1,
   "metadata": {},
   "outputs": [],
   "source": [
    "%matplotlib inline\n",
    "from IPython.display import Image, HTML\n",
    "import networkx as nx"
   ]
  },
  {
   "cell_type": "code",
   "execution_count": 2,
   "metadata": {},
   "outputs": [],
   "source": [
    "class Node:\n",
    "    def __init__(self, num=None):\n",
    "        self.key = self.num = num\n",
    "        self.left = self.right = None\n",
    "\n",
    "    def __repr__(self):\n",
    "        return '[\"{}\" {},{}]'.format(\n",
    "            self.key,\n",
    "            '.' if self.left is None else self.left.key,\n",
    "            '.' if self.right is None else self.right.key,\n",
    "        )\n",
    "\n",
    "\n",
    "def read_graph(nodes):\n",
    "    if isinstance(nodes, str):\n",
    "        nodes = nodes.split(';')\n",
    "    graph = [Node() for _ in range(len(nodes))]\n",
    "    for num, node in enumerate(nodes):\n",
    "        if isinstance(node, str):\n",
    "            key, left, right = map(int, node.strip().split())\n",
    "        graph[num].num = num\n",
    "        graph[num].key = key\n",
    "        if left != -1:\n",
    "            graph[num].left = graph[left]\n",
    "        if right != -1:\n",
    "            graph[num].right = graph[right]\n",
    "    return graph[0]\n",
    "\n",
    "\n",
    "def draw_tree(tree, root=0,\n",
    "              width=.05, vgap=.05, vloc=0, xcenter=.5,\n",
    "              node_color='lightgray', node_size=600,\n",
    "              **kw):\n",
    "    graph = nx.Graph()\n",
    "    labels = {}\n",
    "    def add_node(node):\n",
    "        num = node.num\n",
    "        if num not in graph.nodes:\n",
    "            graph.add_node(num)\n",
    "            labels[num] = node.key\n",
    "        if node.left is not None:\n",
    "            add_node(node.left)\n",
    "            graph.add_edge(num, node.left.num)\n",
    "        if node.right is not None:\n",
    "            add_node(node.right)\n",
    "            graph.add_edge(num, node.right.num)\n",
    "    add_node(tree)\n",
    "\n",
    "    def layout_hier(root, width, vloc, xcenter, pos=None, parent=None):\n",
    "        if pos is None:\n",
    "            pos = { root: (xcenter, vloc) }\n",
    "        else:\n",
    "            pos[root] = (xcenter, vloc)\n",
    "        neighbors = list(graph.neighbors(root))\n",
    "        if parent is not None:\n",
    "            neighbors.remove(parent)\n",
    "        if len(neighbors):\n",
    "            dx = width / len(neighbors) \n",
    "            nextx = xcenter - width/2 - dx/2\n",
    "            for neighbor in neighbors:\n",
    "                nextx += dx\n",
    "                pos = layout_hier(neighbor, width=dx, vloc=vloc-vgap, xcenter=nextx,\n",
    "                                  pos=pos, parent=root)\n",
    "        return pos\n",
    "\n",
    "    pos = layout_hier(root, width, vloc, xcenter)\n",
    "    return nx.draw(graph, pos=pos, with_labels=True, labels=labels,\n",
    "                   node_color=node_color, node_size=node_size,\n",
    "                   **kw)"
   ]
  },
  {
   "cell_type": "code",
   "execution_count": 5,
   "metadata": {},
   "outputs": [
    {
     "data": {
      "image/png": "[encoded data removed]",
      "text/plain": [
       "<Figure size 432x288 with 1 Axes>"
      ]
     },
     "metadata": {},
     "output_type": "display_data"
    }
   ],
   "source": [
    "tree = read_graph('0 7 2;10 -1 -1;20 -1 6;30 8 9;40 3 -1;50 -1 -1;60 1 -1;70 5 4;80 -1 -1;90 -1 -1')"
   ]
  }
 ],
 "metadata": {
  "kernelspec": {
   "display_name": "Python 3",
   "language": "python",
   "name": "python3"
  },
  "language_info": {
   "codemirror_mode": {
    "name": "ipython",
    "version": 3
   },
   "file_extension": ".py",
   "mimetype": "text/x-python",
   "name": "python",
   "nbconvert_exporter": "python",
   "pygments_lexer": "ipython3",
   "version": "3.5.2"
  }
 },
 "nbformat": 4,
 "nbformat_minor": 2
}
