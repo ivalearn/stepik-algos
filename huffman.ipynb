{
 "cells": [
  {
   "cell_type": "code",
   "execution_count": 145,
   "metadata": {},
   "outputs": [
    {
     "name": "stdout",
     "output_type": "stream",
     "text": [
      "[[['e'], [['p'], [['!'], ['r']]]], [[['-'], ['o']], ['b']]]\n",
      "7 40\n",
      "e: 11\n",
      "b: 00\n",
      "o: 010\n",
      "-: 011\n",
      "p: 101\n",
      "r: 1000\n",
      "!: 1001\n",
      "0011111010110001001010101100111110001001\n"
     ]
    }
   ],
   "source": [
    "# huffman encoding\n",
    "# https://stepik.org/lesson/13239/step/5\n",
    "from collections import Counter\n",
    "from heapq import heapify, heappush, heappop\n",
    "si = input()\n",
    "#si = \"beep-boop-beer!\"\n",
    "#si = \"abacabad\"\n",
    "#si = \"a\"\n",
    "#si = \"\"\n",
    "cn = Counter(si)\n",
    "#print(cn)\n",
    "pq = [(kv[1], i, [kv[0]]) for i, kv in enumerate(cn.items())]\n",
    "heapify(pq)\n",
    "#print(pq)\n",
    "while len(pq) > 1:\n",
    "    a, b = heappop(pq), heappop(pq)\n",
    "    heappush(pq, (a[0]+b[0], max(a[1],b[1]), [b[2],a[2]]))\n",
    "    #print(pq)\n",
    "if pq:\n",
    "    bt = pq[0][2]\n",
    "    cq = [(\"\", bt)]\n",
    "    en = {}\n",
    "    while cq:\n",
    "        cc, el = cq.pop()\n",
    "        #print(\"-->\", cc, \"-->\", el, \"--\", len(el))\n",
    "        if len(el) == 1:\n",
    "            en[el[0]] = cc\n",
    "        else:\n",
    "            cq.append((cc+\"1\", el[0]))\n",
    "            cq.append((cc+\"0\", el[1]))\n",
    "        #print(cq)\n",
    "        #print(en)\n",
    "    #print(bt)\n",
    "    if len(bt) == 1:\n",
    "        en[bt[0]] = \"0\"\n",
    "se = \"\".join(en[ch] for ch in si)\n",
    "print(len(cn), len(se))\n",
    "print(*(\"{}: {}\".format(ch, en[ch]) for ch, _ in cn.most_common()), sep=\"\\n\")\n",
    "print(se)"
   ]
  },
  {
   "cell_type": "code",
   "execution_count": 162,
   "metadata": {},
   "outputs": [
    {
     "name": "stdout",
     "output_type": "stream",
     "text": [
      "1 1\n",
      "a: 0\n",
      "0\n",
      "a\n"
     ]
    }
   ],
   "source": [
    "# huffman decoding (solution #1)\n",
    "# https://stepik.org/lesson/13239/step/6\n",
    "\n",
    "nc, sz = map(int, input().split())\n",
    "en = dict(input().split(': ') for _ in range(nc))\n",
    "se = input()\n",
    "\n",
    "#nc, sz = 4, 14\n",
    "#en = {'a':'0','b':'10','c':'110','d':'111'}\n",
    "#se = '01001100100111'\n",
    "\n",
    "#nc, sz = 7, 40\n",
    "#en = {'e':'11','b':'00','o':'010','-':'011','p':'101','r':'1000','!':'1001'}\n",
    "#se = '0011111010110001001010101100111110001001'\n",
    "\n",
    "ht = [None, None]\n",
    "zu = {'0':0, '1':1}\n",
    "for ch, cc in en.items():\n",
    "    ti = tp = ht\n",
    "    for bc in cc:\n",
    "        bc = zu[bc]\n",
    "        if not ti[bc]:\n",
    "            ti[bc] = [None, None]\n",
    "        tp = ti\n",
    "        ti = ti[bc]\n",
    "    tp[bc] = ch\n",
    "#print(ht)\n",
    "so = []\n",
    "ti = ht\n",
    "for bc in se:\n",
    "    bc = zu[bc]\n",
    "    ti = ti[bc]\n",
    "    if type(ti) == str:\n",
    "        so.append(ti)\n",
    "        ti = ht\n",
    "print(''.join(so))"
   ]
  },
  {
   "cell_type": "code",
   "execution_count": 167,
   "metadata": {},
   "outputs": [
    {
     "name": "stdout",
     "output_type": "stream",
     "text": [
      "4 14\n",
      "a: 0\n",
      "b: 10\n",
      "c: 110\n",
      "d: 111\n",
      "01001100100111\n",
      "abacabad\n"
     ]
    }
   ],
   "source": [
    "# huffman decoding (solution #2)\n",
    "# https://stepik.org/lesson/13239/step/6\n",
    "\n",
    "nc, sz = map(int, input().split())\n",
    "en = [input().split(': ') for _ in range(nc)]\n",
    "se = input()\n",
    "\n",
    "#nc, sz = 4, 14\n",
    "#en = [('a','0'),('b','10'),('c','110'),('d','111')]\n",
    "#se = '01001100100111'\n",
    "\n",
    "#nc, sz = 7, 40\n",
    "#en = [('e','11'),('b','00'),('o','010'),('-','011'),('p','101'),('r','1000'),('!','1001')]\n",
    "#se = '0011111010110001001010101100111110001001'\n",
    "\n",
    "so = \"\"\n",
    "while se:\n",
    "    for ch, bc in en:\n",
    "        if se.startswith(bc):\n",
    "            so += ch\n",
    "            se = se[len(bc):]\n",
    "print(so)"
   ]
  },
  {
   "cell_type": "code",
   "execution_count": null,
   "metadata": {},
   "outputs": [],
   "source": [
    "# huffman practice\n",
    "# https://stepik.org/lesson/13245/step/1"
   ]
  },
  {
   "cell_type": "code",
   "execution_count": 208,
   "metadata": {},
   "outputs": [
    {
     "name": "stdout",
     "output_type": "stream",
     "text": [
      "Overwriting huffman.py\n"
     ]
    }
   ],
   "source": [
    "%%writefile huffman.py\n",
    "from collections import Counter, namedtuple\n",
    "from heapq import heapify, heappush, heappop\n",
    "\n",
    "class Node(namedtuple(\"Node\", [\"left\", \"right\"])):\n",
    "    def walk(self, code, acc):\n",
    "        self.left.walk(code, acc + \"0\")\n",
    "        self.right.walk(code, acc + \"1\")\n",
    "\n",
    "class Leaf(namedtuple(\"Leaf\", [\"char\"])):\n",
    "    def walk(self, code, acc):\n",
    "        code[self.char] = acc or \"0\"\n",
    "\n",
    "def huffman_encode(s):\n",
    "    heap = []\n",
    "    for ch, freq in Counter(s).items():\n",
    "        heap.append((freq, len(heap), Leaf(ch)))\n",
    "\n",
    "    heapify(heap)\n",
    "\n",
    "    count = len(heap)\n",
    "    while len(heap) > 1:\n",
    "        freq1, _count1, left = heappop(heap)\n",
    "        freq2, _count2, right = heappop(heap)\n",
    "        node = Node(left, right)\n",
    "        heappush(heap, (freq1 + freq2, count, node))\n",
    "        count += 1\n",
    "\n",
    "    code = {}\n",
    "    if heap:\n",
    "        [(_freq, _count, root)] = heap\n",
    "        root.walk(code, \"\")\n",
    "\n",
    "    return code\n",
    "\n",
    "def main():\n",
    "    s = input()\n",
    "    code = huffman_encode(s)\n",
    "    encoded = \"\".join(code[ch] for ch in s)\n",
    "    print(len(code), len(encoded))\n",
    "    for ch in sorted(code):\n",
    "        print(\"{}: {}\".format(ch, code[ch]))\n",
    "    print(encoded)\n",
    "\n",
    "def huffman_decode(code, encoded):\n",
    "    result = \"\"\n",
    "    while encoded:\n",
    "        for ch, seq in code.items():\n",
    "            if encoded.startswith(seq):\n",
    "                result += ch\n",
    "                encoded = encoded[len(seq):]\n",
    "                break\n",
    "    return result\n",
    "\n",
    "def test(n_iter=1000):\n",
    "    import random\n",
    "    import string\n",
    "    \n",
    "    for i in range(n_iter):\n",
    "        length = random.randint(0, 32)\n",
    "        s = \"\".join(random.choice(string.ascii_letters) for _ in range(length))\n",
    "        code = huffman_encode(s)\n",
    "        encoded = \"\".join(code[ch] for ch in s)\n",
    "        assert huffman_decode(code, encoded) == s\n",
    "\n",
    "    print(\"OK\")\n",
    "\n",
    "main()\n",
    "#test()"
   ]
  },
  {
   "cell_type": "code",
   "execution_count": 209,
   "metadata": {},
   "outputs": [
    {
     "name": "stdout",
     "output_type": "stream",
     "text": [
      "OK\n"
     ]
    }
   ],
   "source": [
    "%%bash\n",
    "python3 huffman.py <<< abcdabc"
   ]
  },
  {
   "cell_type": "code",
   "execution_count": 193,
   "metadata": {},
   "outputs": [
    {
     "name": "stdout",
     "output_type": "stream",
     "text": [
      "5 23\n",
      "a: 0\n",
      "b: 110\n",
      "c: 101\n",
      "d: 100\n",
      "r: 111\n",
      "01101110101010001101110\n"
     ]
    }
   ],
   "source": [
    "%%bash\n",
    "python3 huffman.py <<< abracadabra"
   ]
  },
  {
   "cell_type": "code",
   "execution_count": 194,
   "metadata": {},
   "outputs": [
    {
     "name": "stdout",
     "output_type": "stream",
     "text": [
      "1 1\n",
      "a: 0\n",
      "0\n"
     ]
    }
   ],
   "source": [
    "%%bash\n",
    "python3 huffman.py <<< a"
   ]
  },
  {
   "cell_type": "code",
   "execution_count": 195,
   "metadata": {},
   "outputs": [
    {
     "name": "stdout",
     "output_type": "stream",
     "text": [
      "1 5\n",
      "a: 0\n",
      "00000\n"
     ]
    }
   ],
   "source": [
    "%%bash\n",
    "python3 huffman.py <<< aaaaa"
   ]
  },
  {
   "cell_type": "code",
   "execution_count": 196,
   "metadata": {},
   "outputs": [
    {
     "name": "stdout",
     "output_type": "stream",
     "text": [
      "0 0\n",
      "\n"
     ]
    }
   ],
   "source": [
    "%%bash\n",
    "python3 huffman.py <<< \"\""
   ]
  },
  {
   "cell_type": "code",
   "execution_count": null,
   "metadata": {},
   "outputs": [],
   "source": []
  }
 ],
 "metadata": {
  "kernelspec": {
   "display_name": "Python 3",
   "language": "python",
   "name": "python3"
  },
  "language_info": {
   "codemirror_mode": {
    "name": "ipython",
    "version": 3
   },
   "file_extension": ".py",
   "mimetype": "text/x-python",
   "name": "python",
   "nbconvert_exporter": "python",
   "pygments_lexer": "ipython3",
   "version": "3.5.2"
  }
 },
 "nbformat": 4,
 "nbformat_minor": 2
}
