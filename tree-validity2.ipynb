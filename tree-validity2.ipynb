{
 "cells": [
  {
   "cell_type": "markdown",
   "metadata": {},
   "source": [
    "Данная задача полностью аналогична предыдущей, но проверять те-\n",
    "перь нужно более общее свойство. Дереву разрешается содержать\n",
    "равныеключи,ноонивсегдадолжнынаходитьсявправомподдереве.\n",
    "Формально, двоичное дерево называется деревом поиска, если для\n",
    "любой вершины её ключ больше всех ключей из её левого поддерева\n",
    "и **не меньше** всех ключей из правого поддерева."
   ]
  },
  {
   "cell_type": "code",
   "execution_count": 1,
   "metadata": {},
   "outputs": [],
   "source": [
    "%matplotlib inline\n",
    "from IPython.display import Image, HTML\n",
    "import networkx as nx"
   ]
  },
  {
   "cell_type": "code",
   "execution_count": 2,
   "metadata": {},
   "outputs": [],
   "source": [
    "class TreeNode:\n",
    "    def __init__(self):\n",
    "        self.key = self.left = self.right = None\n",
    "\n",
    "\n",
    "def parse_tree(lines):\n",
    "    if isinstance(lines, str):\n",
    "        lines = lines.split(';') if lines else []\n",
    "    tree = [TreeNode() for _ in range(len(lines))]\n",
    "    for num, line in enumerate(lines):\n",
    "        if isinstance(line, str):\n",
    "            key, left, right = map(int, line.strip().split())\n",
    "        tree[num].key = key\n",
    "        tree[num].num = num\n",
    "        if left != -1:\n",
    "            tree[num].left = tree[left]\n",
    "        if right != -1:\n",
    "            tree[num].right = tree[right]\n",
    "    return tree[0] if tree else None\n",
    "\n",
    "\n",
    "def draw_tree(tree, root=0,\n",
    "              width=.07, vgap=.05, vloc=0, xcenter=.5,\n",
    "              node_color='lightgray', node_size=800,\n",
    "              **kw):\n",
    "    if isinstance(tree, str):\n",
    "        tree = parse_tree(tree)\n",
    "    if tree is None:\n",
    "        return\n",
    "\n",
    "    def add_node(node):\n",
    "        num = node.num\n",
    "        if num not in graph.nodes:\n",
    "            graph.add_node(num)\n",
    "            labels[num] = str(node.key)\n",
    "        left = node.left\n",
    "        if left is not None:\n",
    "            add_node(left)\n",
    "            graph.add_edge(num, left.num)\n",
    "            labels[left.num] += '<'\n",
    "        right = node.right\n",
    "        if right is not None:\n",
    "            add_node(right)\n",
    "            graph.add_edge(num, right.num)\n",
    "            labels[right.num] += '>'\n",
    "\n",
    "    graph = nx.Graph()\n",
    "    labels = {}\n",
    "    add_node(tree)\n",
    "\n",
    "    def layout_hier(root, width, vloc, xcenter, pos=None, parent=None):\n",
    "        if pos is None:\n",
    "            pos = { root: (xcenter, vloc) }\n",
    "        else:\n",
    "            pos[root] = (xcenter, vloc)\n",
    "        neighbors = list(graph.neighbors(root))\n",
    "        if parent is not None:\n",
    "            neighbors.remove(parent)\n",
    "        if len(neighbors):\n",
    "            dx = width / len(neighbors) \n",
    "            nextx = xcenter - width/2 - dx/2\n",
    "            for neighbor in neighbors:\n",
    "                nextx += dx\n",
    "                pos = layout_hier(neighbor, width=dx, vloc=vloc-vgap, xcenter=nextx,\n",
    "                                  pos=pos, parent=root)\n",
    "        return pos\n",
    "\n",
    "    pos = layout_hier(root, width, vloc, xcenter)\n",
    "    return nx.draw(graph, pos=pos, with_labels=True, labels=labels,\n",
    "                   node_color=node_color, node_size=node_size,\n",
    "                   **kw)"
   ]
  },
  {
   "cell_type": "code",
   "execution_count": 3,
   "metadata": {},
   "outputs": [],
   "source": [
    "def test_validate2(validate):\n",
    "    tree = parse_tree('2 1 2;1 -1 -1;3 -1 -1')\n",
    "    assert validate(tree) == True\n",
    "\n",
    "    tree = parse_tree('1 1 2;2 -1 -1;3 -1 -1')\n",
    "    assert validate(tree) == False\n",
    "\n",
    "    tree = parse_tree('2 1 2;1 -1 -1;2 -1 -1')\n",
    "    assert validate(tree) == True\n",
    "\n",
    "    tree = parse_tree('2 1 2;2 -1 -1;3 -1 -1')\n",
    "    assert validate(tree) == False\n",
    "\n",
    "    tree = parse_tree('2147483647 -1 -1')\n",
    "    assert validate(tree) == True\n",
    "    \n",
    "    tree = parse_tree('30 1 2;20 -1 -1;50 3 4;40 -1 -1;60 -1 -1')\n",
    "    assert validate(tree) == True\n",
    "    \n",
    "    tree = parse_tree('30 1 2;20 -1 -1;50 3 4;30 -1 -1;60 -1 -1')\n",
    "    assert validate(tree) == True\n",
    "    \n",
    "    tree = parse_tree('30 1 2;20 -1 -1;50 3 4;29 -1 -1;60 -1 -1')\n",
    "    assert validate(tree) == False\n",
    "    \n",
    "    print('ok')"
   ]
  },
  {
   "cell_type": "code",
   "execution_count": 4,
   "metadata": {},
   "outputs": [
    {
     "name": "stdout",
     "output_type": "stream",
     "text": [
      "ok\n"
     ]
    }
   ],
   "source": [
    "def validate_recur_postorder(tree):\n",
    "    def recurse(node):\n",
    "        cur_val = cur_min = cur_max = node.key\n",
    "        if node.left:\n",
    "            left_min, left_max = recurse(node.left)\n",
    "            assert cur_val > left_max\n",
    "            cur_min = min(cur_min, left_min)\n",
    "            cur_max = max(cur_max, left_max)\n",
    "        if node.right:\n",
    "            right_min, right_max = recurse(node.right)\n",
    "            assert cur_val <= right_min\n",
    "            cur_min = min(cur_min, right_min)\n",
    "            cur_max = max(cur_max, right_max)\n",
    "        return cur_min, cur_max\n",
    "    try:\n",
    "        if isinstance(tree, str):\n",
    "            tree = parse_tree(tree)\n",
    "        if tree:\n",
    "            recurse(tree)\n",
    "        return True\n",
    "    except AssertionError:\n",
    "        return False\n",
    "\n",
    "test_validate2(validate_recur_postorder)"
   ]
  },
  {
   "cell_type": "markdown",
   "metadata": {},
   "source": [
    "#### Python без рекурсии.\n",
    "Используем стек текущей точки в дереве с поддержкой максимума/минимума.\n",
    "Пока ходим по дереву, всё время копим левую и правую границы допустимости\n",
    "(вначале они не определены).\n",
    "Шагая _влево_, уточняем _правую_ границу и сохраняем текущую точку+границы на стеке,\n",
    "чтобы впоследствии продолжить из неё движение, но уже вправо.\n",
    "Когда левые шаги исчерпались, вынимаем сохранённую точку+границы из стека\n",
    "и шагаем _вправо_, уточняя при этом _левую_ границу."
   ]
  },
  {
   "cell_type": "code",
   "execution_count": 5,
   "metadata": {},
   "outputs": [
    {
     "name": "stdout",
     "output_type": "stream",
     "text": [
      "ok\n"
     ]
    }
   ],
   "source": [
    "def validate_iter_inorder(tree):\n",
    "    node = parse_tree(tree) if isinstance(tree, str) else tree\n",
    "    stack = []\n",
    "    lval = rval = None\n",
    "    valid = True\n",
    "    while node or stack:\n",
    "        if node:\n",
    "            stack.append((node, lval, rval))\n",
    "            key = node.key\n",
    "            valid = ((lval is None or lval <= key) and\n",
    "                     (rval is None or key < rval))\n",
    "            if not valid:\n",
    "                return False\n",
    "            rval = key if rval is None else min(rval, key)\n",
    "            node = node.left\n",
    "            continue\n",
    "        node, lval, rval = stack.pop()\n",
    "        key = node.key\n",
    "        lval = key if lval is None else max(lval, key)\n",
    "        node = node.right\n",
    "    return valid\n",
    "\n",
    "test_validate2(validate_iter_inorder)"
   ]
  },
  {
   "cell_type": "code",
   "execution_count": 6,
   "metadata": {},
   "outputs": [
    {
     "name": "stdout",
     "output_type": "stream",
     "text": [
      "Writing tree-validity2.py\n"
     ]
    }
   ],
   "source": [
    "%%writefile tree-validity2.py\n",
    "#########\n",
    "# exam\n",
    "\n",
    "from collections import namedtuple\n",
    "Node = namedtuple('Node', ['key', 'left', 'right'])\n",
    "\n",
    "num = int(input())\n",
    "tree = [Node(*map(int, input().split())) for _ in range(num)]\n",
    "\n",
    "node = 0 if tree else -1\n",
    "stack = []\n",
    "lval = rval = None\n",
    "valid = True\n",
    "\n",
    "while node != -1 or stack:\n",
    "    if node != -1:\n",
    "        stack.append((node, lval, rval))\n",
    "        key = tree[node].key\n",
    "        valid = ((lval is None or lval <= key) and\n",
    "                 (rval is None or key < rval))\n",
    "        if not valid:\n",
    "            break\n",
    "        rval = key if rval is None else min(rval, key)\n",
    "        node = tree[node].left\n",
    "        continue\n",
    "    node, lval, rval = stack.pop()\n",
    "    key = tree[node].key\n",
    "    lval = key if lval is None else max(lval, key)\n",
    "    node = tree[node].right\n",
    "\n",
    "print(['INCORRECT','CORRECT'][valid])"
   ]
  },
  {
   "cell_type": "code",
   "execution_count": 7,
   "metadata": {},
   "outputs": [
    {
     "name": "stdout",
     "output_type": "stream",
     "text": [
      "CORRECT\n"
     ]
    }
   ],
   "source": [
    "%%bash\n",
    "python3 tree-validity2.py << EOF\n",
    "3\n",
    "2 1 2\n",
    "1 -1 -1\n",
    "3 -1 -1\n",
    "EOF\n",
    "# CORRECT?"
   ]
  },
  {
   "cell_type": "code",
   "execution_count": 8,
   "metadata": {},
   "outputs": [
    {
     "name": "stdout",
     "output_type": "stream",
     "text": [
      "INCORRECT\n"
     ]
    }
   ],
   "source": [
    "%%bash\n",
    "python3 tree-validity2.py << EOF\n",
    "3\n",
    "1 1 2\n",
    "2 -1 -1\n",
    "3 -1 -1\n",
    "EOF\n",
    "# INCORRECT?"
   ]
  },
  {
   "cell_type": "code",
   "execution_count": 9,
   "metadata": {},
   "outputs": [
    {
     "name": "stdout",
     "output_type": "stream",
     "text": [
      "CORRECT\n"
     ]
    }
   ],
   "source": [
    "%%bash\n",
    "python3 tree-validity2.py << EOF\n",
    "3\n",
    "2 1 2\n",
    "1 -1 -1\n",
    "2 -1 -1\n",
    "EOF\n",
    "# CORRECT?"
   ]
  },
  {
   "cell_type": "code",
   "execution_count": 10,
   "metadata": {},
   "outputs": [
    {
     "name": "stdout",
     "output_type": "stream",
     "text": [
      "INCORRECT\n"
     ]
    }
   ],
   "source": [
    "%%bash\n",
    "python3 tree-validity2.py << EOF\n",
    "3\n",
    "2 1 2\n",
    "2 -1 -1\n",
    "3 -1 -1\n",
    "EOF\n",
    "# INCORRECT?"
   ]
  },
  {
   "cell_type": "code",
   "execution_count": 11,
   "metadata": {},
   "outputs": [
    {
     "name": "stdout",
     "output_type": "stream",
     "text": [
      "CORRECT\n"
     ]
    }
   ],
   "source": [
    "%%bash\n",
    "python3 tree-validity2.py << EOF\n",
    "1\n",
    "2147483647 -1 -1\n",
    "EOF\n",
    "# CORRECT?"
   ]
  },
  {
   "cell_type": "code",
   "execution_count": 12,
   "metadata": {},
   "outputs": [
    {
     "name": "stdout",
     "output_type": "stream",
     "text": [
      "CORRECT\n"
     ]
    }
   ],
   "source": [
    "%%bash\n",
    "python3 tree-validity2.py << EOF\n",
    "5\n",
    "30 1 2\n",
    "20 -1 -1\n",
    "50 3 4\n",
    "30 -1 -1\n",
    "60 -1 -1\n",
    "EOF\n",
    "# CORRECT?"
   ]
  },
  {
   "cell_type": "code",
   "execution_count": 13,
   "metadata": {},
   "outputs": [
    {
     "name": "stdout",
     "output_type": "stream",
     "text": [
      "INCORRECT\n"
     ]
    }
   ],
   "source": [
    "%%bash\n",
    "python3 tree-validity2.py << EOF\n",
    "5\n",
    "30 1 2\n",
    "20 -1 -1\n",
    "50 3 4\n",
    "25 -1 -1\n",
    "60 -1 -1\n",
    "EOF\n",
    "# INCORRECT?"
   ]
  }
 ],
 "metadata": {
  "kernelspec": {
   "display_name": "Python 3",
   "language": "python",
   "name": "python3"
  },
  "language_info": {
   "codemirror_mode": {
    "name": "ipython",
    "version": 3
   },
   "file_extension": ".py",
   "mimetype": "text/x-python",
   "name": "python",
   "nbconvert_exporter": "python",
   "pygments_lexer": "ipython3",
   "version": "3.5.2"
  }
 },
 "nbformat": 4,
 "nbformat_minor": 2
}
