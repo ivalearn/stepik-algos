{
 "cells": [
  {
   "cell_type": "markdown",
   "metadata": {},
   "source": [
    "верно ли, что для любой вершины дерева её ключ\n",
    "больше всех ключей в левом поддереве данной вершины и\n",
    "меньше всех ключей в правом поддереве."
   ]
  },
  {
   "cell_type": "code",
   "execution_count": 1,
   "metadata": {},
   "outputs": [],
   "source": [
    "%matplotlib inline\n",
    "from IPython.display import Image, HTML\n",
    "import networkx as nx\n",
    "\n",
    "class TreeNode:\n",
    "    def __init__(self):\n",
    "        self.key = self.num = self.left = self.right = None\n",
    "\n",
    "\n",
    "def parse_tree(lines):\n",
    "    if isinstance(lines, str):\n",
    "        lines = lines.split(';') if lines else []\n",
    "    tree = [TreeNode() for _ in range(len(lines))]\n",
    "    for num, line in enumerate(lines):\n",
    "        if isinstance(line, str):\n",
    "            key, left, right = map(int, line.strip().split())\n",
    "        tree[num].num = num\n",
    "        tree[num].key = key\n",
    "        if left != -1:\n",
    "            tree[num].left = tree[left]\n",
    "        if right != -1:\n",
    "            tree[num].right = tree[right]\n",
    "    return tree[0] if tree else None\n",
    "\n",
    "\n",
    "def draw_tree(tree, root=0,\n",
    "              width=.07, vgap=.05, vloc=0, xcenter=.5,\n",
    "              node_color='lightgray', node_size=700,\n",
    "              **kw):\n",
    "    if isinstance(tree, str):\n",
    "        tree = parse_tree(tree)\n",
    "    if tree is None:\n",
    "        return\n",
    "\n",
    "    def add_node(node):\n",
    "        num = node.num\n",
    "        if num not in graph.nodes:\n",
    "            graph.add_node(num)\n",
    "            labels[num] = str(node.key)\n",
    "        left = node.left\n",
    "        if left is not None:\n",
    "            add_node(left)\n",
    "            graph.add_edge(num, left.num)\n",
    "            if not (node.left and node.right):\n",
    "                labels[left.num] += '<'\n",
    "        right = node.right\n",
    "        if right is not None:\n",
    "            add_node(right)\n",
    "            graph.add_edge(num, right.num)\n",
    "            if not (node.left and node.right):\n",
    "                labels[right.num] += '>'\n",
    "\n",
    "    graph = nx.Graph()\n",
    "    labels = {}\n",
    "    add_node(tree)\n",
    "\n",
    "    def layout_hier(root, width, vloc, xcenter, pos=None, parent=None):\n",
    "        if pos is None:\n",
    "            pos = { root: (xcenter, vloc) }\n",
    "        else:\n",
    "            pos[root] = (xcenter, vloc)\n",
    "        neighbors = list(graph.neighbors(root))\n",
    "        if parent is not None:\n",
    "            neighbors.remove(parent)\n",
    "        if len(neighbors):\n",
    "            dx = width / len(neighbors) \n",
    "            nextx = xcenter - width/2 - dx/2\n",
    "            for neighbor in neighbors:\n",
    "                nextx += dx\n",
    "                pos = layout_hier(neighbor, width=dx, vloc=vloc-vgap, xcenter=nextx,\n",
    "                                  pos=pos, parent=root)\n",
    "        return pos\n",
    "\n",
    "    pos = layout_hier(root, width, vloc, xcenter)\n",
    "    return nx.draw(graph, pos=pos, with_labels=True, labels=labels,\n",
    "                   node_color=node_color, node_size=node_size,\n",
    "                   **kw)"
   ]
  },
  {
   "cell_type": "code",
   "execution_count": 2,
   "metadata": {},
   "outputs": [],
   "source": [
    "draw_tree('')"
   ]
  },
  {
   "cell_type": "code",
   "execution_count": 3,
   "metadata": {},
   "outputs": [
    {
     "data": {
      "image/png": "[encoded data removed]",
      "text/plain": [
       "<Figure size 432x288 with 1 Axes>"
      ]
     },
     "metadata": {},
     "output_type": "display_data"
    }
   ],
   "source": [
    "draw_tree('0 7 2;10 -1 -1;20 -1 6;30 8 9;40 3 -1;50 -1 -1;60 1 -1;70 5 4;80 -1 -1;90 -1 -1')"
   ]
  },
  {
   "cell_type": "code",
   "execution_count": 4,
   "metadata": {},
   "outputs": [],
   "source": [
    "def test_validation(validate):\n",
    "    tree = parse_tree('')\n",
    "    assert validate(tree) == True\n",
    "\n",
    "    tree = parse_tree('2 1 2;1 -1 -1;3 -1 -1')\n",
    "    assert validate(tree) == True\n",
    "\n",
    "    tree = parse_tree('1 1 2;2 -1 -1;3 -1 -1')\n",
    "    assert validate(tree) == False\n",
    "\n",
    "    print('ok')"
   ]
  },
  {
   "cell_type": "code",
   "execution_count": 5,
   "metadata": {},
   "outputs": [
    {
     "name": "stdout",
     "output_type": "stream",
     "text": [
      "ok\n"
     ]
    }
   ],
   "source": [
    "def validate_recur_postorder(root):\n",
    "    def recurse(node):\n",
    "        cur_val = cur_min = cur_max = node.key\n",
    "        if node.left:\n",
    "            left_min, left_max = recurse(node.left)\n",
    "            assert cur_val > left_max\n",
    "            cur_min = min(cur_min, left_min)\n",
    "            cur_max = max(cur_max, left_max)\n",
    "        if node.right:\n",
    "            right_min, right_max = recurse(node.right)\n",
    "            assert cur_val < right_min\n",
    "            cur_min = min(cur_min, right_min)\n",
    "            cur_max = max(cur_max, right_max)\n",
    "        return cur_min, cur_max\n",
    "    try:\n",
    "        if root:\n",
    "            recurse(root)\n",
    "        return True\n",
    "    except AssertionError:\n",
    "        return False\n",
    "\n",
    "test_validation(validate_recur_postorder)"
   ]
  },
  {
   "cell_type": "code",
   "execution_count": 6,
   "metadata": {},
   "outputs": [
    {
     "name": "stdout",
     "output_type": "stream",
     "text": [
      "ok\n"
     ]
    }
   ],
   "source": [
    "def validate_recur_inorder(root):\n",
    "    curval = None\n",
    "    def recurse(node):\n",
    "        if node.left:\n",
    "            recurse(node.left)\n",
    "        nonlocal curval\n",
    "        if curval is not None:\n",
    "            assert node.key > curval\n",
    "        curval = node.key\n",
    "        if node.right:\n",
    "            recurse(node.right)\n",
    "    try:\n",
    "        if root:\n",
    "            recurse(root)\n",
    "        return True\n",
    "    except AssertionError:\n",
    "        return False\n",
    "\n",
    "test_validation(validate_recur_inorder)"
   ]
  },
  {
   "cell_type": "code",
   "execution_count": 7,
   "metadata": {},
   "outputs": [
    {
     "name": "stdout",
     "output_type": "stream",
     "text": [
      "ok\n"
     ]
    }
   ],
   "source": [
    "def validate_iter_inorder(node):\n",
    "    oldval = None\n",
    "    stack = []\n",
    "    while node or stack:\n",
    "        if node:\n",
    "            stack.append(node)\n",
    "            node = node.left\n",
    "            continue\n",
    "        node = stack.pop()\n",
    "        curval = node.key\n",
    "        node = node.right\n",
    "        if oldval is not None and curval <= oldval:\n",
    "            return False\n",
    "        oldval = curval\n",
    "    return True\n",
    "\n",
    "test_validation(validate_iter_inorder)"
   ]
  },
  {
   "cell_type": "code",
   "execution_count": 8,
   "metadata": {},
   "outputs": [
    {
     "name": "stdout",
     "output_type": "stream",
     "text": [
      "Writing tree-validity-rec.py\n"
     ]
    }
   ],
   "source": [
    "%%writefile tree-validity-rec.py\n",
    "################################\n",
    "# like exam, but recirsive\n",
    "\n",
    "from collections import namedtuple\n",
    "\n",
    "TupleNode = namedtuple('TupleNode', ['key', 'left', 'right'])\n",
    "\n",
    "def validate_rec(tree, node=0):\n",
    "    cur_val = cur_min = cur_max = tree[node].key\n",
    "    left = tree[node].left\n",
    "    if left >= 0:\n",
    "        left_min, left_max = validate_rec(tree, left)\n",
    "        assert cur_val > left_max\n",
    "        cur_min = min(cur_min, left_min)\n",
    "        cur_max = max(cur_max, left_max)\n",
    "    right = tree[node].right\n",
    "    if right >= 0:\n",
    "        right_min, right_max = validate_rec(tree, right)\n",
    "        assert cur_val < right_min\n",
    "        cur_min = min(cur_min, right_min)\n",
    "        cur_max = max(cur_max, right_max)\n",
    "    return cur_min, cur_max\n",
    "\n",
    "def main():\n",
    "    num_nodes = int(input())\n",
    "    tree = [TupleNode(*map(int, input().split()))\n",
    "            for i in range(num_nodes)]\n",
    "    try:\n",
    "        if tree:\n",
    "            validate_rec(tree)\n",
    "        print('CORRECT')\n",
    "    except AssertionError:\n",
    "        print('INCORRECT')\n",
    "\n",
    "if __name__ == '__main__':\n",
    "    import sys\n",
    "    sys.setrecursionlimit(65536)\n",
    "    main()"
   ]
  },
  {
   "cell_type": "code",
   "execution_count": 9,
   "metadata": {},
   "outputs": [
    {
     "name": "stdout",
     "output_type": "stream",
     "text": [
      "CORRECT\n"
     ]
    }
   ],
   "source": [
    "%%bash\n",
    "python3 tree-validity-rec.py <<EOF\n",
    "3\n",
    "2 1 2\n",
    "1 -1 -1\n",
    "3 -1 -1\n",
    "EOF\n",
    "# expect: CORRECT"
   ]
  },
  {
   "cell_type": "code",
   "execution_count": 10,
   "metadata": {},
   "outputs": [
    {
     "name": "stdout",
     "output_type": "stream",
     "text": [
      "INCORRECT\n"
     ]
    }
   ],
   "source": [
    "%%bash\n",
    "python3 tree-validity-rec.py <<EOF\n",
    "3\n",
    "1 1 2\n",
    "2 -1 -1\n",
    "3 -1 -1\n",
    "EOF\n",
    "# expect: INCORRECT"
   ]
  },
  {
   "cell_type": "code",
   "execution_count": 11,
   "metadata": {},
   "outputs": [
    {
     "name": "stdout",
     "output_type": "stream",
     "text": [
      "CORRECT\n"
     ]
    }
   ],
   "source": [
    "%%bash\n",
    "python3 tree-validity-rec.py <<EOF\n",
    "0\n",
    "EOF\n",
    "# expect: CORRECT"
   ]
  },
  {
   "cell_type": "code",
   "execution_count": 12,
   "metadata": {},
   "outputs": [
    {
     "name": "stdout",
     "output_type": "stream",
     "text": [
      "Writing tree-validity-seq.py\n"
     ]
    }
   ],
   "source": [
    "%%writefile tree-validity-seq.py\n",
    "#########\n",
    "# exam\n",
    "\n",
    "from collections import namedtuple\n",
    "\n",
    "\n",
    "def validate_seq():\n",
    "    node, stack, oldval = 0, [], None\n",
    "    while tree and node >= 0 or stack:\n",
    "        if node >= 0:\n",
    "            stack.append(node)\n",
    "            node = tree[node].left\n",
    "            continue\n",
    "        node = stack.pop()\n",
    "        curval = tree[node].key\n",
    "        node = tree[node].right\n",
    "        if oldval is not None and curval <= oldval:\n",
    "            return False\n",
    "        oldval = curval\n",
    "    return True\n",
    "\n",
    "\n",
    "num_nodes = int(input())\n",
    "TupleNode = namedtuple('TupleNode', ['key', 'left', 'right'])\n",
    "tree = [TupleNode(*map(int, input().split())) for _ in range(num_nodes)]\n",
    "print(['INCORRECT', 'CORRECT'][validate_seq()])\n"
   ]
  },
  {
   "cell_type": "code",
   "execution_count": 13,
   "metadata": {},
   "outputs": [
    {
     "name": "stdout",
     "output_type": "stream",
     "text": [
      "CORRECT\n"
     ]
    }
   ],
   "source": [
    "%%bash\n",
    "python3 tree-validity-seq.py <<EOF\n",
    "3\n",
    "2 1 2\n",
    "1 -1 -1\n",
    "3 -1 -1\n",
    "EOF\n",
    "# expect: CORRECT"
   ]
  },
  {
   "cell_type": "code",
   "execution_count": 14,
   "metadata": {},
   "outputs": [
    {
     "name": "stdout",
     "output_type": "stream",
     "text": [
      "INCORRECT\n"
     ]
    }
   ],
   "source": [
    "%%bash\n",
    "python3 tree-validity-seq.py <<EOF\n",
    "3\n",
    "1 1 2\n",
    "2 -1 -1\n",
    "3 -1 -1\n",
    "EOF\n",
    "# expect: INCORRECT"
   ]
  },
  {
   "cell_type": "code",
   "execution_count": 15,
   "metadata": {},
   "outputs": [
    {
     "name": "stdout",
     "output_type": "stream",
     "text": [
      "CORRECT\n"
     ]
    }
   ],
   "source": [
    "%%bash\n",
    "python3 tree-validity-seq.py <<EOF\n",
    "0\n",
    "EOF\n",
    "# expect: CORRECT"
   ]
  },
  {
   "cell_type": "code",
   "execution_count": null,
   "metadata": {},
   "outputs": [],
   "source": []
  }
 ],
 "metadata": {
  "kernelspec": {
   "display_name": "Python 3",
   "language": "python",
   "name": "python3"
  },
  "language_info": {
   "codemirror_mode": {
    "name": "ipython",
    "version": 3
   },
   "file_extension": ".py",
   "mimetype": "text/x-python",
   "name": "python",
   "nbconvert_exporter": "python",
   "pygments_lexer": "ipython3",
   "version": "3.5.2"
  }
 },
 "nbformat": 4,
 "nbformat_minor": 2
}
