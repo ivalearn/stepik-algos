{
 "cells": [
  {
   "cell_type": "code",
   "execution_count": 28,
   "metadata": {},
   "outputs": [
    {
     "name": "stdout",
     "output_type": "stream",
     "text": [
      "OK\n"
     ]
    }
   ],
   "source": [
    "def build_minheap(a):\n",
    "    n = len(a)\n",
    "    res = []\n",
    "    for p in range(n//2, -1, -1):\n",
    "        c = p+p+1\n",
    "        while c < n:\n",
    "            if c+1 < n:\n",
    "                if a[p] <= min(a[c], a[c+1]):\n",
    "                    break\n",
    "                if a[c+1] < a[c]:\n",
    "                    c += 1\n",
    "            elif a[p] <= a[c]:\n",
    "                break\n",
    "            a[p], a[c] = a[c], a[p]\n",
    "            res.append((p, c))\n",
    "            p = c\n",
    "            c = p+p+1\n",
    "    return res\n",
    "\n",
    "def test():\n",
    "    assert build_minheap([5,4,3,2,1]) == [(1,4),(0,1),(1,3)]\n",
    "    assert build_minheap([1,2,3,4,5]) == []\n",
    "    assert build_minheap([7,6,5,4,3,2]) == [(2,5),(1,4),(0,2),(2,5)]\n",
    "    print(\"OK\")\n",
    "\n",
    "    \n",
    "def main():\n",
    "    input()\n",
    "    res = build_minheap(list(map(int, input().split())))\n",
    "    print(len(res))\n",
    "    for ab in res:\n",
    "        print(*ab)\n",
    "build_minheap([7,6,5,4,3,2])\n",
    "test()"
   ]
  },
  {
   "cell_type": "code",
   "execution_count": null,
   "metadata": {},
   "outputs": [],
   "source": []
  }
 ],
 "metadata": {
  "kernelspec": {
   "display_name": "Python 3",
   "language": "python",
   "name": "python3"
  },
  "language_info": {
   "codemirror_mode": {
    "name": "ipython",
    "version": 3
   },
   "file_extension": ".py",
   "mimetype": "text/x-python",
   "name": "python",
   "nbconvert_exporter": "python",
   "pygments_lexer": "ipython3",
   "version": "3.5.2"
  }
 },
 "nbformat": 4,
 "nbformat_minor": 2
}
