{
 "cells": [
  {
   "cell_type": "code",
   "execution_count": 174,
   "metadata": {},
   "outputs": [],
   "source": [
    "def main(dots_in_cuts):\n",
    "    from sys import stdin\n",
    "    reader = (list(map(int, line.split())) for line in stdin)\n",
    "    n_cuts, n_dots = next(reader)\n",
    "    cuts = [next(reader) for _ in range(n_cuts)]\n",
    "    dots = next(reader)\n",
    "    assert len(dots) == n_dots\n",
    "    print(*dots_in_cuts(dots, cuts))\n",
    "\n",
    "\n",
    "def test(dots_in_cuts, nmax=10**3, niter=100):\n",
    "    from random import randint\n",
    "    from time import perf_counter as timer\n",
    "    from sys import stderr\n",
    "\n",
    "    assert dots_in_cuts([], [(1,5),(7,9)]) == []\n",
    "    assert dots_in_cuts([5], []) == [0]\n",
    "    assert dots_in_cuts([3], [(1,6),(5,3),(1,6)]) == [2]\n",
    "    result1 = dots_in_cuts([1,6,11], [(8,9),(0,5)])\n",
    "    assert result1 == [1,0,0], \"got {}\".format(result1)\n",
    "    result2 = dots_in_cuts([1,6,11], [(0,5),(7,10)])\n",
    "    assert result2 == [1,0,0], \"got {}\".format(result2)\n",
    "\n",
    "    xmax = 10**6\n",
    "    xmin = -xmax\n",
    "    tmax = 10\n",
    "\n",
    "    maxtime = maxiter = 0\n",
    "    for t in range(niter):\n",
    "        dots = [randint(xmin, xmax) for _ in range(randint(0, nmax))]\n",
    "        cuts = [(min(a,b), max(a,b))\n",
    "                for a,b in ((randint(xmin,xmax), randint(xmin, xmax))\n",
    "                            for _ in range(randint(0, nmax)))]\n",
    "        t1 = timer()\n",
    "        real_result = dots_in_cuts(dots, cuts)\n",
    "        t2 = timer()\n",
    "        naive_result = [sum(c[0]<=d<=c[1] for c in cuts) for d in dots]\n",
    "        assert real_result == naive_result\n",
    "        assert t2-t1 < tmax\n",
    "        maxtime = max(maxtime, t2-t1)\n",
    "        maxiter = max(maxiter, (t2-t1) / (len(dots) * len(cuts) + 1))\n",
    "        if t % 10:\n",
    "            stderr.write(\".\")\n",
    "\n",
    "    stderr.flush()\n",
    "    print(\"ok {:.3f}ms {:.3f}us\".format(maxtime*1e3, maxiter*1e6))"
   ]
  },
  {
   "cell_type": "code",
   "execution_count": 175,
   "metadata": {},
   "outputs": [
    {
     "name": "stderr",
     "output_type": "stream",
     "text": [
      ".........................................................................................."
     ]
    },
    {
     "name": "stdout",
     "output_type": "stream",
     "text": [
      "ok 103.446ms 0.386us\n"
     ]
    }
   ],
   "source": [
    "def dots_in_cuts1(dots, cuts):\n",
    "    from itertools import groupby\n",
    "\n",
    "    if not cuts:\n",
    "        return [0] * len(dots)\n",
    "    if not dots:\n",
    "        return []\n",
    "\n",
    "    cl, cr, cn = zip(*((c[0], c[1], sum(1 for _ in g))\n",
    "                       for c, g in groupby(sorted(cuts))\n",
    "                       if c[0] <= c[1]))\n",
    "    n = len(cn)-1\n",
    "\n",
    "    counts = []\n",
    "    for d in dots:\n",
    "        if d < cl[0]:\n",
    "            counts.append(0)\n",
    "            continue\n",
    "\n",
    "        # looking for the rightmost cut containing the dot\n",
    "        l, r = 0, n\n",
    "        while l < r:\n",
    "            # the mid point must be rounded up to avoid endless loop\n",
    "            m = (l + r + 1) // 2\n",
    "            if cl[m] > d:\n",
    "                r = m-1\n",
    "            else:\n",
    "                l = m\n",
    "        # the above code is equivalent to:\n",
    "        if False:\n",
    "            for l in range(n-1,-1,-1):\n",
    "                if a[l] <= d:\n",
    "                    break\n",
    "\n",
    "\n",
    "        counts.append(sum(cn[j] for j in range(l+1) if d <= cr[j]))\n",
    "\n",
    "    return counts\n",
    "\n",
    "test(dots_in_cuts1)"
   ]
  },
  {
   "cell_type": "code",
   "execution_count": 190,
   "metadata": {},
   "outputs": [
    {
     "name": "stdout",
     "output_type": "stream",
     "text": [
      "100\n",
      "200\n",
      "300\n",
      "400\n",
      "500\n",
      "600\n",
      "700\n",
      "800\n",
      "900\n",
      "ok\n"
     ]
    }
   ],
   "source": [
    "def test2():\n",
    "    from random import randint\n",
    "    for n in range(1,1000):\n",
    "        if n % 100 == 0:\n",
    "            print(n)\n",
    "        a = sorted(randint(1,10**4) for _ in range(n))\n",
    "        for d in range(min(a)-1, max(a)+1):\n",
    "            l, r = 0, n-1\n",
    "            while l < r:\n",
    "                m = (l + r + 1) // 2\n",
    "                if a[m] > d:\n",
    "                    r = m-1\n",
    "                else:\n",
    "                    l = m\n",
    "            for i in range(n-1,-1,-1):\n",
    "                if a[i] <= d:\n",
    "                    break\n",
    "            assert i == l\n",
    "    print(\"ok\")\n",
    "test2()"
   ]
  },
  {
   "cell_type": "code",
   "execution_count": null,
   "metadata": {},
   "outputs": [],
   "source": []
  }
 ],
 "metadata": {
  "kernelspec": {
   "display_name": "Python 3",
   "language": "python",
   "name": "python3"
  },
  "language_info": {
   "codemirror_mode": {
    "name": "ipython",
    "version": 3
   },
   "file_extension": ".py",
   "mimetype": "text/x-python",
   "name": "python",
   "nbconvert_exporter": "python",
   "pygments_lexer": "ipython3",
   "version": "3.5.2"
  }
 },
 "nbformat": 4,
 "nbformat_minor": 2
}
