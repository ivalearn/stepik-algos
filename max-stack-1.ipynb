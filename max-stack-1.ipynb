{
 "cells": [
  {
   "cell_type": "code",
   "execution_count": 43,
   "metadata": {},
   "outputs": [
    {
     "name": "stdout",
     "output_type": "stream",
     "text": [
      "Overwriting max_stack.py\n"
     ]
    }
   ],
   "source": [
    "%%writefile max_stack.py\n",
    "# max stack\n",
    "from sys import stdin\n",
    "stack, maxes = [], []\n",
    "num = int(stdin.readline())\n",
    "for lineno in range(num):\n",
    "    line = stdin.readline()\n",
    "    if line.startswith(\"push\"):\n",
    "        x = int(line[5:])\n",
    "        stack.append(x)\n",
    "        maxes.append(max(x, maxes[-1]) if maxes else x)\n",
    "    elif line.startswith(\"pop\"):\n",
    "        stack.pop()\n",
    "        maxes.pop()\n",
    "    elif line.startswith(\"max\"):\n",
    "        print(maxes[-1])"
   ]
  },
  {
   "cell_type": "code",
   "execution_count": 44,
   "metadata": {},
   "outputs": [],
   "source": [
    "%%bash\n",
    "python3 max_stack.py << EOF\n",
    "3\n",
    "push 1\n",
    "push 7\n",
    "pop\n",
    "EOF"
   ]
  },
  {
   "cell_type": "code",
   "execution_count": 45,
   "metadata": {},
   "outputs": [
    {
     "name": "stdout",
     "output_type": "stream",
     "text": [
      "9\n",
      "9\n",
      "9\n",
      "9\n"
     ]
    }
   ],
   "source": [
    "%%bash\n",
    "python3 max_stack.py << EOF\n",
    "10\n",
    "push 2\n",
    "push 3\n",
    "push 9\n",
    "push 7\n",
    "push 2\n",
    "max\n",
    "max\n",
    "max\n",
    "pop\n",
    "max\n",
    "EOF"
   ]
  },
  {
   "cell_type": "code",
   "execution_count": 46,
   "metadata": {},
   "outputs": [
    {
     "name": "stdout",
     "output_type": "stream",
     "text": [
      "2\n",
      "1\n"
     ]
    }
   ],
   "source": [
    "%%bash\n",
    "python3 max_stack.py << EOF\n",
    "5\n",
    "push 1\n",
    "push 2\n",
    "max\n",
    "pop\n",
    "max\n",
    "EOF"
   ]
  }
 ],
 "metadata": {
  "kernelspec": {
   "display_name": "Python 3",
   "language": "python",
   "name": "python3"
  },
  "language_info": {
   "codemirror_mode": {
    "name": "ipython",
    "version": 3
   },
   "file_extension": ".py",
   "mimetype": "text/x-python",
   "name": "python",
   "nbconvert_exporter": "python",
   "pygments_lexer": "ipython3",
   "version": "3.5.2"
  }
 },
 "nbformat": 4,
 "nbformat_minor": 2
}
