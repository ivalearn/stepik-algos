{
 "cells": [
  {
   "cell_type": "markdown",
   "metadata": {},
   "source": [
    "## [Высота дерева](https://stepik.org/lesson/41234/step/2)"
   ]
  },
  {
   "cell_type": "code",
   "execution_count": 38,
   "metadata": {},
   "outputs": [
    {
     "name": "stdout",
     "output_type": "stream",
     "text": [
      "OK\n"
     ]
    }
   ],
   "source": [
    "def tree_height(parents):\n",
    "    root = -1\n",
    "    children = [[] for _ in parents]\n",
    "    for child, parent in enumerate(parents):\n",
    "        if parent < 0:\n",
    "            root = child\n",
    "        else:\n",
    "            children[parent].append(child)\n",
    "    height = [0] * len(parents)\n",
    "    stack = [root]\n",
    "    while stack:\n",
    "        parent, ready = stack[-1], True\n",
    "        for child in children[parent]:\n",
    "            if height[child]:\n",
    "                height[parent] = max(height[parent], height[child])\n",
    "            else:\n",
    "                stack.append(child)\n",
    "                ready = False\n",
    "        if ready:\n",
    "            height[parent] += 1\n",
    "            stack.pop()\n",
    "    return height[root]\n",
    "\n",
    "def main():\n",
    "    input()\n",
    "    print(tree_height(list(map(int, input().split()))))\n",
    "\n",
    "def test():\n",
    "    assert tree_height([9,7,5,5,2,9,9,9,2,-1]) == 4\n",
    "    assert tree_height([4,-1,4,1,1]) == 3\n",
    "    assert tree_height([-1,0,4,0,3]) == 4\n",
    "    print(\"OK\")\n",
    "\n",
    "test()"
   ]
  }
 ],
 "metadata": {
  "kernelspec": {
   "display_name": "Python 3",
   "language": "python",
   "name": "python3"
  },
  "language_info": {
   "codemirror_mode": {
    "name": "ipython",
    "version": 3
   },
   "file_extension": ".py",
   "mimetype": "text/x-python",
   "name": "python",
   "nbconvert_exporter": "python",
   "pygments_lexer": "ipython3",
   "version": "3.5.2"
  }
 },
 "nbformat": 4,
 "nbformat_minor": 2
}
