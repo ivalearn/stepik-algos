{
 "cells": [
  {
   "cell_type": "markdown",
   "metadata": {},
   "source": [
    "## [Хеширование цепочками](https://stepik.org/lesson/41562/step/2)\n",
    "\n",
    "([условия задач.pdf](https://stepik.org/media/attachments/lesson/41233/statements.pdf))"
   ]
  },
  {
   "cell_type": "code",
   "execution_count": 35,
   "metadata": {},
   "outputs": [
    {
     "name": "stdout",
     "output_type": "stream",
     "text": [
      "OK\n"
     ]
    }
   ],
   "source": [
    "def poly_hash(word):\n",
    "    ind, mul = 0, 1\n",
    "    for ch in word:\n",
    "        ind = (ind + ord(ch) * mul) % 1000000007\n",
    "        mul *= 263\n",
    "    return ind\n",
    "\n",
    "def hash_program(hash_size, n_reqs, reqs):\n",
    "    table = [None] * hash_size\n",
    "    for req in reqs:\n",
    "        cmd, word = req.split()\n",
    "        if cmd != \"check\":\n",
    "            ind = poly_hash(word) % hash_size\n",
    "        if cmd == \"add\":\n",
    "            if table[ind]:\n",
    "                if word not in table[ind]:\n",
    "                    table[ind].insert(0, word)\n",
    "            else:\n",
    "                table[ind] = [word]\n",
    "        elif cmd == \"del\":\n",
    "            if word in table[ind]:\n",
    "                table[ind].remove(word)\n",
    "        elif cmd == \"find\":\n",
    "            yield [\"no\", \"yes\"][word in (table[ind] or [])]\n",
    "        elif cmd == \"check\":\n",
    "            ind = int(word)\n",
    "            yield ' '.join(table[ind] or [])\n",
    "\n",
    "def test():\n",
    "    assert list(hash_program(4, 8, [\n",
    "        'add test', 'add test', 'find test', 'del test', 'find test',\n",
    "        'find Test', 'add Test', 'find Test'\n",
    "        ])) == ['yes','no','no','yes']\n",
    "    assert list(hash_program(5, 12, [\n",
    "        'add world', 'add HellO', 'check 4',\n",
    "        'find World', 'find world', 'del world', 'check 4',\n",
    "        'del HellO', 'add luck', 'add GooD', 'check 2'\n",
    "        ])) == ['HellO world', 'no', 'yes', 'HellO', 'GooD luck']\n",
    "    print(\"OK\")\n",
    "    \n",
    "test()"
   ]
  },
  {
   "cell_type": "code",
   "execution_count": 41,
   "metadata": {},
   "outputs": [
    {
     "name": "stdout",
     "output_type": "stream",
     "text": [
      "Overwriting chain-hasher.py\n"
     ]
    }
   ],
   "source": [
    "%%writefile chain-hasher.py\n",
    "from sys import stdin\n",
    "\n",
    "hash_size = int(next(stdin))\n",
    "n_reqs = int(next(stdin))\n",
    "table = [[] for _ in range(hash_size)]\n",
    "for line in stdin:\n",
    "    cmd, word = line.split()\n",
    "    if cmd == \"check\":\n",
    "        ind = int(word)\n",
    "    else:\n",
    "        ind, mul = 0, 1\n",
    "        for ch in word:\n",
    "            ind = (ind + ord(ch) * mul) % 1000000007\n",
    "            mul *= 263\n",
    "        ind %= hash_size\n",
    "    if cmd == \"add\":\n",
    "        if word not in table[ind]:\n",
    "            table[ind].insert(0, word)\n",
    "    elif cmd == \"del\":\n",
    "        if word in table[ind]:\n",
    "            table[ind].remove(word)\n",
    "    elif cmd == \"find\":\n",
    "        print([\"no\", \"yes\"][word in table[ind]])\n",
    "    elif cmd == \"check\":\n",
    "        print(*table[ind])"
   ]
  },
  {
   "cell_type": "code",
   "execution_count": 42,
   "metadata": {},
   "outputs": [
    {
     "name": "stdout",
     "output_type": "stream",
     "text": [
      "HellO world\n",
      "no\n",
      "yes\n",
      "HellO\n",
      "GooD luck\n"
     ]
    }
   ],
   "source": [
    "%%bash\n",
    "python3 chain-hasher.py <<EOF\n",
    "5\n",
    "12\n",
    "add world\n",
    "add HellO\n",
    "check 4\n",
    "find World\n",
    "find world\n",
    "del world\n",
    "check 4\n",
    "del HellO\n",
    "add luck\n",
    "add GooD\n",
    "check 2\n",
    "del good\n",
    "EOF"
   ]
  },
  {
   "cell_type": "code",
   "execution_count": null,
   "metadata": {},
   "outputs": [],
   "source": []
  }
 ],
 "metadata": {
  "kernelspec": {
   "display_name": "Python 3",
   "language": "python",
   "name": "python3"
  },
  "language_info": {
   "codemirror_mode": {
    "name": "ipython",
    "version": 3
   },
   "file_extension": ".py",
   "mimetype": "text/x-python",
   "name": "python",
   "nbconvert_exporter": "python",
   "pygments_lexer": "ipython3",
   "version": "3.5.2"
  }
 },
 "nbformat": 4,
 "nbformat_minor": 2
}
