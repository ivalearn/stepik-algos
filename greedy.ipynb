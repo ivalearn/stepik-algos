{
 "cells": [
  {
   "cell_type": "code",
   "execution_count": 6,
   "metadata": {},
   "outputs": [
    {
     "name": "stdout",
     "output_type": "stream",
     "text": [
      "1\n",
      "2 3\n",
      "1\n",
      "3\n"
     ]
    }
   ],
   "source": [
    "# покрыть отрезки точками\n",
    "# https://stepik.org/lesson/13238/step/9\n",
    "\n",
    "#n = int(input())\n",
    "#c = [tuple(sorted(map(int, input().split()))) for _ in range(n)]\n",
    "n = 3\n",
    "c = [(1,3),(2,5),(3,6)]\n",
    "#n = 4\n",
    "#c = [(4,7),(1,3),(2,5),(5,6)]\n",
    "\n",
    "c = sorted(c, key=lambda s:s[1])\n",
    "p = [c[0][1]]\n",
    "for cc in c:\n",
    "    if cc[0] > p[-1]:\n",
    "        p.append(cc[1])\n",
    "print(len(p))\n",
    "print(*p)"
   ]
  },
  {
   "cell_type": "code",
   "execution_count": 57,
   "metadata": {},
   "outputs": [
    {
     "name": "stdout",
     "output_type": "stream",
     "text": [
      "3\n",
      "1 2 3\n"
     ]
    }
   ],
   "source": [
    "# различные слагаемые\n",
    "# https://stepik.org/lesson/13238/step/11\n",
    "\n",
    "#n = int(input())\n",
    "n = 6\n",
    "#n = 4\n",
    "\n",
    "m = 0\n",
    "a = []\n",
    "while n>0:\n",
    "    m += 1\n",
    "    if m+m >= n:\n",
    "        m = n\n",
    "    n -= m\n",
    "    a.append(m)\n",
    "print(len(a))\n",
    "print(*a)"
   ]
  },
  {
   "cell_type": "code",
   "execution_count": null,
   "metadata": {},
   "outputs": [],
   "source": []
  }
 ],
 "metadata": {
  "kernelspec": {
   "display_name": "Python 3",
   "language": "python",
   "name": "python3"
  },
  "language_info": {
   "codemirror_mode": {
    "name": "ipython",
    "version": 3
   },
   "file_extension": ".py",
   "mimetype": "text/x-python",
   "name": "python",
   "nbconvert_exporter": "python",
   "pygments_lexer": "ipython3",
   "version": "3.5.2"
  }
 },
 "nbformat": 4,
 "nbformat_minor": 2
}
