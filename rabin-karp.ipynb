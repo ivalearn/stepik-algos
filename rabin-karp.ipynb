{
 "cells": [
  {
   "cell_type": "code",
   "execution_count": 38,
   "metadata": {},
   "outputs": [
    {
     "name": "stdout",
     "output_type": "stream",
     "text": [
      "OK\n"
     ]
    }
   ],
   "source": [
    "from random import randint\n",
    "\n",
    "\n",
    "def rabin_karp(pattern, text):\n",
    "    prime = 100000007\n",
    "    factor = randint(1, prime-1)\n",
    "    npat = len(pattern) - 1\n",
    "\n",
    "    pat_hash = sum(ord(pattern[i]) * pow(factor, npat - i, prime) % prime\n",
    "                   for i in range(npat + 1)) % prime\n",
    "    cur_hash = sum(ord(text[i]) * pow(factor, npat - i, prime) % prime\n",
    "                   for i in range(npat + 1)) % prime\n",
    "    hi_factor = pow(factor, npat, prime)\n",
    "    indexes = []\n",
    "\n",
    "    if cur_hash == pat_hash and text[:npat+1] == pattern:\n",
    "        indexes.append(0)\n",
    "\n",
    "    for i in range(1, len(text) - npat):\n",
    "        cur_hash = ((cur_hash - ord(text[i-1]) * hi_factor) * factor\n",
    "                    + ord(text[i+npat])) % prime\n",
    "        if cur_hash == pat_hash and text[i: i+npat+1] == pattern:\n",
    "            indexes.append(i)\n",
    "\n",
    "    return indexes\n",
    "\n",
    "\n",
    "def test():\n",
    "    assert rabin_karp(\"aba\", \"abacaba\") == [0, 4]\n",
    "    assert rabin_karp(\"Test\", \"testTesttesT\") == [4]\n",
    "    assert rabin_karp(\"aaaaa\", \"baaaaaaa\") == [1, 2, 3]\n",
    "    print(\"OK\")\n",
    "\n",
    "\n",
    "def main():\n",
    "    print(*rabin_karp(input(), input()))\n",
    "\n",
    "\n",
    "if __name__ == \"__main__\":\n",
    "    test()\n"
   ]
  }
 ],
 "metadata": {
  "kernelspec": {
   "display_name": "Python 3",
   "language": "python",
   "name": "python3"
  },
  "language_info": {
   "codemirror_mode": {
    "name": "ipython",
    "version": 3
   },
   "file_extension": ".py",
   "mimetype": "text/x-python",
   "name": "python",
   "nbconvert_exporter": "python",
   "pygments_lexer": "ipython3",
   "version": "3.5.2"
  }
 },
 "nbformat": 4,
 "nbformat_minor": 2
}
