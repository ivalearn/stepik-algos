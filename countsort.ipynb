{
 "cells": [
  {
   "cell_type": "code",
   "execution_count": 37,
   "metadata": {},
   "outputs": [
    {
     "data": {
      "text/plain": [
       "[(1, 'a'),\n",
       " (1, 'f'),\n",
       " (1, 'g'),\n",
       " (1, 'h'),\n",
       " (2, 'c'),\n",
       " (2, 'e'),\n",
       " (2, 'i'),\n",
       " (3, 'b'),\n",
       " (3, 'd')]"
      ]
     },
     "execution_count": 37,
     "metadata": {},
     "output_type": "execute_result"
    }
   ],
   "source": [
    "# O(n+m) -- linear!\n",
    "def count_sort(a, m=10):\n",
    "    b = [0] * m\n",
    "    for v in a:\n",
    "        i = v[0] if type(v) is tuple else v\n",
    "        b[i] += 1\n",
    "    for i in range(1, m):\n",
    "        b[i] += b[i-1]\n",
    "    for v in a[::-1]:  # must be reversed for sorting stability\n",
    "        i = v[0] if type(v) is tuple else v\n",
    "        b[i] -= 1\n",
    "        a[b[i]] = v\n",
    "    return a\n",
    "\n",
    "count_sort([(1,'a'),(3,'b'),(2,'c'),(3,'d'),(2,'e'),(1,'f'),(1,'g'),(1,'h'),(2,'i')])"
   ]
  },
  {
   "cell_type": "code",
   "execution_count": 43,
   "metadata": {},
   "outputs": [
    {
     "data": {
      "text/plain": [
       "[112, 112, 133, 200, 201, 256, 454, 612, 733, 812]"
      ]
     },
     "execution_count": 43,
     "metadata": {},
     "output_type": "execute_result"
    }
   ],
   "source": [
    "# O(n*d)\n",
    "# d - num of digits\n",
    "def digit_sort(a, d=3):\n",
    "    def digit(x):\n",
    "        return x // digit_pow % 10\n",
    "    for digit_pow in (10**digit_i for digit_i in range(d)):\n",
    "        cnt = [0] * 10\n",
    "        for x in a:\n",
    "            cnt[digit(x)] += 1\n",
    "        for i in range(1, 10):\n",
    "            cnt[i] += cnt[i-1]\n",
    "        # inner sort must be stable!\n",
    "        for x in a[::-1]:\n",
    "            f = digit(x)\n",
    "            cnt[f] -= 1\n",
    "            a[cnt[f]] = x\n",
    "    return a\n",
    "\n",
    "digit_sort([133,733,112,454,200,812,256,612,112,201])"
   ]
  }
 ],
 "metadata": {
  "kernelspec": {
   "display_name": "Python 3",
   "language": "python",
   "name": "python3"
  },
  "language_info": {
   "codemirror_mode": {
    "name": "ipython",
    "version": 3
   },
   "file_extension": ".py",
   "mimetype": "text/x-python",
   "name": "python",
   "nbconvert_exporter": "python",
   "pygments_lexer": "ipython3",
   "version": "3.5.2"
  }
 },
 "nbformat": 4,
 "nbformat_minor": 2
}
