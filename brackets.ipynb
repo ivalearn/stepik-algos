{
 "cells": [
  {
   "cell_type": "markdown",
   "metadata": {},
   "source": [
    "## [Расстановка скобок в коде](https://stepik.org/lesson/41234/step/1)"
   ]
  },
  {
   "cell_type": "code",
   "execution_count": 26,
   "metadata": {},
   "outputs": [
    {
     "name": "stdout",
     "output_type": "stream",
     "text": [
      "OK\n"
     ]
    }
   ],
   "source": [
    "def check(sc):\n",
    "    st, ob, cb = [], \"([{\", \")]}\"\n",
    "    for pos, ch in enumerate(sc, 1):\n",
    "        if ch in ob:\n",
    "            st.append((cb[ob.index(ch)], pos))\n",
    "        elif ch in cb and not (st and st.pop()[0] == ch):\n",
    "            return pos\n",
    "    return st.pop()[1] if st else 0\n",
    "\n",
    "def main():\n",
    "    print(check(input()) or \"Success\")\n",
    "\n",
    "def test():\n",
    "    assert check(\"([](){([])})\") == 0\n",
    "    assert check(\"()[]}\") == 5\n",
    "    assert check(\"{{[()]]\") == 7\n",
    "    assert check(\"([](){([])})\") == 0\n",
    "    assert check(\"()[]}\") == 5\n",
    "    assert check(\"{{[()]]\") == 7\n",
    "    assert check(\"{*{{}\") == 3\n",
    "    assert check(\"[[*\") == 2\n",
    "    assert check(\"{*}\") == 0\n",
    "    assert check(\"{{\") == 2\n",
    "    assert check(\"{}\") == 0\n",
    "    assert check(\"\") == 0\n",
    "    assert check(\"}\") == 1\n",
    "    assert check(\"*{}\") == 0\n",
    "    assert check(\"{{{**[][][]\") == 3\n",
    "    assert check(\"{{{[][][]\") == 3\n",
    "    print(\"OK\")\n",
    "\n",
    "#check(\"{{[()]]\")\n",
    "test()"
   ]
  }
 ],
 "metadata": {
  "kernelspec": {
   "display_name": "Python 3",
   "language": "python",
   "name": "python3"
  },
  "language_info": {
   "codemirror_mode": {
    "name": "ipython",
    "version": 3
   },
   "file_extension": ".py",
   "mimetype": "text/x-python",
   "name": "python",
   "nbconvert_exporter": "python",
   "pygments_lexer": "ipython3",
   "version": "3.5.2"
  }
 },
 "nbformat": 4,
 "nbformat_minor": 2
}
