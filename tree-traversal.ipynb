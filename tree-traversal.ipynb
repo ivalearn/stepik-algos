{
 "cells": [
  {
   "cell_type": "markdown",
   "metadata": {},
   "source": [
    "- обход parent-left-right (pre-order)\n",
    "- обход left-right-parent (post-order)\n",
    "- обход left-parent-right (in-order)"
   ]
  },
  {
   "cell_type": "code",
   "execution_count": 1,
   "metadata": {},
   "outputs": [],
   "source": [
    "%matplotlib inline\n",
    "from IPython.display import Image, HTML\n",
    "import networkx as nx"
   ]
  },
  {
   "cell_type": "code",
   "execution_count": 2,
   "metadata": {},
   "outputs": [],
   "source": [
    "class TreeNode:\n",
    "    def __init__(self, num=None):\n",
    "        self.key = self.num = num\n",
    "        self.left = self.right = None\n",
    "\n",
    "    def __repr__(self):\n",
    "        return '[\"{}\" {},{}]'.format(\n",
    "            self.key,\n",
    "            '.' if self.left is None else self.left.key,\n",
    "            '.' if self.right is None else self.right.key,\n",
    "        )\n",
    "\n",
    "\n",
    "def read_graph(nodes):\n",
    "    if isinstance(nodes, str):\n",
    "        nodes = nodes.split(';')\n",
    "    graph = [TreeNode() for _ in range(len(nodes))]\n",
    "    for num, node in enumerate(nodes):\n",
    "        if isinstance(node, str):\n",
    "            key, left, right = map(int, node.strip().split())\n",
    "        graph[num].num = num\n",
    "        graph[num].key = key\n",
    "        if left != -1:\n",
    "            graph[num].left = graph[left]\n",
    "        if right != -1:\n",
    "            graph[num].right = graph[right]\n",
    "    return graph[0]\n",
    "\n",
    "\n",
    "def draw_tree(tree, root=0,\n",
    "              width=.05, vgap=.05, vloc=0, xcenter=.5,\n",
    "              node_color='lightgray', node_size=600,\n",
    "              **kw):\n",
    "    def add_node(node):\n",
    "        num = node.num\n",
    "        if num not in graph.nodes:\n",
    "            graph.add_node(num)\n",
    "            labels[num] = node.key\n",
    "        if node.left is not None:\n",
    "            add_node(node.left)\n",
    "            graph.add_edge(num, node.left.num)\n",
    "        if node.right is not None:\n",
    "            add_node(node.right)\n",
    "            graph.add_edge(num, node.right.num)\n",
    "\n",
    "    graph = nx.Graph()\n",
    "    labels = {}\n",
    "    add_node(tree)\n",
    "\n",
    "    def layout_hier(root, width, vloc, xcenter, pos=None, parent=None):\n",
    "        if pos is None:\n",
    "            pos = { root: (xcenter, vloc) }\n",
    "        else:\n",
    "            pos[root] = (xcenter, vloc)\n",
    "        neighbors = list(graph.neighbors(root))\n",
    "        if parent is not None:\n",
    "            neighbors.remove(parent)\n",
    "        if len(neighbors):\n",
    "            dx = width / len(neighbors) \n",
    "            nextx = xcenter - width/2 - dx/2\n",
    "            for neighbor in neighbors:\n",
    "                nextx += dx\n",
    "                pos = layout_hier(neighbor, width=dx, vloc=vloc-vgap, xcenter=nextx,\n",
    "                                  pos=pos, parent=root)\n",
    "        return pos\n",
    "\n",
    "    pos = layout_hier(root, width, vloc, xcenter)\n",
    "    return nx.draw(graph, pos=pos, with_labels=True, labels=labels,\n",
    "                   node_color=node_color, node_size=node_size,\n",
    "                   **kw)"
   ]
  },
  {
   "cell_type": "code",
   "execution_count": 3,
   "metadata": {},
   "outputs": [
    {
     "data": {
      "image/png": "[encoded data removed]",
      "text/plain": [
       "<Figure size 432x288 with 1 Axes>"
      ]
     },
     "metadata": {},
     "output_type": "display_data"
    }
   ],
   "source": [
    "tree = read_graph('0 7 2;10 -1 -1;20 -1 6;30 8 9;40 3 -1;50 -1 -1;60 1 -1;70 5 4;80 -1 -1;90 -1 -1')\n",
    "draw_tree(tree)"
   ]
  },
  {
   "cell_type": "code",
   "execution_count": 4,
   "metadata": {},
   "outputs": [
    {
     "name": "stdout",
     "output_type": "stream",
     "text": [
      "ok\n"
     ]
    }
   ],
   "source": [
    "# in_order: left,parent,right\n",
    "def in_order_rec(tree):\n",
    "    if tree:\n",
    "        yield from in_order_rec(tree.left)\n",
    "        yield tree.key\n",
    "        yield from in_order_rec(tree.right)\n",
    "\n",
    "# pre_order: parent,left,right\n",
    "def pre_order_rec(tree):\n",
    "    if tree:\n",
    "        yield tree.key\n",
    "        yield from pre_order_rec(tree.left)\n",
    "        yield from pre_order_rec(tree.right)\n",
    "\n",
    "# post_order: left,right,parent\n",
    "def post_order_rec(tree):\n",
    "    if tree:\n",
    "        yield from post_order_rec(tree.left)\n",
    "        yield from post_order_rec(tree.right)\n",
    "        yield tree.key\n",
    "\n",
    "def test_rec():\n",
    "    tree = read_graph('4 1 2;2 3 4;5 -1 -1;1 -1 -1;3 -1 -1')\n",
    "    assert list(in_order_rec(tree)) == [1,2,3,4,5]\n",
    "    assert list(pre_order_rec(tree)) == [4,2,1,3,5]\n",
    "    assert list(post_order_rec(tree)) == [1,3,2,5,4]\n",
    "    print('ok')\n",
    "\n",
    "test_rec()"
   ]
  },
  {
   "cell_type": "code",
   "execution_count": 5,
   "metadata": {},
   "outputs": [
    {
     "name": "stdout",
     "output_type": "stream",
     "text": [
      "ok\n"
     ]
    }
   ],
   "source": [
    "# in_order: left,parent,right\n",
    "def in_order_seq(node):\n",
    "    stack = []\n",
    "    while node or stack:\n",
    "        if node:\n",
    "            stack.append(node)\n",
    "            node = node.left\n",
    "        else:\n",
    "            node = stack.pop()\n",
    "            yield node.key\n",
    "            node = node.right\n",
    "\n",
    "# pre_order: parent,left,right\n",
    "def pre_order_seq(node):\n",
    "    stack = []\n",
    "    while node or stack:\n",
    "        node = node or stack.pop()\n",
    "        yield node.key\n",
    "        if node.right:\n",
    "            stack.append(node.right)\n",
    "        node = node.left\n",
    "\n",
    "# post_order: left,right,parent\n",
    "def post_order_seq(node):\n",
    "    stack = []\n",
    "    while node or stack:\n",
    "        if node:\n",
    "            if node.right:\n",
    "                stack.append(node.right)\n",
    "            stack.append(node)\n",
    "            node = node.left\n",
    "            continue\n",
    "        node = stack.pop()\n",
    "        if stack and stack[-1] == node.right:\n",
    "            stack[-1] = node\n",
    "            node = node.right\n",
    "        else:\n",
    "            yield node.key\n",
    "            node = None\n",
    "\n",
    "def test_seq():\n",
    "    tree = read_graph('4 1 2;2 3 4;5 -1 -1;1 -1 -1;3 -1 -1')\n",
    "    assert list(in_order_seq(tree)) == [1,2,3,4,5]\n",
    "    assert list(pre_order_seq(tree)) == [4,2,1,3,5]\n",
    "    assert list(post_order_seq(tree)) == [1,3,2,5,4]\n",
    "\n",
    "    tree = read_graph('0 7 2;10 -1 -1;20 -1 6;30 8 9;40 3 -1;50 -1 -1;60 1 -1;70 5 4;80 -1 -1;90 -1 -1')\n",
    "    assert list(in_order_seq(tree)) == [50,70,80,30,90,40,0,20,10,60]\n",
    "    assert list(pre_order_seq(tree)) == [0,70,50,40,30,80,90,20,60,10]\n",
    "    assert list(post_order_seq(tree)) == [50,80,90,30,40,70,10,60,20,0]\n",
    "\n",
    "    print('ok')\n",
    "\n",
    "test_seq()"
   ]
  },
  {
   "cell_type": "code",
   "execution_count": 6,
   "metadata": {},
   "outputs": [
    {
     "name": "stdout",
     "output_type": "stream",
     "text": [
      "Overwriting traverse-methods.py\n"
     ]
    }
   ],
   "source": [
    "%%writefile traverse-methods.py\n",
    "from collections import namedtuple\n",
    "\n",
    "TupleNode = namedtuple('TupleNode', ['key', 'left', 'right'])\n",
    "\n",
    "def in_order(tree, node=0):\n",
    "    stack = []\n",
    "    while node >= 0 or stack:\n",
    "        if node >= 0:\n",
    "            stack.append(node)\n",
    "            node = tree[node].left\n",
    "        else:\n",
    "            node = stack.pop()\n",
    "            yield tree[node].key\n",
    "            node = tree[node].right\n",
    "\n",
    "def pre_order(tree, node=0):\n",
    "    stack = []\n",
    "    while node >= 0 or stack:\n",
    "        if node < 0:\n",
    "            node = stack.pop()\n",
    "        yield tree[node].key\n",
    "        if tree[node].right >= 0:\n",
    "            stack.append(tree[node].right)\n",
    "        node = tree[node].left\n",
    "\n",
    "def post_order(tree, node=0):\n",
    "    stack = []\n",
    "    while node >= 0 or stack:\n",
    "        if node >= 0:\n",
    "            if tree[node].right >= 0:\n",
    "                stack.append(tree[node].right)\n",
    "            stack.append(node)\n",
    "            node = tree[node].left\n",
    "            continue\n",
    "        node = stack.pop()\n",
    "        if stack and stack[-1] == tree[node].right:\n",
    "            stack[-1], node = node, stack[-1]\n",
    "        else:\n",
    "            yield tree[node].key\n",
    "            node = -1\n",
    "\n",
    "def main():\n",
    "    num_nodes = int(input())\n",
    "    tree = [TupleNode(*map(int, input().split()))\n",
    "            for i in range(num_nodes)]\n",
    "    print(*in_order(tree))\n",
    "    print(*pre_order(tree))\n",
    "    print(*post_order(tree))\n",
    "\n",
    "\n",
    "main()"
   ]
  },
  {
   "cell_type": "code",
   "execution_count": 7,
   "metadata": {},
   "outputs": [
    {
     "name": "stdout",
     "output_type": "stream",
     "text": [
      "1 2 3 4 5\n",
      "4 2 1 3 5\n",
      "1 3 2 5 4\n"
     ]
    }
   ],
   "source": [
    "%%bash\n",
    "python3 traverse-methods.py <<EOF\n",
    "5\n",
    "4 1 2\n",
    "2 3 4\n",
    "5 -1 -1\n",
    "1 -1 -1\n",
    "3 -1 -1\n",
    "EOF\n",
    "# expect:\n",
    "# 1 2 3 4 5\n",
    "# 4 2 1 3 5\n",
    "# 1 3 2 5 4"
   ]
  },
  {
   "cell_type": "code",
   "execution_count": 8,
   "metadata": {},
   "outputs": [
    {
     "name": "stdout",
     "output_type": "stream",
     "text": [
      "50 70 80 30 90 40 0 20 10 60\n",
      "0 70 50 40 30 80 90 20 60 10\n",
      "50 80 90 30 40 70 10 60 20 0\n"
     ]
    }
   ],
   "source": [
    "%%bash\n",
    "python3 traverse-methods.py <<EOF\n",
    "10\n",
    "0 7 2\n",
    "10 -1 -1\n",
    "20 -1 6\n",
    "30 8 9\n",
    "40 3 -1\n",
    "50 -1 -1\n",
    "60 1 -1\n",
    "70 5 4\n",
    "80 -1 -1\n",
    "90 -1 -1\n",
    "EOF\n",
    "# expect:\n",
    "# 50 70 80 30 90 40 0 20 10 60\n",
    "# 0 70 50 40 30 80 90 20 60 10\n",
    "# 50 80 90 30 40 70 10 60 20 0"
   ]
  }
 ],
 "metadata": {
  "kernelspec": {
   "display_name": "Python 3",
   "language": "python",
   "name": "python3"
  },
  "language_info": {
   "codemirror_mode": {
    "name": "ipython",
    "version": 3
   },
   "file_extension": ".py",
   "mimetype": "text/x-python",
   "name": "python",
   "nbconvert_exporter": "python",
   "pygments_lexer": "ipython3",
   "version": "3.5.2"
  }
 },
 "nbformat": 4,
 "nbformat_minor": 2
}
