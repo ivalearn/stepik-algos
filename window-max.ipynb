{
 "cells": [
  {
   "cell_type": "markdown",
   "metadata": {},
   "source": [
    "## [Максимум в скользящем окне](https://stepik.org/lesson/41234/step/5?unit=19818)\n",
    "\n",
    "([условия задач.pdf](https://stepik.org/media/attachments/lesson/41233/statements.pdf))"
   ]
  },
  {
   "cell_type": "code",
   "execution_count": 55,
   "metadata": {},
   "outputs": [],
   "source": [
    "def window_max_test(window_max):\n",
    "    def test(n, a_str, m, expected_str):\n",
    "        a = [int(x) for x in a_str.split()]\n",
    "        assert len(a) == n\n",
    "        res = ' '.join(map(str, window_max(a, m)))\n",
    "        assert res == expected_str, \"'{}' != '{}'\".format(res, expected_str)\n",
    "    test(8, '2 7 3 1 5 2 6 2', 4, '7 7 5 6 6')\n",
    "    test(3, '2 1 5', 1, '2 1 5')\n",
    "    test(3, '2 3 9', 3, '9')\n",
    "    test(15, '73 65 24 14 44 20 65 97 27 6 42 1 6 41 16', 7, '73 97 97 97 97 97 97 97 42')\n",
    "    test(15, '28 7 64 40 68 86 80 93 4 53 32 56 68 18 59', 12, '93 93 93 93')\n",
    "    test(15, '16 79 20 19 43 72 78 33 40 52 70 79 66 43 60', 12, '79 79 79 79')\n",
    "    test(15, '34 51 61 90 26 84 2 25 7 8 25 78 21 47 25', 3, '61 90 90 90 84 84 25 25 25 78 78 78 47')\n",
    "    test(15, '27 83 29 77 6 3 48 2 16 72 46 38 55 2 58', 5, '83 83 77 77 48 72 72 72 72 72 58')\n",
    "    print(\"OK\")"
   ]
  },
  {
   "cell_type": "code",
   "execution_count": 56,
   "metadata": {},
   "outputs": [
    {
     "name": "stdout",
     "output_type": "stream",
     "text": [
      "OK\n"
     ]
    }
   ],
   "source": [
    "# По сути, реализация максимума на двух стеках.\n",
    "# Только вместо push/pop идёт работа с индексами, что ускоряет алгоритм.\n",
    "def window_max1(arr, win):\n",
    "    imax, omax = [0] * win, [0] * win\n",
    "    for i in range(win-1, len(arr)):\n",
    "        j = i % win\n",
    "        imax[j] = max(arr[i], imax[j-1]) if j else arr[i]\n",
    "        if j == win-1:\n",
    "            omax[0] = arr[i]\n",
    "            for k in range(win-1):\n",
    "                omax[k+1] = max(arr[i-k-1], omax[k])\n",
    "            yield omax[-1]\n",
    "        else:\n",
    "            yield max(imax[j-win], omax[win-2-j])\n",
    "\n",
    "window_max_test(window_max1)"
   ]
  },
  {
   "cell_type": "code",
   "execution_count": 57,
   "metadata": {},
   "outputs": [
    {
     "name": "stdout",
     "output_type": "stream",
     "text": [
      "OK\n"
     ]
    }
   ],
   "source": [
    "# Максимум на двух стеках.\n",
    "def window_max2(arr, win):\n",
    "    win1 = win - 1\n",
    "    inp_val = arr[:win1]\n",
    "    inp_max, out_max, res = [], [], []\n",
    "    for val in arr[win1:]:\n",
    "        inp_val.append(val)\n",
    "        inp_max.append(max(val, inp_max[-1]) if inp_max else val)\n",
    "        if out_max:\n",
    "            res.append(max(inp_max[win1 - len(out_max)], out_max.pop()))\n",
    "        else:\n",
    "            out_max = [inp_val.pop()]\n",
    "            while inp_val:\n",
    "                out_max.append(max(inp_val.pop(), out_max[-1]))\n",
    "            inp_max = []\n",
    "            res.append(out_max.pop())\n",
    "    return res\n",
    "\n",
    "window_max_test(window_max2)"
   ]
  },
  {
   "cell_type": "markdown",
   "metadata": {},
   "source": [
    "# Метод 1 из http://e-maxx.ru/algo/stacks_for_minima\n",
    "\n",
    "Очередь представляет собой невозрастающую последовательность чисел.\n",
    "В голове хранится максимум. \n",
    "\n",
    "Перед добавлением нового элемента производим \"срезку\":\n",
    "пока в хвосте есть элемент меньше добавляемого, будем удалять его из очереди;\n",
    "затем добавим новый элемент в конец.\n",
    "Тем самым мы не нарушим порядка, но и не потеряем текущий элемент,\n",
    "если он на каком-либо последующем шаге окажется максимумом.\n",
    "\n",
    "При извлечении элемента из головы его там может уже не оказаться,\n",
    "поэтому надо знать его значение.\n",
    "Если оно есть в голове очереди, то извлекаем его; иначе просто ничего не делаем."
   ]
  },
  {
   "cell_type": "code",
   "execution_count": 58,
   "metadata": {},
   "outputs": [
    {
     "name": "stdout",
     "output_type": "stream",
     "text": [
      "OK\n"
     ]
    }
   ],
   "source": [
    "# Метод 1 из http://e-maxx.ru/algo/stacks_for_minima\n",
    "def window_max3(arr, win):\n",
    "    from collections import deque\n",
    "    q = deque()\n",
    "    for i in range(len(arr)):\n",
    "        val = arr[i]\n",
    "        while q and q[-1] < val:\n",
    "            q.pop()\n",
    "        q.append(val)\n",
    "        if i >= win:\n",
    "            val = arr[i-win]\n",
    "            if q[0] == val:\n",
    "                q.popleft()\n",
    "        if i >= win-1:\n",
    "            yield q[0]\n",
    "\n",
    "window_max_test(window_max3)"
   ]
  },
  {
   "cell_type": "code",
   "execution_count": 59,
   "metadata": {},
   "outputs": [
    {
     "name": "stdout",
     "output_type": "stream",
     "text": [
      "Overwriting window_max.py\n"
     ]
    }
   ],
   "source": [
    "%%writefile window_max.py\n",
    "def main():\n",
    "    input()\n",
    "    arr = [int(val) for val in input().split()]\n",
    "    win = int(input())\n",
    "    imax = [0] * win\n",
    "    omax = [0] * win\n",
    "    res = []\n",
    "    for i in range(win-1, len(arr)):\n",
    "        j = i % win\n",
    "        imax[j] = max(arr[i], imax[j-1]) if j else arr[i]\n",
    "        if j < win-1:\n",
    "            res.append(max(imax[j-win], omax[win-2-j]))\n",
    "            continue\n",
    "        omax[0] = arr[i]\n",
    "        for k in range(win-1):\n",
    "            omax[k+1] = max(arr[i-k-1], omax[k])\n",
    "        res.append(omax[-1])\n",
    "    print(*res)\n",
    "\n",
    "main()"
   ]
  },
  {
   "cell_type": "code",
   "execution_count": 60,
   "metadata": {},
   "outputs": [
    {
     "name": "stdout",
     "output_type": "stream",
     "text": [
      "expecting:\n",
      "7 7 5 6 6\n",
      "got:\n",
      "7 7 5 6 6\n"
     ]
    }
   ],
   "source": [
    "%%bash\n",
    "echo \"expecting:\"\n",
    "echo \"7 7 5 6 6\"\n",
    "echo \"got:\"\n",
    "python3 window_max.py << EOF\n",
    "8\n",
    "2 7 3 1 5 2 6 2\n",
    "4\n",
    "EOF"
   ]
  }
 ],
 "metadata": {
  "kernelspec": {
   "display_name": "Python 3",
   "language": "python",
   "name": "python3"
  },
  "language_info": {
   "codemirror_mode": {
    "name": "ipython",
    "version": 3
   },
   "file_extension": ".py",
   "mimetype": "text/x-python",
   "name": "python",
   "nbconvert_exporter": "python",
   "pygments_lexer": "ipython3",
   "version": "3.5.2"
  }
 },
 "nbformat": 4,
 "nbformat_minor": 2
}
