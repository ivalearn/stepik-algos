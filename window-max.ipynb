{
 "cells": [
  {
   "cell_type": "markdown",
   "metadata": {},
   "source": [
    "## [Максимум в скользящем окне](https://stepik.org/lesson/41234/step/5?unit=19818)\n",
    "\n",
    "([условия задач.pdf](https://stepik.org/media/attachments/lesson/41233/statements.pdf))"
   ]
  },
  {
   "cell_type": "code",
   "execution_count": 5,
   "metadata": {},
   "outputs": [
    {
     "name": "stdout",
     "output_type": "stream",
     "text": [
      "OK\n"
     ]
    }
   ],
   "source": [
    "def window_max(arr, win):\n",
    "    win1 = win - 1\n",
    "    inp_val = arr[:win1]\n",
    "    inp_max, out_max, res = [], [], []\n",
    "    for val in arr[win1:]:\n",
    "        inp_val.append(val)\n",
    "        inp_max.append(max(val, inp_max[-1]) if inp_max else val)\n",
    "        if out_max:\n",
    "            res.append(max(inp_max[win1 - len(out_max)], out_max.pop()))\n",
    "        else:\n",
    "            out_max = [inp_val.pop()]\n",
    "            while inp_val:\n",
    "                out_max.append(max(inp_val.pop(), out_max[-1]))\n",
    "            inp_max = []\n",
    "            res.append(out_max.pop())\n",
    "    return res\n",
    "\n",
    "def window_max_test():\n",
    "    def test(n, a_str, m, expected_str):\n",
    "        a = [int(x) for x in a_str.split()]\n",
    "        assert len(a) == n\n",
    "        res = ' '.join(map(str, window_max(a, m)))\n",
    "        assert res == expected_str, \"'{}' != '{}'\".format(res, expected_str)\n",
    "    test(8, '2 7 3 1 5 2 6 2', 4, '7 7 5 6 6')\n",
    "    test(3, '2 1 5', 1, '2 1 5')\n",
    "    test(3, '2 3 9', 3, '9')\n",
    "    print(\"OK\")\n",
    "\n",
    "def main():\n",
    "    n = int(input())\n",
    "    a = [int(x) for x in input().split()]\n",
    "    assert len(a) == n\n",
    "    m = int(input())\n",
    "    print(*window_max(a, m))\n",
    "\n",
    "window_max_test()"
   ]
  },
  {
   "cell_type": "code",
   "execution_count": 8,
   "metadata": {},
   "outputs": [
    {
     "name": "stdout",
     "output_type": "stream",
     "text": [
      "Overwriting window_max.py\n"
     ]
    }
   ],
   "source": [
    "%%writefile window_max.py\n",
    "\n",
    "def main():\n",
    "    input()\n",
    "    arr = [int(val) for val in input().split()]\n",
    "    win1 = int(input()) - 1\n",
    "    inp_val = arr[:win1]\n",
    "    inp_max, out_max, res = [], [], []\n",
    "    for val in arr[win1:]:\n",
    "        inp_val.append(val)\n",
    "        inp_max.append(max(val, inp_max[-1]) if inp_max else val)\n",
    "        if out_max:\n",
    "            res.append(max(inp_max[win1 - len(out_max)], out_max.pop()))\n",
    "        else:\n",
    "            out_max = [inp_val.pop()]\n",
    "            while inp_val:\n",
    "                out_max.append(max(inp_val.pop(), out_max[-1]))\n",
    "            inp_max = []\n",
    "            res.append(out_max.pop())\n",
    "    print(*res)\n",
    "\n",
    "main()"
   ]
  },
  {
   "cell_type": "code",
   "execution_count": 9,
   "metadata": {},
   "outputs": [
    {
     "name": "stdout",
     "output_type": "stream",
     "text": [
      "expecting:\n",
      "7 7 5 6 6\n",
      "got:\n",
      "7 7 5 6 6\n"
     ]
    }
   ],
   "source": [
    "%%bash\n",
    "echo \"expecting:\"\n",
    "echo \"7 7 5 6 6\"\n",
    "echo \"got:\"\n",
    "python3 window_max.py << EOF\n",
    "8\n",
    "2 7 3 1 5 2 6 2\n",
    "4\n",
    "EOF"
   ]
  }
 ],
 "metadata": {
  "kernelspec": {
   "display_name": "Python 3",
   "language": "python",
   "name": "python3"
  },
  "language_info": {
   "codemirror_mode": {
    "name": "ipython",
    "version": 3
   },
   "file_extension": ".py",
   "mimetype": "text/x-python",
   "name": "python",
   "nbconvert_exporter": "python",
   "pygments_lexer": "ipython3",
   "version": "3.5.2"
  }
 },
 "nbformat": 4,
 "nbformat_minor": 2
}
