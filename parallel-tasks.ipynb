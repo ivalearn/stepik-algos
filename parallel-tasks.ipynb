{
 "cells": [
  {
   "cell_type": "markdown",
   "metadata": {},
   "source": [
    "## [Параллельная обработка](https://stepik.org/lesson/41560/step/2)\n",
    "\n",
    "([условия задач.pdf](https://stepik.org/media/attachments/lesson/41233/statements.pdf))"
   ]
  },
  {
   "cell_type": "code",
   "execution_count": 10,
   "metadata": {},
   "outputs": [
    {
     "name": "stdout",
     "output_type": "stream",
     "text": [
      "2 5\n",
      "1 2 3 4 5\n",
      "0 0\n",
      "1 0\n",
      "0 1\n",
      "1 2\n",
      "0 4\n"
     ]
    }
   ],
   "source": [
    "from heapq import heappop, heappush\n",
    "\n",
    "def parallel_tasks(ncpu, tasks):\n",
    "    q, res = [], []\n",
    "    for n in range(ncpu):\n",
    "        heappush(q, (0, n))\n",
    "    print(q)\n",
    "    for d in tasks:\n",
    "        t, n = heappop(q)\n",
    "        res.append((n, t))\n",
    "        heappush(q, (t+d, n))\n",
    "    return res\n",
    "\n",
    "def test():\n",
    "    assert parallel_tasks(2, [1,2,3,4,5]) == [(0,0),(1,0),(0,1),(1,2),(0,4)]\n",
    "    assert parallel_tasks(4, [1,1,1,1,1,1,1,1,1,1,1,1,1,1,1,1,1,1,1,1]) == [(0,0),(1,0),(2,0),(3,0),(0,1),(1,1),(2,1),(3,1),(0,2),(1,2),(2,2),(3,2),(0,3),(1,3),(2,3),(3,3),(0,4),(1,4),(2,4),(3,4)]\n",
    "    print(\"OK\")\n",
    "\n",
    "def main():\n",
    "    q = [(0, n) for n in range(int(input().split()[0]))]\n",
    "    for d in input().split():\n",
    "        t, n = heappop(q)\n",
    "        print(n, t)\n",
    "        heappush(q, (t + int(d), n))\n",
    "    \n",
    "main()\n",
    "#test()"
   ]
  }
 ],
 "metadata": {
  "kernelspec": {
   "display_name": "Python 3",
   "language": "python",
   "name": "python3"
  },
  "language_info": {
   "codemirror_mode": {
    "name": "ipython",
    "version": 3
   },
   "file_extension": ".py",
   "mimetype": "text/x-python",
   "name": "python",
   "nbconvert_exporter": "python",
   "pygments_lexer": "ipython3",
   "version": "3.5.2"
  }
 },
 "nbformat": 4,
 "nbformat_minor": 2
}
