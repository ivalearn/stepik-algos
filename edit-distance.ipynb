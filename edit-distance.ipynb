{
 "cells": [
  {
   "cell_type": "code",
   "execution_count": 3,
   "metadata": {},
   "outputs": [
    {
     "data": {
      "text/plain": [
       "3"
      ]
     },
     "execution_count": 3,
     "metadata": {},
     "output_type": "execute_result"
    }
   ],
   "source": [
    "def edit_dist(s, d):\n",
    "    m = len(s)+1\n",
    "    n = len(d)+1\n",
    "    a = [[-1] * n for _ in range(m)]\n",
    "    for i in range(m):\n",
    "        a[i][0] = i\n",
    "    for i in range(n):\n",
    "        a[0][i] = i\n",
    "    for i in range(1, m):\n",
    "        for j in range(1, n):\n",
    "            diff = int(s[i-1] != d[j-1])\n",
    "            a[i][j] = min(a[i-1][j]+1, a[i][j-1]+1, a[i-1][j-1]+diff)\n",
    "    return a[m-1][n-1]\n",
    "\n",
    "edit_dist(\"short\", \"ports\")\n",
    "#print(edit_dist(input(), input()))"
   ]
  },
  {
   "cell_type": "code",
   "execution_count": null,
   "metadata": {},
   "outputs": [],
   "source": []
  }
 ],
 "metadata": {
  "kernelspec": {
   "display_name": "Python 3",
   "language": "python",
   "name": "python3"
  },
  "language_info": {
   "codemirror_mode": {
    "name": "ipython",
    "version": 3
   },
   "file_extension": ".py",
   "mimetype": "text/x-python",
   "name": "python",
   "nbconvert_exporter": "python",
   "pygments_lexer": "ipython3",
   "version": "3.5.2"
  }
 },
 "nbformat": 4,
 "nbformat_minor": 2
}
