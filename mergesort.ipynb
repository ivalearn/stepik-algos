{
 "cells": [
  {
   "cell_type": "code",
   "execution_count": 48,
   "metadata": {},
   "outputs": [],
   "source": [
    "import random"
   ]
  },
  {
   "cell_type": "code",
   "execution_count": 49,
   "metadata": {},
   "outputs": [
    {
     "name": "stdout",
     "output_type": "stream",
     "text": [
      "ok\n"
     ]
    }
   ],
   "source": [
    "# insertion sort + inversion counter\n",
    "\n",
    "def ins_sort(a):\n",
    "    inv = 0\n",
    "    for k in range(len(a)):\n",
    "        i = k\n",
    "        while i > 0 and a[i] < a[i-1]:\n",
    "            a[i],a[i-1] = a[i-1],a[i]\n",
    "            inv += 1\n",
    "            i -= 1\n",
    "    return inv\n",
    "\n",
    "def ins_test():\n",
    "    assert ins_sort([1,2,3,4]) == 0\n",
    "    assert ins_sort([9,3,1,4]) == 4\n",
    "    assert ins_sort([2,3,9,2,9]) == 2\n",
    "\n",
    "    for i in range(100):\n",
    "        a = list(range(random.randint(1,1000)))\n",
    "        random.shuffle(a)\n",
    "        ins_sort(a)\n",
    "        assert a == sorted(a)\n",
    "    print(\"ok\")\n",
    "\n",
    "ins_test()"
   ]
  },
  {
   "cell_type": "code",
   "execution_count": 61,
   "metadata": {},
   "outputs": [
    {
     "name": "stdout",
     "output_type": "stream",
     "text": [
      "ok\n"
     ]
    }
   ],
   "source": [
    "# merge sort + inversion counter\n",
    "\n",
    "def merge_sort(a):\n",
    "    s = a\n",
    "    d = a[:]\n",
    "    q = [(i,i) for i in range(len(a))]\n",
    "    inv = 0\n",
    "    while len(q) > 1:\n",
    "        p = []\n",
    "        for qi in range(0,len(q)-1,2):\n",
    "            li,ln = q[qi]\n",
    "            ri,rn = q[qi+1]\n",
    "            p.append((li,rn))\n",
    "            di = li\n",
    "            while li<=ln and ri<=rn:\n",
    "                if s[ri] < s[li]:\n",
    "                    d[di] = s[ri]\n",
    "                    ri += 1\n",
    "                    inv += ln-li+1\n",
    "                else:\n",
    "                    d[di] = s[li]\n",
    "                    li += 1\n",
    "                di += 1\n",
    "            d[di:di+ln-li+1] = s[li:ln+1]\n",
    "            d[di:di+rn-ri+1] = s[ri:rn+1]\n",
    "        if len(q) % 2:\n",
    "            p.append(q[-1])\n",
    "            di,dn = q[-1]\n",
    "            d[di:dn+1] = s[di:dn+1]\n",
    "        q = p\n",
    "        s,d = d,s\n",
    "    if a != s:\n",
    "        a[:] = s\n",
    "    return inv\n",
    "\n",
    "def merge_test():\n",
    "    assert merge_sort([1,2,3,4]) == 0\n",
    "    assert merge_sort([9,3,1,4]) == 4\n",
    "    assert merge_sort([2,3,9,2,9]) == 2\n",
    "\n",
    "    for i in range(100):\n",
    "        a = list(range(random.randint(1,1000)))\n",
    "        random.shuffle(a)\n",
    "        b = a[:]\n",
    "        ins_inv = ins_sort(b)\n",
    "        merge_inv = merge_sort(a)\n",
    "        assert a == sorted(a)\n",
    "        assert ins_inv == merge_inv\n",
    "    print(\"ok\")\n",
    "\n",
    "merge_test()"
   ]
  },
  {
   "cell_type": "code",
   "execution_count": 63,
   "metadata": {},
   "outputs": [
    {
     "name": "stdout",
     "output_type": "stream",
     "text": [
      "ok\n"
     ]
    }
   ],
   "source": [
    "# inversion count (based on merge sort)\n",
    "\n",
    "def inv_count(a):\n",
    "    src, dst = a[:], a[:]\n",
    "    splits = [(i,i+1) for i in range(len(a))]\n",
    "    inv = 0\n",
    "    while len(splits) > 1:\n",
    "        merged = []\n",
    "        for pair in range(0, len(splits)-1, 2):\n",
    "            li, ln = splits[pair]\n",
    "            ri, rn = splits[pair+1]\n",
    "            merged.append((li, rn))\n",
    "            di = li\n",
    "            while li<ln and ri<rn:\n",
    "                if src[ri] < src[li]:\n",
    "                    dst[di] = src[ri]\n",
    "                    ri += 1\n",
    "                    inv += ln-li  # <--- here we count!!\n",
    "                else:\n",
    "                    dst[di] = src[li]\n",
    "                    li += 1\n",
    "                di += 1\n",
    "            dst[di:di+ln-li] = src[li:ln]\n",
    "            dst[di:di+rn-ri] = src[ri:rn]\n",
    "        if len(splits) % 2:\n",
    "            di, dn = splits[-1]\n",
    "            merged.append((di, dn))\n",
    "            dst[di:dn] = src[di:dn]\n",
    "        splits = merged\n",
    "        src, dst = dst, src\n",
    "    return inv\n",
    "\n",
    "def inv_test():\n",
    "    assert inv_count([1,2,3,4]) == 0\n",
    "    assert inv_count([9,3,1,4]) == 4\n",
    "    assert inv_count([2,3,9,2,9]) == 2\n",
    "\n",
    "    for i in range(100):\n",
    "        a = list(range(random.randint(1,1000)))\n",
    "        random.shuffle(a)\n",
    "        b = a[:]\n",
    "        assert inv_count(a) == ins_sort(b)\n",
    "    print(\"ok\")\n",
    "\n",
    "def main():\n",
    "    n = int(input())\n",
    "    a = list(map(int, input().split()))\n",
    "    assert len(a) == n\n",
    "    print(inv_count(a))\n",
    "\n",
    "inv_test()\n",
    "#main()"
   ]
  },
  {
   "cell_type": "code",
   "execution_count": 65,
   "metadata": {},
   "outputs": [
    {
     "name": "stdout",
     "output_type": "stream",
     "text": [
      "5\n",
      "2 3 9 2 9\n",
      "2\n"
     ]
    }
   ],
   "source": [
    "# plain code without subroutines\n",
    "num = int(input())\n",
    "src = list(map(int, input().split()))\n",
    "assert len(src) == num\n",
    "dst = src[:]\n",
    "splits = [(i,i+1) for i in range(num)]\n",
    "inv = 0\n",
    "while len(splits) > 1:\n",
    "    merged = []\n",
    "    for pair in range(0, len(splits)-1, 2):\n",
    "        li, ln = splits[pair]\n",
    "        ri, rn = splits[pair+1]\n",
    "        merged.append((li, rn))\n",
    "        di = li\n",
    "        while li<ln and ri<rn:\n",
    "            if src[ri] < src[li]:\n",
    "                dst[di] = src[ri]\n",
    "                ri += 1\n",
    "                inv += ln-li  # <--- here we count!!\n",
    "            else:\n",
    "                dst[di] = src[li]\n",
    "                li += 1\n",
    "            di += 1\n",
    "        dst[di:di+ln-li] = src[li:ln]\n",
    "        dst[di:di+rn-ri] = src[ri:rn]\n",
    "    if len(splits) % 2:\n",
    "        di, dn = splits[-1]\n",
    "        merged.append((di, dn))\n",
    "        dst[di:dn] = src[di:dn]\n",
    "    splits = merged\n",
    "    src, dst = dst, src\n",
    "print(inv)"
   ]
  }
 ],
 "metadata": {
  "kernelspec": {
   "display_name": "Python 3",
   "language": "python",
   "name": "python3"
  },
  "language_info": {
   "codemirror_mode": {
    "name": "ipython",
    "version": 3
   },
   "file_extension": ".py",
   "mimetype": "text/x-python",
   "name": "python",
   "nbconvert_exporter": "python",
   "pygments_lexer": "ipython3",
   "version": "3.5.2"
  }
 },
 "nbformat": 4,
 "nbformat_minor": 2
}
