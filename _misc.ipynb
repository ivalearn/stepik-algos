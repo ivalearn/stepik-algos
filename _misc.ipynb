{
 "cells": [
  {
   "cell_type": "code",
   "execution_count": 19,
   "metadata": {},
   "outputs": [
    {
     "name": "stdout",
     "output_type": "stream",
     "text": [
      "14\n",
      "1 3 9 10 11 33 99 297 891 2673 8019 16038 16039 48117 96234\n"
     ]
    }
   ],
   "source": [
    "#n = int(input())\n",
    "n = 96234\n",
    "n += 1\n",
    "w, p = [0]*n, [0]*n\n",
    "for x in range(1, n):\n",
    "    xp, wp = -1, 10*6\n",
    "    if x%2==0 and w[x//2] < wp:\n",
    "        xp, wp = x//2, w[x//2]\n",
    "    if x%3==0 and w[x//3] < wp:\n",
    "        xp, wp = x//3, w[x//3]\n",
    "    if w[x-1] < wp:\n",
    "        xp, wp = x-1, w[x-1]\n",
    "    w[x], p[x] = wp+1, xp\n",
    "x, r = n-1, []\n",
    "while x > 0:\n",
    "    r.append(x)\n",
    "    x = p[x]\n",
    "print(w[-1]-1)\n",
    "print(*reversed(r))"
   ]
  },
  {
   "cell_type": "code",
   "execution_count": 25,
   "metadata": {},
   "outputs": [
    {
     "data": {
      "text/plain": [
       "[(7, 10, 10, 10, 10), (8, 9, 10, 10, 10), (9, 9, 9, 10, 10)]"
      ]
     },
     "execution_count": 25,
     "metadata": {},
     "output_type": "execute_result"
    }
   ],
   "source": [
    "from itertools import permutations, chain, repeat, islice\n",
    "sorted(set(tuple(sorted(x)) for x in permutations(chain.from_iterable(repeat(x, 4) for x in [0,5,6,7,8,9,10]), 5) if sum(x)==47))"
   ]
  },
  {
   "cell_type": "code",
   "execution_count": 27,
   "metadata": {},
   "outputs": [
    {
     "data": {
      "text/plain": [
       "0.102825"
      ]
     },
     "execution_count": 27,
     "metadata": {},
     "output_type": "execute_result"
    }
   ],
   "source": [
    "5 * 0.3**4 * 0.05 + 20 * 0.3**3 * 0.4 * 0.2 + 10 * 0.3**2 * 0.4**3"
   ]
  },
  {
   "cell_type": "code",
   "execution_count": 1,
   "metadata": {},
   "outputs": [
    {
     "name": "stdout",
     "output_type": "stream",
     "text": [
      "1 0.0001 -> 0 1\n",
      ">>> {0: 1.0}\n",
      "1 0.1 -> 0 1\n",
      ">>> {0: 0.9}\n",
      "1 0.2 -> 0 1\n",
      ">>> {0: 0.8}\n",
      "1 0.5 -> 0 1\n",
      ">>> {0: 0.5}\n",
      "1 0.7 -> 1 1\n",
      ">>> {0: 0.3}\n",
      "1 0.8 -> 1 1\n",
      ">>> {0: 0.2}\n",
      "1 0.99 -> 1 1\n",
      ">>> {0: 0.01}\n",
      "2 0.0001 -> 0 1\n",
      ">>> {0: 1.0, 1: 0.0}\n",
      "2 0.1 -> 0 1\n",
      ">>> {0: 0.81, 1: 0.18}\n",
      "2 0.2 -> 0 1\n",
      ">>> {0: 0.64, 1: 0.32}\n",
      "2 0.5 -> 1 2\n",
      ">>> {0: 0.25, 1: 0.5}\n",
      "2 0.7 -> 2 2\n",
      ">>> {0: 0.09, 1: 0.42}\n",
      "2 0.8 -> 2 2\n",
      ">>> {0: 0.04, 1: 0.32}\n",
      "2 0.99 -> 2 2\n",
      ">>> {0: 0.0, 1: 0.02}\n",
      "3 0.0001 -> 0 1\n",
      ">>> {0: 1.0, 1: 0.0, 2: 0.0}\n",
      "3 0.1 -> 0 1\n",
      ">>> {0: 0.729, 1: 0.243, 2: 0.027}\n",
      "3 0.2 -> 0 1\n",
      ">>> {0: 0.512, 1: 0.384, 2: 0.096}\n",
      "3 0.5 -> 1 3\n",
      ">>> {0: 0.125, 1: 0.375, 2: 0.375}\n",
      "3 0.7 -> 2 3\n",
      ">>> {0: 0.027, 1: 0.189, 2: 0.441}\n",
      "3 0.8 -> 3 3\n",
      ">>> {0: 0.008, 1: 0.096, 2: 0.384}\n",
      "3 0.99 -> 3 3\n",
      ">>> {0: 0.0, 1: 0.0, 2: 0.029}\n",
      "4 0.0001 -> 0 1\n",
      ">>> {0: 1.0, 1: 0.0, 2: 0.0, 3: 0.0}\n",
      "4 0.1 -> 0 1\n",
      ">>> {0: 0.656, 1: 0.292, 2: 0.049, 3: 0.004}\n",
      "4 0.2 -> 0 2\n",
      ">>> {0: 0.41, 1: 0.41, 2: 0.154, 3: 0.026}\n",
      "4 0.5 -> 2 3\n",
      ">>> {0: 0.062, 1: 0.25, 2: 0.375, 3: 0.25}\n",
      "4 0.7 -> 3 4\n",
      ">>> {0: 0.008, 1: 0.076, 2: 0.265, 3: 0.412}\n",
      "4 0.8 -> 3 4\n",
      ">>> {0: 0.002, 1: 0.026, 2: 0.154, 3: 0.41}\n",
      "4 0.99 -> 4 4\n",
      ">>> {0: 0.0, 1: 0.0, 2: 0.001, 3: 0.039}\n",
      "5 0.0001 -> 0 1\n",
      ">>> {0: 1.0, 1: 0.0, 2: 0.0, 3: 0.0, 4: 0.0}\n",
      "5 0.1 -> 0 1\n",
      ">>> {0: 0.59, 1: 0.328, 2: 0.073, 3: 0.008, 4: 0.0}\n",
      "5 0.2 -> 1 2\n",
      ">>> {0: 0.328, 1: 0.41, 2: 0.205, 3: 0.051, 4: 0.006}\n",
      "5 0.5 -> 2 4\n",
      ">>> {0: 0.031, 1: 0.156, 2: 0.312, 3: 0.312, 4: 0.156}\n",
      "5 0.7 -> 4 5\n",
      ">>> {0: 0.002, 1: 0.028, 2: 0.132, 3: 0.309, 4: 0.36}\n",
      "5 0.8 -> 4 5\n",
      ">>> {0: 0.0, 1: 0.006, 2: 0.051, 3: 0.205, 4: 0.41}\n",
      "5 0.99 -> 5 5\n",
      ">>> {0: 0.0, 1: 0.0, 2: 0.0, 3: 0.001, 4: 0.048}\n"
     ]
    }
   ],
   "source": [
    "from math import floor, ceil, factorial as fact\n",
    "def P(k,n,p):\n",
    "    return fact(n)/fact(k)/fact(n-k) * p**k * (1-p)**(n-k)\n",
    "def test(n,p):\n",
    "    d = {k: round(P(k,n,p), 3) for k in range(n)}\n",
    "    m = max((v,k) for k,v in d.items())[1]\n",
    "    print(n, p, '->', floor((n+1) * (p-0.0001)), m+1)\n",
    "    print('>>>', d)\n",
    "for n in (1,2,3,4,5):\n",
    "    for p in (0.0001, 0.1, 0.2, 0.5, 0.7, 0.8, 0.99):\n",
    "        test(n, p)"
   ]
  },
  {
   "cell_type": "code",
   "execution_count": null,
   "metadata": {},
   "outputs": [],
   "source": []
  },
  {
   "cell_type": "code",
   "execution_count": null,
   "metadata": {},
   "outputs": [],
   "source": []
  }
 ],
 "metadata": {
  "kernelspec": {
   "display_name": "Python 3",
   "language": "python",
   "name": "python3"
  },
  "language_info": {
   "codemirror_mode": {
    "name": "ipython",
    "version": 3
   },
   "file_extension": ".py",
   "mimetype": "text/x-python",
   "name": "python",
   "nbconvert_exporter": "python",
   "pygments_lexer": "ipython3",
   "version": "3.5.2"
  }
 },
 "nbformat": 4,
 "nbformat_minor": 2
}
