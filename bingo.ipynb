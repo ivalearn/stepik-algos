{
 "cells": [
  {
   "cell_type": "code",
   "execution_count": 1,
   "metadata": {},
   "outputs": [],
   "source": [
    "import numpy as np\n",
    "import math\n",
    "import random\n",
    "from math import factorial as fac\n",
    "from numpy import sqrt, log, sin, pi"
   ]
  },
  {
   "cell_type": "code",
   "execution_count": 2,
   "metadata": {},
   "outputs": [
    {
     "data": {
      "text/plain": [
       "488864376"
      ]
     },
     "execution_count": 2,
     "metadata": {},
     "output_type": "execute_result"
    }
   ],
   "source": [
    "fac(20)//120**4//24"
   ]
  },
  {
   "cell_type": "code",
   "execution_count": 3,
   "metadata": {},
   "outputs": [
    {
     "data": {
      "text/plain": [
       "16800"
      ]
     },
     "execution_count": 3,
     "metadata": {},
     "output_type": "execute_result"
    }
   ],
   "source": [
    "5-10*2**7+10*3**7-5*4**7+5**7"
   ]
  },
  {
   "cell_type": "code",
   "execution_count": 5,
   "metadata": {},
   "outputs": [
    {
     "data": {
      "text/plain": [
       "877790221"
      ]
     },
     "execution_count": 5,
     "metadata": {},
     "output_type": "execute_result"
    }
   ],
   "source": [
    "def catalan1(n, p=1000000007):\n",
    "    c = [1]\n",
    "    for k in range(1, n+1):\n",
    "        r = 0\n",
    "        for i in range(k):\n",
    "            r = (r + c[i] * c[k-1-i] % p) % p\n",
    "            r %= p\n",
    "        c.append(r)\n",
    "    return c[-1]\n",
    "\n",
    "catalan1(766)"
   ]
  },
  {
   "cell_type": "code",
   "execution_count": null,
   "metadata": {},
   "outputs": [],
   "source": [
    "# short catalan1\n",
    "n = int(input())\n",
    "c, N = [1], 1000000007\n",
    "for k in range(1, n+1):\n",
    "    c.append(sum(c[i] * c[k-1-i] % N for i in range(k)) % N)\n",
    "print(c[-1])"
   ]
  },
  {
   "cell_type": "code",
   "execution_count": 84,
   "metadata": {},
   "outputs": [
    {
     "name": "stdout",
     "output_type": "stream",
     "text": [
      "2\n",
      "ok catalan1\n",
      "ok catalan2\n",
      "ok catalan3\n",
      "ok catalan4\n"
     ]
    }
   ],
   "source": [
    "def recip_mod1(q, p):\n",
    "    r = 1\n",
    "    for i in range(p-2):\n",
    "        r = r * q % p\n",
    "    return r\n",
    "\n",
    "def recip_mod2(q, p):\n",
    "    r = 1\n",
    "    for x in map(int, bin(p-2)[2:]):\n",
    "        r = (r * r) * (q if x else 1) % p\n",
    "    return r\n",
    "\n",
    "def recip_mod3(q, p):\n",
    "    p2 = p-2\n",
    "    bp = 1 << (p2.bit_length() - 1)\n",
    "    r = 1\n",
    "    while bp:\n",
    "        r = (r * r % p) * (q if p2 & bp else 1) % p\n",
    "        bp >>= 1\n",
    "    return r\n",
    "\n",
    "def test_recip_mod(ntest=1000, seed=12345):\n",
    "    from random import seed as randseed, randint\n",
    "    randseed(seed)\n",
    "    for p in (101, 1009, 10111, 65537):\n",
    "        for t in range(ntest):\n",
    "            q = randint(1, p-1)\n",
    "            r1 = recip_mod1(q, p)\n",
    "            r2 = recip_mod2(q, p)\n",
    "            r3 = recip_mod3(q, p)\n",
    "            assert r1 == r2 == r3, \"a={} p={} r1={} r2={} r3={}\".format(q, p, r1, r2, r3)\n",
    "        print(\"ok %d\" % p)\n",
    "\n",
    "def catalan2(n, p=1000000007):\n",
    "    c = 1\n",
    "    for k in range(2, n+1):\n",
    "        q1 = recip_mod3(k+1, p)\n",
    "        c = (c * (4*k-2) * q1) %p\n",
    "    return c\n",
    "\n",
    "def catalan3(n, p=1000000007):\n",
    "    # по теореме эйлера обратное к q по модулю p равно q^(p-2)\n",
    "    # p2 это степень, в которую быстро возводим q\n",
    "    p2 = p-2\n",
    "    # возводить в степень будем по методу \"квадрирование-умножение\",\n",
    "    # проверяя биты в p2, начиная со старшего\n",
    "    # bp0 - это маска старшего бита p2\n",
    "    bp0 = 1 << (p2.bit_length() - 1)\n",
    "    # вычисляем числа каталана, начиная с C(0)=C(1)=1\n",
    "    c = 1\n",
    "    for k in range(2, n+1):\n",
    "        # вычислим q1=1/(k+1) по модулю p\n",
    "        q = k + 1\n",
    "        q1, bp = 1, bp0\n",
    "        while bp:\n",
    "            q1 = (q1 * q1 % p) * (q if p2 & bp else 1) % p\n",
    "            bp >>= 1\n",
    "        # c(n)=c(n-1)*(4k-2)/(k+1) по модулю p\n",
    "        c = c * (4*k-2) * q1 %p\n",
    "    return c\n",
    "\n",
    "def catalan4(n, p=1000000007):\n",
    "    c = 1\n",
    "    for k in range(2, n+1):\n",
    "        c = c * (4*k-2) * pow(k+1, p-2, p) %p\n",
    "    return c\n",
    "\n",
    "def test_catalan(catalan=catalan3, go_long=True):\n",
    "    assert catalan(0) == 1\n",
    "    assert catalan(1) == 1\n",
    "    assert catalan(5) == 42\n",
    "    assert catalan(766) == 877790221\n",
    "    if go_long:\n",
    "        assert catalan(79172) == 30408719\n",
    "    print(\"ok {}\".format(catalan.__name__))\n",
    "\n",
    "#test_recip_mod()\n",
    "print(catalan4(2))\n",
    "test_catalan(catalan1, go_long=False)\n",
    "test_catalan(catalan2)\n",
    "test_catalan(catalan3)\n",
    "test_catalan(catalan4)\n",
    "#print(catalan3(int(input())))"
   ]
  },
  {
   "cell_type": "code",
   "execution_count": 51,
   "metadata": {},
   "outputs": [
    {
     "data": {
      "text/plain": [
       "25"
      ]
     },
     "execution_count": 51,
     "metadata": {},
     "output_type": "execute_result"
    }
   ],
   "source": [
    "p = 1000000007\n",
    "625 * pow(25, p-2, p) % p"
   ]
  },
  {
   "cell_type": "code",
   "execution_count": 83,
   "metadata": {},
   "outputs": [
    {
     "name": "stdout",
     "output_type": "stream",
     "text": [
      "ok\n"
     ]
    }
   ],
   "source": [
    "def binom_euler(k, n, p=1000000007):\n",
    "    cp = cq = 1\n",
    "    for i in range(n-k+1, n+1):\n",
    "        cp = cp * i % p\n",
    "    for i in range(1, k+1):\n",
    "        cq = cq * i % p\n",
    "    r = c = cp * pow(cq, p-2, p) % p\n",
    "    for i in range(2, int(c**.5) + 1):\n",
    "        if c % i == 0:\n",
    "            while c % i == 0:\n",
    "                c //= i\n",
    "            r -= r // i\n",
    "    if c > 1:\n",
    "        r -= r // c\n",
    "    return r\n",
    "\n",
    "def test_binom_euler():\n",
    "    assert binom_euler(1, 5) == 4\n",
    "    assert binom_euler(0, 2) == 1\n",
    "    assert binom_euler(5, 10) == 72\n",
    "    print(\"ok\")\n",
    "\n",
    "test_binom_euler()\n",
    "#print(binom_euler(*map(int, input().split())))"
   ]
  },
  {
   "cell_type": "code",
   "execution_count": 82,
   "metadata": {},
   "outputs": [
    {
     "data": {
      "text/plain": [
       "[2, 3, 4]"
      ]
     },
     "execution_count": 82,
     "metadata": {},
     "output_type": "execute_result"
    }
   ],
   "source": [
    "list(range(2, int(16**.5 + 1)))"
   ]
  },
  {
   "cell_type": "code",
   "execution_count": 86,
   "metadata": {},
   "outputs": [
    {
     "data": {
      "text/plain": [
       "0.6141975308641976"
      ]
     },
     "execution_count": 86,
     "metadata": {},
     "output_type": "execute_result"
    }
   ],
   "source": [
    "1-1/6*5/6/400/0.03**2"
   ]
  },
  {
   "cell_type": "code",
   "execution_count": 13,
   "metadata": {},
   "outputs": [
    {
     "data": {
      "text/plain": [
       "(8.270676691729323, 8.270676691729326)"
      ]
     },
     "execution_count": 13,
     "metadata": {},
     "output_type": "execute_result"
    }
   ],
   "source": [
    "p, q, k, n = 0.6, 0.4, 2, 6\n",
    "s = q/p\n",
    "p_k = (1-s**k)/(1-s**n)\n",
    "p_nk = (1-(1/s)**(n-k))/(1-(1/s)**n)\n",
    "m1 = 1/(p-q)*((n-k)*p_k - k*p_nk)\n",
    "m2 = 1/(p-q)*(n*(1-s**k)/(1-s**n)-k)\n",
    "m1,m2"
   ]
  },
  {
   "cell_type": "code",
   "execution_count": null,
   "metadata": {},
   "outputs": [],
   "source": []
  },
  {
   "cell_type": "code",
   "execution_count": null,
   "metadata": {},
   "outputs": [],
   "source": []
  },
  {
   "cell_type": "code",
   "execution_count": null,
   "metadata": {},
   "outputs": [],
   "source": []
  },
  {
   "cell_type": "code",
   "execution_count": null,
   "metadata": {},
   "outputs": [],
   "source": []
  },
  {
   "cell_type": "code",
   "execution_count": null,
   "metadata": {},
   "outputs": [],
   "source": []
  },
  {
   "cell_type": "code",
   "execution_count": null,
   "metadata": {},
   "outputs": [],
   "source": []
  },
  {
   "cell_type": "code",
   "execution_count": null,
   "metadata": {},
   "outputs": [],
   "source": []
  },
  {
   "cell_type": "code",
   "execution_count": null,
   "metadata": {},
   "outputs": [],
   "source": []
  },
  {
   "cell_type": "code",
   "execution_count": null,
   "metadata": {},
   "outputs": [],
   "source": [
    "n = 10**7\n",
    "r = 2\n",
    "r2 = r**2\n",
    "phi = np.random.random(n) * pi\n",
    "(r*r/2*(phi-sin(phi))).mean(), pi*r*r/4-r*r/pi"
   ]
  },
  {
   "cell_type": "code",
   "execution_count": null,
   "metadata": {},
   "outputs": [],
   "source": [
    "def tmul(a,i,j,lr):\n",
    "    n = a.shape[0]\n",
    "    b = np.zeros((n,n))\n",
    "    b[i-1,j-1] = 1\n",
    "    assert lr in 'lr'\n",
    "    return int((b @ a if lr == 'l' else a @ b).trace())\n",
    "def ta(n=5):\n",
    "    return np.array([i*10+j for i in range(1,n+1) for j in range(1,n+1)]).reshape((n,n))\n",
    "tmul(ta(), 5,2, 'r')"
   ]
  },
  {
   "cell_type": "code",
   "execution_count": null,
   "metadata": {},
   "outputs": [],
   "source": [
    "def test(n=8):\n",
    "    assert n%2==0, \"n must be even\"\n",
    "    a = np.zeros((n,n))\n",
    "    e = np.eye(n)\n",
    "    moves=[(i,j) for i in range(n) for j in range(n)]\n",
    "    random.shuffle(moves)\n",
    "    while moves:\n",
    "        # 1st guy\n",
    "        i1,j1 = moves.pop()\n",
    "        a[i1,j1] = 1 + np.random.random()*2\n",
    "        # 2nd guy\n",
    "        irem = 0\n",
    "        for i, j in moves:\n",
    "            if i == i1:\n",
    "                i2, j2 = i, j\n",
    "                irem += 1\n",
    "        assert irem > 0, \"no moves for row %d!\" % i1\n",
    "        moves.remove((i2,j2))\n",
    "        if irem > 1:\n",
    "            a[i2,j2] = 3 + np.random.random()*2\n",
    "        else:\n",
    "            a[i2,j2] = 0\n",
    "            a[i2,j2] = 1 - sum(a[i2,j] for j in range(n))\n",
    "    d = np.linalg.det(a-e)\n",
    "    #print(a)\n",
    "    #print(d)\n",
    "    assert abs(d) < 1e-5, \"d={}\".format(d)\n",
    "\n",
    "for _ in range(1000):\n",
    "    test(8)"
   ]
  },
  {
   "cell_type": "markdown",
   "metadata": {},
   "source": [
    "один проход по массиву а\n",
    "* Это можно сделать в один проход по массиву а.\n",
    "* Каждый раз, когда мы встречаем элемент массива b, мы записываем его и его номер в специальные массивы.\n",
    "* При этом мы поддерживаем в этих массивах отрезок I, на котором мы надеемся найти все различные элементы b.\n",
    "* Ясно, что если очередной элемент массива а совпадает с первым элементом отрезка I, то I уже явно не может быть кратчайшим отрезком, удовлетворяющим условию задачи, и мы можем сдвинуть его левый конец.\n",
    "* Если на очередном шаге мы понимаем, что I содержит все различные элементы b, то I – кандидат на ответ; в этом случае мы также сдвигаем его левый конец."
   ]
  },
  {
   "cell_type": "code",
   "execution_count": null,
   "metadata": {},
   "outputs": [],
   "source": [
    "import numpy as np\n",
    "\n",
    "def subset(a, b):\n",
    "    b_v2i = {v:i for i, v in enumerate(b)}\n",
    "    n_a, n_b = len(a), len(b)\n",
    "    val_ind = [-1] * n_a\n",
    "    val_cnt = [0] * n_b\n",
    "    uniq_cnt = 0\n",
    "    next_val = [-1] * n_a\n",
    "\n",
    "    cur_s, cur_e = -1, -1\n",
    "    best_s, best_e = 0, len(a)\n",
    "\n",
    "    for i_a in range(n_a):\n",
    "        v = a[i_a]\n",
    "        if v not in b_v2i:\n",
    "            continue\n",
    "        i_b = b_v2i[v]\n",
    "        val_ind[i_a] = i_b\n",
    "\n",
    "        if cur_e == -1:\n",
    "            cur_s = i_a\n",
    "        else:\n",
    "            next_val[cur_e] = i_a\n",
    "        cur_e = i_a\n",
    "\n",
    "        val_cnt[i_b] += 1\n",
    "        if val_cnt[i_b] == 1:\n",
    "            uniq_cnt += 1\n",
    "            if uniq_cnt == n_b:\n",
    "                best_s, best_e = cur_s, cur_e\n",
    "\n",
    "        if uniq_cnt < n_b:\n",
    "            continue\n",
    "        while val_cnt[val_ind[cur_s]] > 1:\n",
    "            val_cnt[val_ind[cur_s]] -= 1\n",
    "            cur_s = next_val[cur_s]\n",
    "        if cur_e - cur_s < best_e - best_s:\n",
    "            best_s, best_e = cur_s, cur_e\n",
    "\n",
    "    rv, ri = [], []\n",
    "    i_a = best_s\n",
    "    while -1 < i_a <= best_e:\n",
    "        if val_cnt[val_ind[i_a]]:\n",
    "            rv.append(a[i_a])\n",
    "            ri.append(i_a)\n",
    "            val_cnt[val_ind[i_a]] = 0\n",
    "        i_a = next_val[i_a]\n",
    "    return ri\n",
    "\n",
    "def naive(a, b):\n",
    "    assert set(a) >= set(b)\n",
    "    an, bn = len(a), len(b)\n",
    "    bs = set(b)\n",
    "    sok,eok = 0,an\n",
    "    for s in range(an-bn+1):\n",
    "        for e in range(s+bn,an):\n",
    "            if set(a[s:e]) >= bs:\n",
    "                if e-s < eok-sok:\n",
    "                    sok,eok = s,e\n",
    "    rv, ri = [], []\n",
    "    for i in range(sok,eok):\n",
    "        x = a[i]\n",
    "        if x in bs:\n",
    "            rv.append(x)\n",
    "            ri.append(i)\n",
    "            bs.remove(x)\n",
    "    return ri\n",
    "\n",
    "def testset(bn=10, an=20):\n",
    "    from random import randint, choice, shuffle\n",
    "    b = set()\n",
    "    while len(b) < bn:\n",
    "        b.add(randint(1,bn*2))\n",
    "    b = list(b)\n",
    "    shuffle(b)\n",
    "    a = []\n",
    "    for i in range(an):\n",
    "        a.append(choice(b) if randint(0,1) else randint(bn*2,an*2))\n",
    "    i = 0\n",
    "    while not (set(a) >= set(b)):\n",
    "        rem = set(b) - set(a)\n",
    "        for x in rem:\n",
    "            a[i] = x\n",
    "            i += 1\n",
    "    shuffle(a)\n",
    "    return a,b\n",
    "\n",
    "def one_test(bn=10, an=20, verb=False, only=False):\n",
    "    from time import perf_counter as timer\n",
    "\n",
    "    a, b = testset(bn, an)\n",
    "    if verb:\n",
    "        print(\"test set done\")\n",
    "\n",
    "    if only:\n",
    "        dt1 = 0\n",
    "    else:\n",
    "        t0 = timer()\n",
    "        ri1 = naive(a,b)\n",
    "        dt1 = timer() - t0\n",
    "\n",
    "    t0 = timer()\n",
    "    ri2 = subset(a,b)\n",
    "    dt2 = timer() - t0\n",
    "\n",
    "    if verb:\n",
    "        print(\"av:\", *[\"{}:{}\".format(i,v) for i,v in dict(enumerate(a)).items()])\n",
    "        print(\"bv:\", *b)\n",
    "\n",
    "        print(\"rv1\", *rv1)\n",
    "        print(\"ri1\", *ri1)\n",
    "        print(best1)\n",
    "\n",
    "        print(\"rv2\", *rv2)\n",
    "        print(\"ri2\", *ri2)\n",
    "        print(best2)\n",
    "\n",
    "    if not only:\n",
    "        assert len(ri1) == len(b)\n",
    "    assert len(ri2) == len(b)\n",
    "    bs = sorted(b)\n",
    "    rs = sorted(a[i] for i in ri2)\n",
    "    assert bs == rs\n",
    "    if not only:\n",
    "        assert ri2[-1] - ri2[0] <= ri1[-1] - ri1[0]\n",
    "\n",
    "    return dt1, dt2\n",
    "\n",
    "def many_tests(n, bn, an, verb, only):\n",
    "    dt1 = np.zeros((n,))\n",
    "    dt2 = np.zeros((n,))\n",
    "    for i in range(n):\n",
    "        dt1[i], dt2[i] = one_test(bn=bn, an=an, verb=verb, only=only)\n",
    "    return round(dt1.mean(),5), round(dt2.mean(),5)\n",
    "\n",
    "print(*many_tests(n=100, bn=10**2, an=10**3, verb=False, only=False))"
   ]
  },
  {
   "cell_type": "code",
   "execution_count": null,
   "metadata": {},
   "outputs": [],
   "source": [
    "### from math import sqrt, exp, pi, factorial as fac\n",
    "import scipy\n",
    "from scipy.special import erf\n",
    "f0 = lambda x: erf(x/sqrt(2))/2\n",
    "fi = lambda x: .5-f0(x) if x<0 else .5+f0(x)\n",
    "\n",
    "def deps(x,a):\n",
    "    if abs(x-a)<=abs(a)*1e-6:\n",
    "        return 0\n",
    "    if abs(a)<1e-200 and abs(x)>1e-104:\n",
    "        return 1000\n",
    "    return abs((x-a)/a*100)\n",
    "\n",
    "def C(n,k):\n",
    "    if n>0 and k<n:\n",
    "        return fac(n)//fac(k)//fac(n-k)\n",
    "    else:\n",
    "        return 1\n",
    "    \n",
    "def binom1(n,p,k):\n",
    "    q = 1-p\n",
    "    r = 1\n",
    "    qn = n-k\n",
    "    qs = int((n-k)//k)\n",
    "    qr = q**qs if qs > 0 else q\n",
    "    for i in range(1,k+1):\n",
    "        r *= (n-k+i)/i*p*qr\n",
    "        qn -= qs\n",
    "    if qn > 0:\n",
    "        r *= q**qn\n",
    "    return r\n",
    "\n",
    "def binom(n,p,k,upper=None):\n",
    "    if upper is None:\n",
    "        return binom1(n,p,k)\n",
    "    r = 0\n",
    "    for i in range(k,upper+1):\n",
    "        r += binom1(n,p,i)\n",
    "    return r\n",
    "\n",
    "def pois(n,p,k):\n",
    "    l = p*n\n",
    "    if k>300:\n",
    "        return 0\n",
    "    r = l**k * exp(-l) / fac(k)\n",
    "    if abs(r) < 1e-103:\n",
    "        r = 0\n",
    "    return r\n",
    "\n",
    "def localm(n,p,k):\n",
    "    q = 1-p\n",
    "    s = sqrt(n*p*q)\n",
    "    x = (k-n*p)/s\n",
    "    return exp(-x**2/2)/sqrt(2*pi)/s\n",
    "\n",
    "def integm(n,p,k,upper=None):\n",
    "    q = 1-p\n",
    "    e = n*p\n",
    "    s = sqrt(n*p*q)\n",
    "    a = k\n",
    "    b = upper if upper else k+1\n",
    "    return fi((b-e)/s)-fi((a-e)/s)\n",
    "\n",
    "def allmet(n,p,k,many,upper=None):\n",
    "    rb = binom(n,p,k,upper)\n",
    "\n",
    "    rp = pois(n,p,k)\n",
    "    l=n*p\n",
    "    ep = 2*p*min(2,l)\n",
    "\n",
    "    rl = localm(n,p,k)\n",
    "    q=1-p\n",
    "    el = n*p*q\n",
    "\n",
    "    ri = integm(n,p,k,upper)\n",
    "    s = sqrt(n*p*q)\n",
    "    ei = (p**2+q**2)/s\n",
    "\n",
    "    print('n',n,'p',p,'k',k,'many',many)\n",
    "    print('binom   {:9.3g} d {:9.2g}%'.format(rb, deps(rb,rb)))\n",
    "    print('pois    {:9.3g} d {:9.2g}% eps {:.4g}'.format(rp, deps(rp,rb), ep))\n",
    "    print('integm  {:9.3g} d {:9.2g}% eps {:.4g}'.format(ri, deps(ri,rb), ei))\n",
    "    print('localm  {:9.3g} d {:9.2g}% npq>20 {:.4g}  k>20={}'.format(rl, deps(rl,rb), el, 'ny'[k>20]))\n",
    "    print('------------')\n",
    "allmet(600,0.25,80,'=')\n",
    "allmet(500,.01,10,'=')\n",
    "allmet(500,.2,100,'<.>',200)\n",
    "allmet(300,0.005,6,'>')\n",
    "allmet(500,.99,100,'=')\n",
    "allmet(500,.01,400,'=')\n",
    "allmet(200,.5,30,'<')\n",
    "allmet(200,.5,1,'<.>',30)\n",
    "allmet(20,0.3,3,'=')"
   ]
  },
  {
   "cell_type": "markdown",
   "metadata": {},
   "source": [
    "----"
   ]
  },
  {
   "cell_type": "code",
   "execution_count": null,
   "metadata": {},
   "outputs": [],
   "source": [
    "import numpy as np\n",
    "import scipy as sp\n",
    "import matplotlib.pyplot as plt\n",
    "from numpy import cos, pi\n",
    "from scipy.integrate import quad\n",
    "def an1(an,n):\n",
    "    k = 2*n+1\n",
    "    def subint(t):\n",
    "        return 1+0.25*cos(t)**k\n",
    "    res, err = quad(subint, 0, an)\n",
    "    return res\n",
    "def anseq(an0, num):\n",
    "    res = [an0]\n",
    "    for n in range(1, num+1):\n",
    "        res.append(an1(res[-1], n))\n",
    "    return res"
   ]
  },
  {
   "cell_type": "code",
   "execution_count": null,
   "metadata": {},
   "outputs": [],
   "source": [
    "plt.plot(np.array(anseq(pi*1.99,800)))"
   ]
  },
  {
   "cell_type": "code",
   "execution_count": null,
   "metadata": {},
   "outputs": [],
   "source": []
  },
  {
   "cell_type": "code",
   "execution_count": null,
   "metadata": {},
   "outputs": [],
   "source": []
  },
  {
   "cell_type": "code",
   "execution_count": null,
   "metadata": {},
   "outputs": [],
   "source": []
  },
  {
   "cell_type": "code",
   "execution_count": null,
   "metadata": {},
   "outputs": [],
   "source": []
  },
  {
   "cell_type": "code",
   "execution_count": null,
   "metadata": {},
   "outputs": [],
   "source": []
  },
  {
   "cell_type": "code",
   "execution_count": null,
   "metadata": {},
   "outputs": [],
   "source": []
  },
  {
   "cell_type": "code",
   "execution_count": null,
   "metadata": {},
   "outputs": [],
   "source": []
  },
  {
   "cell_type": "code",
   "execution_count": null,
   "metadata": {},
   "outputs": [],
   "source": []
  }
 ],
 "metadata": {
  "kernelspec": {
   "display_name": "Python 3",
   "language": "python",
   "name": "python3"
  },
  "language_info": {
   "codemirror_mode": {
    "name": "ipython",
    "version": 3
   },
   "file_extension": ".py",
   "mimetype": "text/x-python",
   "name": "python",
   "nbconvert_exporter": "python",
   "pygments_lexer": "ipython3",
   "version": "3.5.2"
  }
 },
 "nbformat": 4,
 "nbformat_minor": 2
}
