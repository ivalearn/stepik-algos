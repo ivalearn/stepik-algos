{
 "cells": [
  {
   "cell_type": "code",
   "execution_count": 46,
   "metadata": {},
   "outputs": [
    {
     "name": "stdout",
     "output_type": "stream",
     "text": [
      "6\n",
      "insert 200\n",
      "insert 10\n",
      "extractmax\n",
      "200\n",
      "insert 5\n",
      "insert 500\n",
      "extractmax\n",
      "500\n"
     ]
    }
   ],
   "source": [
    "h = []\n",
    "\n",
    "def ins(x):\n",
    "    n = len(h)\n",
    "    h.append(x)\n",
    "    p = (n-1) // 2\n",
    "    while n > 0 and x > h[p]:\n",
    "        h[n] = h[p]\n",
    "        h[p] = x\n",
    "        n = p\n",
    "        p = (n-1) // 2\n",
    "\n",
    "def get():\n",
    "    m = h[0]\n",
    "    x = h.pop()\n",
    "    n = len(h)-1\n",
    "    if n >= 0:\n",
    "        h[0] = x\n",
    "        p = 0\n",
    "        c = p+p+1\n",
    "        while c <= n:\n",
    "            if c < n and h[c+1] > h[c]:\n",
    "                c += 1\n",
    "            if x >= h[c]:\n",
    "                break\n",
    "            h[p] = h[c]\n",
    "            h[c] = x\n",
    "            p = c\n",
    "            c = p+p+1\n",
    "    return m\n",
    "\n",
    "def main():\n",
    "    h.clear()\n",
    "    for _ in range(int(input())):\n",
    "        op = input()\n",
    "        if op.lower() == \"extractmax\":\n",
    "            print(get())\n",
    "        else:\n",
    "            _, x = op.split()\n",
    "            ins(int(x))\n",
    "\n",
    "main()"
   ]
  },
  {
   "cell_type": "code",
   "execution_count": 48,
   "metadata": {},
   "outputs": [
    {
     "name": "stdout",
     "output_type": "stream",
     "text": [
      "200\n",
      "500\n"
     ]
    }
   ],
   "source": [
    "h.clear()\n",
    "ins(200)\n",
    "ins(10)\n",
    "print(get())\n",
    "ins(5)\n",
    "ins(500)\n",
    "print(get())"
   ]
  }
 ],
 "metadata": {
  "kernelspec": {
   "display_name": "Python 3",
   "language": "python",
   "name": "python3"
  },
  "language_info": {
   "codemirror_mode": {
    "name": "ipython",
    "version": 3
   },
   "file_extension": ".py",
   "mimetype": "text/x-python",
   "name": "python",
   "nbconvert_exporter": "python",
   "pygments_lexer": "ipython3",
   "version": "3.5.2"
  }
 },
 "nbformat": 4,
 "nbformat_minor": 2
}
