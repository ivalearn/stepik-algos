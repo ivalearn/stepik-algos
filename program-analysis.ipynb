{
 "cells": [
  {
   "cell_type": "markdown",
   "metadata": {},
   "source": [
    "## [Автоматический анализ программ](https://stepik.org/lesson/41560/step/4)\n",
    "\n",
    "([условия задач.pdf](https://stepik.org/media/attachments/lesson/41233/statements.pdf))"
   ]
  },
  {
   "cell_type": "code",
   "execution_count": 18,
   "metadata": {},
   "outputs": [
    {
     "name": "stdout",
     "output_type": "stream",
     "text": [
      "OK\n"
     ]
    }
   ],
   "source": [
    "def program_analysis(n_vars, n_eqs, n_neqs, eqs, neqs):\n",
    "    link = list(range(n_vars+1))\n",
    "    rank = [0] * (n_vars + 1)\n",
    "    def find(t):\n",
    "        r = t\n",
    "        while r != link[r]:\n",
    "            r = link[r]\n",
    "        if r not in (t, link[t]):\n",
    "            while t != r:\n",
    "                t, link[t] = link[t], r\n",
    "        return r\n",
    "    eqs = iter(eqs)\n",
    "    for i in range(n_eqs):\n",
    "        a, b = next(eqs).split()\n",
    "        a = find(int(a))\n",
    "        b = find(int(b))\n",
    "        if a == b:\n",
    "            continue\n",
    "        if rank[a] > rank[b]:\n",
    "            a, b = b, a\n",
    "        link[a] = b\n",
    "        if rank[a] == rank[b]:\n",
    "            rank[b] += 1\n",
    "    neqs = iter(neqs)\n",
    "    for i in range(n_neqs):\n",
    "        a, b = next(neqs).split()\n",
    "        if find(int(a)) == find(int(b)):\n",
    "            return 0\n",
    "    return 1\n",
    "\n",
    "def test():\n",
    "    assert program_analysis(4,6,0, ['1 2','1 3','1 4','2 3','2 4','3 4'], []) == 1\n",
    "    assert program_analysis(4,6,1, ['1 2','1 3','1 4','2 3','2 4','3 4'], ['1 2']) == 0\n",
    "    assert program_analysis(4,0,6, [], ['1 2','1 3','1 4','2 3','2 4','3 4']) == 1\n",
    "    print(\"OK\")\n",
    "\n",
    "def main():\n",
    "    import sys\n",
    "    print(program_analysis(int(input.split()[0]), None, None, sys.stdin, sys.stdin))\n",
    "\n",
    "test()"
   ]
  },
  {
   "cell_type": "code",
   "execution_count": 24,
   "metadata": {},
   "outputs": [
    {
     "name": "stdout",
     "output_type": "stream",
     "text": [
      "Overwriting program-analysis.py\n"
     ]
    }
   ],
   "source": [
    "%%writefile program-analysis.py\n",
    "from sys import stdin\n",
    "\n",
    "n_vars, n_eqs, n_neqs = map(int, next(stdin).split())\n",
    "link = list(range(n_vars+1))\n",
    "rank = [0] * (n_vars + 1)\n",
    "\n",
    "def find(t):\n",
    "    r = t\n",
    "    while r != link[r]:\n",
    "        r = link[r]\n",
    "    if r not in (t, link[t]):\n",
    "        while t != r:\n",
    "            t, link[t] = link[t], r\n",
    "    return r\n",
    "\n",
    "# equalitites\n",
    "for i in range(n_eqs):\n",
    "    a, b = next(stdin).split()\n",
    "    a, b = find(int(a)), find(int(b))\n",
    "    if a == b:\n",
    "        continue\n",
    "    if rank[a] > rank[b]:\n",
    "        a, b = b, a\n",
    "    link[a] = b\n",
    "    if rank[a] == rank[b]:\n",
    "        rank[b] += 1\n",
    "\n",
    "# inequalities\n",
    "for line in iter(stdin):\n",
    "    a, b = line.split()\n",
    "    if find(int(a)) == find(int(b)):\n",
    "        print(0)\n",
    "        break\n",
    "else:\n",
    "    print(1)"
   ]
  },
  {
   "cell_type": "code",
   "execution_count": 25,
   "metadata": {},
   "outputs": [
    {
     "name": "stdout",
     "output_type": "stream",
     "text": [
      "expect: 1\n",
      "1\n"
     ]
    }
   ],
   "source": [
    "%%bash\n",
    "echo \"expect: 1\"\n",
    "python3 program-analysis.py <<EOF\n",
    "4 6 0\n",
    "1 2\n",
    "1 3\n",
    "1 4\n",
    "2 3\n",
    "2 4\n",
    "3 4\n",
    "EOF"
   ]
  },
  {
   "cell_type": "code",
   "execution_count": 26,
   "metadata": {},
   "outputs": [
    {
     "name": "stdout",
     "output_type": "stream",
     "text": [
      "expect: 0\n",
      "0\n"
     ]
    }
   ],
   "source": [
    "%%bash\n",
    "echo \"expect: 0\"\n",
    "python3 program-analysis.py <<EOF\n",
    "4 6 1\n",
    "1 2\n",
    "1 3\n",
    "1 4\n",
    "2 3\n",
    "2 4\n",
    "3 4\n",
    "1 2\n",
    "EOF"
   ]
  }
 ],
 "metadata": {
  "kernelspec": {
   "display_name": "Python 3",
   "language": "python",
   "name": "python3"
  },
  "language_info": {
   "codemirror_mode": {
    "name": "ipython",
    "version": 3
   },
   "file_extension": ".py",
   "mimetype": "text/x-python",
   "name": "python",
   "nbconvert_exporter": "python",
   "pygments_lexer": "ipython3",
   "version": "3.5.2"
  }
 },
 "nbformat": 4,
 "nbformat_minor": 2
}
