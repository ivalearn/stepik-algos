{
 "cells": [
  {
   "cell_type": "code",
   "execution_count": 20,
   "metadata": {},
   "outputs": [],
   "source": [
    "from sympy import *\n",
    "init_printing()"
   ]
  },
  {
   "cell_type": "code",
   "execution_count": 47,
   "metadata": {},
   "outputs": [],
   "source": [
    "p,z,x,y = var(\"p z x y\")\n",
    "G = log(1-p*z)/log(1-p)\n",
    "Gd = G.diff(z, 1)\n",
    "Gdd = G.diff(z, 2)\n",
    "Gd1 = Gd.subs(z, 1)\n",
    "Gdd1 = Gdd.subs(z, 1)\n",
    "E = simplify(Gd1)\n",
    "D = simplify(Gdd1 + Gd1 - Gd1 ** 2)\n",
    "R = E*x + D*y"
   ]
  },
  {
   "cell_type": "code",
   "execution_count": 48,
   "metadata": {},
   "outputs": [
    {
     "data": {
      "image/png": "[encoded data removed]",
      "text/latex": [
       "$$\\frac{p}{\\left(p - 1\\right) \\log{\\left (- p + 1 \\right )}}$$"
      ],
      "text/plain": [
       "         p         \n",
       "───────────────────\n",
       "(p - 1)⋅log(-p + 1)"
      ]
     },
     "execution_count": 48,
     "metadata": {},
     "output_type": "execute_result"
    }
   ],
   "source": [
    "E"
   ]
  },
  {
   "cell_type": "code",
   "execution_count": 49,
   "metadata": {},
   "outputs": [
    {
     "data": {
      "image/png": "[encoded data removed]",
      "text/latex": [
       "$$- \\frac{p \\left(p + \\log{\\left (- p + 1 \\right )}\\right)}{\\left(p^{2} - 2 p + 1\\right) \\log^{2}{\\left (- p + 1 \\right )}}$$"
      ],
      "text/plain": [
       "   -p⋅(p + log(-p + 1))    \n",
       "───────────────────────────\n",
       "⎛ 2          ⎞    2        \n",
       "⎝p  - 2⋅p + 1⎠⋅log (-p + 1)"
      ]
     },
     "execution_count": 49,
     "metadata": {},
     "output_type": "execute_result"
    }
   ],
   "source": [
    "D"
   ]
  },
  {
   "cell_type": "code",
   "execution_count": 60,
   "metadata": {},
   "outputs": [
    {
     "data": {
      "image/png": "[encoded data removed]",
      "text/latex": [
       "$$- \\frac{p^{2}}{\\left(p - 1\\right)^{2} \\log{\\left (- p + 1 \\right )}}$$"
      ],
      "text/plain": [
       "          2         \n",
       "        -p          \n",
       "────────────────────\n",
       "       2            \n",
       "(p - 1) ⋅log(-p + 1)"
      ]
     },
     "execution_count": 60,
     "metadata": {},
     "output_type": "execute_result"
    }
   ],
   "source": [
    "Gdd1"
   ]
  },
  {
   "cell_type": "code",
   "execution_count": 52,
   "metadata": {},
   "outputs": [
    {
     "data": {
      "text/plain": [
       "'p*x/((p - 1)*log(-p + 1)) - p*y*(p + log(-p + 1))/((p**2 - 2*p + 1)*log(-p + 1)**2)'"
      ]
     },
     "execution_count": 52,
     "metadata": {},
     "output_type": "execute_result"
    }
   ],
   "source": [
    "repr(R)"
   ]
  },
  {
   "cell_type": "code",
   "execution_count": 31,
   "metadata": {},
   "outputs": [
    {
     "data": {
      "image/png": "[encoded data removed]",
      "text/latex": [
       "$$- \\frac{p^{2}}{\\left(- p z + 1\\right)^{2} \\log{\\left (- p + 1 \\right )}}$$"
      ],
      "text/plain": [
       "            2          \n",
       "          -p           \n",
       "───────────────────────\n",
       "          2            \n",
       "(-p⋅z + 1) ⋅log(-p + 1)"
      ]
     },
     "execution_count": 31,
     "metadata": {},
     "output_type": "execute_result"
    }
   ],
   "source": [
    "G2 = G1.diff(z)\n",
    "G2"
   ]
  },
  {
   "cell_type": "code",
   "execution_count": 29,
   "metadata": {},
   "outputs": [
    {
     "data": {
      "image/png": "[encoded data removed]",
      "text/latex": [
       "$$- \\frac{p^{2}}{\\left(- p + 1\\right)^{2} \\log{\\left (- p + 1 \\right )}} - \\frac{p^{2}}{\\left(- p + 1\\right)^{2} \\log^{2}{\\left (- p + 1 \\right )}} - \\frac{p}{\\left(- p + 1\\right) \\log{\\left (- p + 1 \\right )}}$$"
      ],
      "text/plain": [
       "             2                       2                                 \n",
       "            p                       p                       p          \n",
       "- ───────────────────── - ────────────────────── - ────────────────────\n",
       "          2                       2    2           (-p + 1)⋅log(-p + 1)\n",
       "  (-p + 1) ⋅log(-p + 1)   (-p + 1) ⋅log (-p + 1)                       "
      ]
     },
     "execution_count": 29,
     "metadata": {},
     "output_type": "execute_result"
    }
   ],
   "source": [
    "D = G2.subs({z:1}) + E - E**2\n",
    "D"
   ]
  },
  {
   "cell_type": "code",
   "execution_count": 30,
   "metadata": {},
   "outputs": [
    {
     "data": {
      "image/png": "[encoded data removed]",
      "text/latex": [
       "$$- \\frac{p \\left(p + \\log{\\left (- p + 1 \\right )}\\right)}{\\left(p^{2} - 2 p + 1\\right) \\log^{2}{\\left (- p + 1 \\right )}}$$"
      ],
      "text/plain": [
       "   -p⋅(p + log(-p + 1))    \n",
       "───────────────────────────\n",
       "⎛ 2          ⎞    2        \n",
       "⎝p  - 2⋅p + 1⎠⋅log (-p + 1)"
      ]
     },
     "execution_count": 30,
     "metadata": {},
     "output_type": "execute_result"
    }
   ],
   "source": [
    "simplify(D)"
   ]
  },
  {
   "cell_type": "code",
   "execution_count": null,
   "metadata": {},
   "outputs": [],
   "source": []
  }
 ],
 "metadata": {
  "kernelspec": {
   "display_name": "Python 3",
   "language": "python",
   "name": "python3"
  },
  "language_info": {
   "codemirror_mode": {
    "name": "ipython",
    "version": 3
   },
   "file_extension": ".py",
   "mimetype": "text/x-python",
   "name": "python",
   "nbconvert_exporter": "python",
   "pygments_lexer": "ipython3",
   "version": "3.5.2"
  }
 },
 "nbformat": 4,
 "nbformat_minor": 2
}
