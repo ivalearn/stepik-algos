{
 "cells": [
  {
   "cell_type": "markdown",
   "metadata": {},
   "source": [
    "## Основная теорема\n",
    "\n",
    "$$ T(n)=aT\\left( \\left\\lceil \\frac{n}{b} \\right\\rceil \\right) + O(n^d)$$\n",
    "\n",
    "$$ T(n) = \\begin{cases}\n",
    "             O(n^d),                 && d > \\log_b a \\\\\n",
    "             O(n^{\\log_b a}),        && d < \\log_b a \\\\\n",
    "             O(n^{\\log_b a} \\log_b n), && d = \\log_b a\n",
    "          \\end{cases} $$\n",
    "\n",
    "### Двоичный поиск\n",
    "$$ T(n) = T(n/2) + O(1) = O(\\log n) $$\n",
    "\n",
    "### Сортировка слиянием\n",
    "$$ T(n) = 2T(n/2) + O(n) = O(n \\log n) $$"
   ]
  },
  {
   "cell_type": "code",
   "execution_count": 16,
   "metadata": {},
   "outputs": [],
   "source": [
    "def lag1(n):\n",
    "    return 50*(4**n+2)//3\n",
    "def lag2(n):\n",
    "    if n==0:\n",
    "        return 50\n",
    "    return 4*lag2(n-1)-100\n",
    "def lag3(n):\n",
    "    return abs(lag1(n)-lag2(n))"
   ]
  },
  {
   "cell_type": "code",
   "execution_count": 19,
   "metadata": {},
   "outputs": [
    {
     "data": {
      "text/plain": [
       "0"
      ]
     },
     "execution_count": 19,
     "metadata": {},
     "output_type": "execute_result"
    }
   ],
   "source": [
    "sum(lag3(i) for i in range(1000))"
   ]
  },
  {
   "cell_type": "code",
   "execution_count": 20,
   "metadata": {},
   "outputs": [
    {
     "data": {
      "text/plain": [
       "66.0"
      ]
     },
     "execution_count": 20,
     "metadata": {},
     "output_type": "execute_result"
    }
   ],
   "source": [
    "lag1(0.5)"
   ]
  },
  {
   "cell_type": "code",
   "execution_count": 22,
   "metadata": {},
   "outputs": [
    {
     "data": {
      "text/plain": [
       "66.66666666666667"
      ]
     },
     "execution_count": 22,
     "metadata": {},
     "output_type": "execute_result"
    }
   ],
   "source": [
    "200/3"
   ]
  },
  {
   "cell_type": "code",
   "execution_count": 28,
   "metadata": {},
   "outputs": [
    {
     "data": {
      "text/plain": [
       "599074578.0000008"
      ]
     },
     "execution_count": 28,
     "metadata": {},
     "output_type": "execute_result"
    }
   ],
   "source": [
    "def luc(n):\n",
    "    return ((1+5**.5)**n+(1-5**.5)**n)/2**n\n",
    "luc(42)"
   ]
  },
  {
   "cell_type": "code",
   "execution_count": null,
   "metadata": {},
   "outputs": [],
   "source": []
  }
 ],
 "metadata": {
  "kernelspec": {
   "display_name": "Python 3",
   "language": "python",
   "name": "python3"
  },
  "language_info": {
   "codemirror_mode": {
    "name": "ipython",
    "version": 3
   },
   "file_extension": ".py",
   "mimetype": "text/x-python",
   "name": "python",
   "nbconvert_exporter": "python",
   "pygments_lexer": "ipython3",
   "version": "3.5.2"
  }
 },
 "nbformat": 4,
 "nbformat_minor": 2
}
