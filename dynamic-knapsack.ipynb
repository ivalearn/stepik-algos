{
 "cells": [
  {
   "cell_type": "code",
   "execution_count": 9,
   "metadata": {},
   "outputs": [],
   "source": [
    "def timeout(seconds=2, ermes=\"Timeout!\"):\n",
    "    from signal import signal, alarm, SIGALRM\n",
    "    from functools import wraps\n",
    "\n",
    "    class TimeoutError(Exception):\n",
    "        pass\n",
    "\n",
    "    def decorator(func):\n",
    "        def timeout_handler(signum, frame):\n",
    "            raise TimeoutError(ermes)\n",
    "\n",
    "        def wrapper(*args, **kwargs):\n",
    "            signal(SIGALRM, timeout_handler)\n",
    "            alarm(seconds)\n",
    "            try:\n",
    "                result = func(*args, **kwargs)\n",
    "            finally:\n",
    "                alarm(0)\n",
    "            return result\n",
    "\n",
    "        return wraps(func)(wrapper)\n",
    "\n",
    "    return decorator"
   ]
  },
  {
   "cell_type": "code",
   "execution_count": 23,
   "metadata": {},
   "outputs": [],
   "source": [
    "def test(unique_knapsack):\n",
    "    assert unique_knapsack(0, []) == 0\n",
    "    assert unique_knapsack(0, [1]) == 0\n",
    "    assert unique_knapsack(1, [1]) == 1\n",
    "    assert unique_knapsack(1, [2]) == 0\n",
    "    assert unique_knapsack(1, [0,0,0]) == 0\n",
    "    assert unique_knapsack(2, [1,0,1]) == 2\n",
    "    assert unique_knapsack(10, [1,4,8]) == 9\n",
    "    assert unique_knapsack(10**4, list(range(141))) == sum(range(141))\n",
    "    print(\"OK\")\n",
    "\n",
    "def main(unique_knapsack):\n",
    "    W, n = map(int, input().split())\n",
    "    w = list(map(int, input().split()))\n",
    "    print(unique_knapsack(W, w))"
   ]
  },
  {
   "cell_type": "code",
   "execution_count": 24,
   "metadata": {},
   "outputs": [],
   "source": [
    "@timeout()\n",
    "def unique_knapsack1(full_w, w):\n",
    "    from functools import lru_cache\n",
    "\n",
    "    @lru_cache(maxsize=600)\n",
    "    def knapsack(cur_w, i):\n",
    "        if cur_w <= 0 or i < 0:\n",
    "            return 0\n",
    "        val = knapsack(cur_w, i-1)\n",
    "        if w[i]:\n",
    "            prev_w = cur_w - w[i]\n",
    "            if prev_w == 0:\n",
    "                val = max(val, w[i])\n",
    "            elif prev_w > 0:\n",
    "                val = max(val, w[i] + knapsack(prev_w, i-1))\n",
    "        #print(val, '<--', cur_w, w[:i+1])\n",
    "        return val\n",
    "\n",
    "    return knapsack(full_w, len(w)-1)"
   ]
  },
  {
   "cell_type": "code",
   "execution_count": 21,
   "metadata": {},
   "outputs": [
    {
     "name": "stdout",
     "output_type": "stream",
     "text": [
      "OK\n"
     ]
    }
   ],
   "source": [
    "@timeout(seconds=3)\n",
    "def unique_knapsack2(W, w):\n",
    "    w = [cw for cw in w if 0 < cw <= W]\n",
    "    n = len(w)+1\n",
    "    W += 1\n",
    "    b = [[0]*W for _ in range(n)]\n",
    "    for i in range(1, n):\n",
    "        wi = w[i-1]\n",
    "        for cw in range(1, W):\n",
    "            bb = b[i-1][cw]\n",
    "            if cw == wi:\n",
    "                bb = max(bb, wi)\n",
    "            if cw > wi:\n",
    "                bb = max(bb, b[i-1][cw-wi]+wi)\n",
    "            b[i][cw] = bb\n",
    "    return b[-1][-1]\n",
    "\n",
    "#unique_knapsack2(1, [1])\n",
    "test(unique_knapsack2)\n",
    "#main(unique_knapsack1)"
   ]
  },
  {
   "cell_type": "code",
   "execution_count": 39,
   "metadata": {},
   "outputs": [
    {
     "name": "stdout",
     "output_type": "stream",
     "text": [
      "OK\n"
     ]
    }
   ],
   "source": [
    "@timeout(seconds=3)\n",
    "def unique_knapsack3(vol, weights):\n",
    "    vol1 = vol + 1\n",
    "    prev, cur = [0]*vol1, [0]*vol1\n",
    "    for w in weights:\n",
    "        prev, cur = cur, prev\n",
    "        for v in range(vol1):\n",
    "            cur[v] = prev[v] if w > v else max(prev[v], prev[v-w]+w)\n",
    "    return cur[-1]\n",
    "\n",
    "#unique_knapsack2(1, [1])\n",
    "test(unique_knapsack3)\n",
    "#main(unique_knapsack1)"
   ]
  },
  {
   "cell_type": "code",
   "execution_count": 37,
   "metadata": {},
   "outputs": [
    {
     "name": "stdout",
     "output_type": "stream",
     "text": [
      "2 2\n",
      "1\n",
      "1\n"
     ]
    }
   ],
   "source": [
    "vol, n = map(int, input().split())\n",
    "weights = [*map(int, input().split())]\n",
    "vol1 = vol + 1\n",
    "prev, cur = [0]*vol1, [0]*vol1\n",
    "for w in weights:\n",
    "    prev, cur = cur, prev\n",
    "    for v in range(vol1):\n",
    "        cur[v] = prev[v] if w > v else max(prev[v], prev[v-w]+w)\n",
    "print(cur[-1])"
   ]
  }
 ],
 "metadata": {
  "kernelspec": {
   "display_name": "Python 3",
   "language": "python",
   "name": "python3"
  },
  "language_info": {
   "codemirror_mode": {
    "name": "ipython",
    "version": 3
   },
   "file_extension": ".py",
   "mimetype": "text/x-python",
   "name": "python",
   "nbconvert_exporter": "python",
   "pygments_lexer": "ipython3",
   "version": "3.5.2"
  }
 },
 "nbformat": 4,
 "nbformat_minor": 2
}
