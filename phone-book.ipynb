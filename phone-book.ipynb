{
 "cells": [
  {
   "cell_type": "markdown",
   "metadata": {},
   "source": [
    "## [Телефонная книга](https://stepik.org/lesson/41562/step/1)\n",
    "\n",
    "([условия задач.pdf](https://stepik.org/media/attachments/lesson/41233/statements.pdf))"
   ]
  },
  {
   "cell_type": "code",
   "execution_count": 6,
   "metadata": {},
   "outputs": [
    {
     "name": "stdout",
     "output_type": "stream",
     "text": [
      "Overwriting phone-book.py\n"
     ]
    }
   ],
   "source": [
    "%%writefile phone-book.py\n",
    "from sys import stdin\n",
    "phones = [None] * (10**7+1)\n",
    "next(stdin)\n",
    "for req in stdin:\n",
    "    req = req.split()\n",
    "    cmd, num = req[0], int(req[1])\n",
    "    if cmd == \"add\":\n",
    "        phones[num] = req[2]\n",
    "    elif cmd == \"del\":\n",
    "        phones[num] = None\n",
    "    else:\n",
    "        print(phones[num] or \"not found\")"
   ]
  },
  {
   "cell_type": "code",
   "execution_count": 7,
   "metadata": {},
   "outputs": [
    {
     "name": "stdout",
     "output_type": "stream",
     "text": [
      "Mom\n",
      "not found\n",
      "police\n",
      "not found\n",
      "Mom\n",
      "daddy\n"
     ]
    }
   ],
   "source": [
    "%%bash\n",
    "python3 phone-book.py <<EOF\n",
    "12\n",
    "add 911 police\n",
    "add 76213 Mom\n",
    "add 17239 Bob\n",
    "find 76213\n",
    "find 910\n",
    "find 911\n",
    "del 910\n",
    "del 911\n",
    "find 911\n",
    "find 76213\n",
    "add 76213 daddy\n",
    "find 76213\n",
    "EOF"
   ]
  },
  {
   "cell_type": "code",
   "execution_count": 8,
   "metadata": {},
   "outputs": [
    {
     "name": "stdout",
     "output_type": "stream",
     "text": [
      "not found\n",
      "granny\n",
      "me\n",
      "not found\n"
     ]
    }
   ],
   "source": [
    "%%bash\n",
    "python3 phone-book.py <<EOF\n",
    "8\n",
    "find 3839442\n",
    "add 123456 me\n",
    "add 0 granny\n",
    "find 0\n",
    "find 123456\n",
    "del 0\n",
    "del 0\n",
    "find 0\n",
    "EOF"
   ]
  },
  {
   "cell_type": "code",
   "execution_count": null,
   "metadata": {},
   "outputs": [],
   "source": []
  }
 ],
 "metadata": {
  "kernelspec": {
   "display_name": "Python 3",
   "language": "python",
   "name": "python3"
  },
  "language_info": {
   "codemirror_mode": {
    "name": "ipython",
    "version": 3
   },
   "file_extension": ".py",
   "mimetype": "text/x-python",
   "name": "python",
   "nbconvert_exporter": "python",
   "pygments_lexer": "ipython3",
   "version": "3.5.2"
  }
 },
 "nbformat": 4,
 "nbformat_minor": 2
}
