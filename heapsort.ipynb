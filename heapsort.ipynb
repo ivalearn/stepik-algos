{
 "cells": [
  {
   "cell_type": "markdown",
   "metadata": {},
   "source": [
    "## max-heap"
   ]
  },
  {
   "cell_type": "code",
   "execution_count": 17,
   "metadata": {},
   "outputs": [
    {
     "name": "stdout",
     "output_type": "stream",
     "text": [
      "ok\n"
     ]
    }
   ],
   "source": [
    "# ==================\n",
    "#      max-heap\n",
    "# ==================\n",
    "\n",
    "# O(log n)\n",
    "def siftdown(a, i, n=None):\n",
    "    if n is None:\n",
    "        n = len(a)\n",
    "    if i >= n:\n",
    "        return\n",
    "    x, c = a[i], i+i+1\n",
    "    while c < n:\n",
    "        if c+1 >= n:\n",
    "            if x < a[c]:\n",
    "                a[i], a[c] = a[c], x\n",
    "            break\n",
    "        l, r = a[c], a[c+1]\n",
    "        if x < l and x < r:\n",
    "            if r >= l:  # prefer going right to end faster\n",
    "                c += 1\n",
    "        elif x < r:\n",
    "            c += 1\n",
    "        elif x >= l:\n",
    "            break\n",
    "        a[i], a[c] = a[c], x\n",
    "        i, c = c, c+c+1\n",
    "\n",
    "# O(log n)\n",
    "def getmax(a):\n",
    "    a[0], a[-1] = a[-1], a[0]\n",
    "    r = a.pop()\n",
    "    siftdown(a, 0)\n",
    "    return r\n",
    "\n",
    "# O(n)\n",
    "def heapify(a):\n",
    "    for i in range(len(a) >> 1, -1, -1):\n",
    "        siftdown(a, i)\n",
    "    return a\n",
    "\n",
    "# O(n*log n)\n",
    "def heapsort(a):\n",
    "    heapify(a)\n",
    "    for s in range(len(a)-1, 0, -1):\n",
    "        a[0], a[s] = a[s], a[0]\n",
    "        siftdown(a, 0, s)\n",
    "    return a\n",
    "\n",
    "# O(log n)\n",
    "def ins(a, x):\n",
    "    i = len(a)\n",
    "    a.append(x)\n",
    "    p = i >> 1\n",
    "    while i and x > a[p]:\n",
    "        a[i], a[p] = a[p], x\n",
    "        i, p = p, p >> 1\n",
    "    return a\n",
    "\n",
    "def test_sort(sort, niter=100, nmax=1000, rseed=123):\n",
    "    from random import seed, shuffle, randint\n",
    "    seed(rseed)\n",
    "\n",
    "    assert sort([]) == []\n",
    "    assert sort([1]) == [1]\n",
    "    assert sort([2,2]) == [2,2]\n",
    "    assert sort([4,3]) == [3,4]\n",
    "    assert sort([9,5,1]) == [1,5,9]\n",
    "    assert sort([9,5,1,7,3]) == [1,3,5,7,9]\n",
    "\n",
    "    for t in range(niter):\n",
    "        a = list(range(randint(1, nmax)))\n",
    "        s = a[:]\n",
    "        shuffle(a)\n",
    "        assert sort(a) == s\n",
    "\n",
    "    print(\"ok\")\n",
    "\n",
    "test_sort(sort=heapsort, niter=1000, nmax=10**3)"
   ]
  },
  {
   "cell_type": "markdown",
   "metadata": {},
   "source": [
    "https://stepik.org/lesson/13251/step/4\n",
    "\n",
    "Постройте алгоритм, который по данному массиву $A[1...n]$ выводит его минимальные $\\sqrt{n}$ элементов в порядке возрастания (другими словами, выводит $A′[1...\\sqrt{n}]$) за время $O(n)$."
   ]
  },
  {
   "cell_type": "code",
   "execution_count": 37,
   "metadata": {},
   "outputs": [
    {
     "name": "stdout",
     "output_type": "stream",
     "text": [
      "ok\n"
     ]
    }
   ],
   "source": [
    "# finds s minumum elements of array\n",
    "from math import sqrt\n",
    "\n",
    "def smin(a, s=None):\n",
    "    a = list(a)\n",
    "    n = len(a)\n",
    "    e = n-1\n",
    "    if s is None:\n",
    "        s = n\n",
    "    elif str(s) == 'sqrt':\n",
    "        s = int(sqrt(n))\n",
    "\n",
    "    def down(i):\n",
    "        if i >= n:\n",
    "            return\n",
    "        x, c = a[i], i+i+1\n",
    "        while c < n:\n",
    "            if c+1 >= n:\n",
    "                if x > a[c]:\n",
    "                    a[i], a[c] = a[c], x\n",
    "                break\n",
    "            l, r = a[c], a[c+1]\n",
    "            if x > l and x > r:\n",
    "                if r <= l:\n",
    "                    c += 1\n",
    "            elif x > r:\n",
    "                c += 1\n",
    "            elif x <= l:\n",
    "                break\n",
    "            a[i], a[c] = a[c], x\n",
    "            i, c = c, c+c+1\n",
    "\n",
    "    for i in range(n-1, -1, -1):\n",
    "        down(i)\n",
    "\n",
    "    o = []\n",
    "    for n in range(e, e-s, -1):\n",
    "        o.append(a[0])\n",
    "        a[0] = a[n]\n",
    "        down(0)\n",
    "    return o\n",
    "\n",
    "test_sort(sort=smin, niter=1000, nmax=10**3)"
   ]
  },
  {
   "cell_type": "code",
   "execution_count": 38,
   "metadata": {},
   "outputs": [
    {
     "data": {
      "text/plain": [
       "[1, 2, 3]"
      ]
     },
     "execution_count": 38,
     "metadata": {},
     "output_type": "execute_result"
    }
   ],
   "source": [
    "smin([5,4,3,2,1,9,8,7,6], 'sqrt')"
   ]
  },
  {
   "cell_type": "markdown",
   "metadata": {},
   "source": [
    "https://stepik.org/lesson/13251/step/5\n",
    "\n",
    "Даны массивы $A[1...n]$ и $B[1...n]$. Мы хотим вывести все $n^2$ сумм вида $A[i]+B[j]$ в возрастающем порядке.\n",
    "Наивный способ — создать массив, содержащий все такие суммы, и отсортировать его.\n",
    "Соответствующий алгоритм имеет время работы $O(n^2\\log n)$ и использует $O(n^2)$ памяти.\n",
    "Приведите алгоритм с таким же временем работы, который использует линейную память."
   ]
  },
  {
   "cell_type": "code",
   "execution_count": 35,
   "metadata": {},
   "outputs": [
    {
     "name": "stderr",
     "output_type": "stream",
     "text": [
      "...................................................................................................."
     ]
    },
    {
     "name": "stdout",
     "output_type": "stream",
     "text": [
      "ok maxqlen=158\n"
     ]
    }
   ],
   "source": [
    "# sorted sums\n",
    "maxqlen = 0\n",
    "\n",
    "def sorted_sums(a, b):\n",
    "    from heapq import heappush, heappop\n",
    "    global maxqlen\n",
    "\n",
    "    ar = sorted(a)\n",
    "    ac = sorted(b)\n",
    "    nr, nc = len(ar), len(ac)\n",
    "    # we might use only one dimension of indices\n",
    "    # yet let's duplicate them for speed\n",
    "    ir = [0] * nc\n",
    "    ic = [0] * nr\n",
    "\n",
    "    que = []\n",
    "    heappush(que, (ar[0]+ac[0], 0, 0))\n",
    "    ir[0] = ic[0] = 1\n",
    "\n",
    "    out = []\n",
    "    while que:\n",
    "        # heap will have at most one row plus one column\n",
    "        maxqlen = max(maxqlen, len(que))\n",
    "\n",
    "        val, r, c = heappop(que)\n",
    "        out.append(val)\n",
    "\n",
    "        fc = c+1\n",
    "        if c+1 < nc:     # try to move horizontally\n",
    "            fr = ir[fc]  # should not cross a diagonal\n",
    "            if fr <= r:  # enforce at most one row of elements in the queue\n",
    "                heappush(que, (ar[fr]+ac[fc], fr, fc))\n",
    "                ic[fr], ir[fc] = fc+1, fr+1\n",
    "\n",
    "        fr = r+1\n",
    "        if fr < nr:      # try to move vertically\n",
    "            fc = ic[fr]  # should not cross a diagonal\n",
    "            if fc <= c:  # enforce at most one column of elements in the queue\n",
    "                heappush(que, (ar[fr]+ac[fc], fr, fc))\n",
    "                ic[fr], ir[fc] = fc+1, fr+1\n",
    "\n",
    "    return out\n",
    "\n",
    "\n",
    "def test_sums(niter = 1000, nmax = 500, xmin=-10000, xmax=10000, rseed=None):\n",
    "    from sys import stderr\n",
    "    from random import seed, randint\n",
    "    if rseed is not None:\n",
    "        seed(rseed)\n",
    "\n",
    "    # verify that maximum heap length is m+n\n",
    "    global maxqlen\n",
    "    maxqlen = 0\n",
    "\n",
    "    for t in range(niter):\n",
    "        a = [randint(xmin, xmax) for _ in range(randint(1, nmax))]\n",
    "        b = [randint(xmin, xmax) for _ in range(randint(1, nmax))]\n",
    "        sums1 = sorted_sums(a, b)\n",
    "        sums2 = sorted(va+vb for va in a for vb in b)\n",
    "        assert sums1 == sums2\n",
    "        if t % 100 == 0:\n",
    "            stderr.write(\".\")\n",
    "    \n",
    "    stderr.flush()\n",
    "    print(\"ok maxqlen={}\".format(maxqlen))\n",
    "\n",
    "test_sums(niter=10000, nmax=100)"
   ]
  },
  {
   "cell_type": "code",
   "execution_count": null,
   "metadata": {},
   "outputs": [],
   "source": []
  }
 ],
 "metadata": {
  "kernelspec": {
   "display_name": "Python 3",
   "language": "python",
   "name": "python3"
  },
  "language_info": {
   "codemirror_mode": {
    "name": "ipython",
    "version": 3
   },
   "file_extension": ".py",
   "mimetype": "text/x-python",
   "name": "python",
   "nbconvert_exporter": "python",
   "pygments_lexer": "ipython3",
   "version": "3.5.2"
  }
 },
 "nbformat": 4,
 "nbformat_minor": 2
}
