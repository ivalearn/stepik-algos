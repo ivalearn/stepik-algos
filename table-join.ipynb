{
 "cells": [
  {
   "cell_type": "markdown",
   "metadata": {},
   "source": [
    "## [Объединение таблиц](https://stepik.org/lesson/41560/step/3)\n",
    "\n",
    "([условия задач.pdf](https://stepik.org/media/attachments/lesson/41233/statements.pdf))"
   ]
  },
  {
   "cell_type": "code",
   "execution_count": 4,
   "metadata": {},
   "outputs": [
    {
     "name": "stdout",
     "output_type": "stream",
     "text": [
      "OK\n"
     ]
    }
   ],
   "source": [
    "def table_join(sizes, joins):\n",
    "    sizes = list(map(int, sizes.split()))\n",
    "    links = list(range(len(sizes)))\n",
    "    szmax = max(sizes)\n",
    "    def root(t):\n",
    "        r = t\n",
    "        while r != links[r]:\n",
    "            r = links[r]\n",
    "        if r not in (t, links[t]):\n",
    "            while t != r:\n",
    "                t, links[t] = links[t], r\n",
    "        return r\n",
    "    for line in joins:\n",
    "        d, s = line.split()\n",
    "        d = root(int(d)-1)\n",
    "        s = root(int(s)-1)\n",
    "        if s != d:\n",
    "            sizes[d] += sizes[s]\n",
    "            sizes[s] = 0\n",
    "            links[s] = d\n",
    "            szmax = max(szmax, sizes[d])\n",
    "        yield szmax\n",
    "\n",
    "def test():\n",
    "    assert list(table_join('1 1 1 1 1', ['3 5','2 4','1 4','5 4','5 3'])) == [2,2,3,5,5]\n",
    "    assert list(table_join('10 0 5 0 3 3', ['6 6','6 5','5 4','4 3'])) == [10,10,10,11]\n",
    "    print(\"OK\")\n",
    "\n",
    "def main():\n",
    "    import sys\n",
    "    input()\n",
    "    print(*table_join(input(), sys.stdin), sep=\"\\n\")\n",
    "\n",
    "test()"
   ]
  },
  {
   "cell_type": "code",
   "execution_count": 7,
   "metadata": {},
   "outputs": [
    {
     "name": "stdout",
     "output_type": "stream",
     "text": [
      "Writing table-join.py\n"
     ]
    }
   ],
   "source": [
    "%%writefile table-join.py\n",
    "import sys\n",
    "\n",
    "def main():\n",
    "    input()\n",
    "    sizes = list(map(int, input().split()))\n",
    "    links = list(range(len(sizes)))\n",
    "    szmax = max(sizes)\n",
    "    def root(t):\n",
    "        r = t\n",
    "        while r != links[r]:\n",
    "            r = links[r]\n",
    "        if r not in (t, links[t]):\n",
    "            while t != r:\n",
    "                t, links[t] = links[t], r\n",
    "        return r\n",
    "    for line in sys.stdin:\n",
    "        d, s = line.split()\n",
    "        d = root(int(d)-1)\n",
    "        s = root(int(s)-1)\n",
    "        if s != d:\n",
    "            sizes[d] += sizes[s]\n",
    "            sizes[s] = 0\n",
    "            links[s] = d\n",
    "            szmax = max(szmax, sizes[d])\n",
    "        print(szmax)\n",
    "\n",
    "main()"
   ]
  },
  {
   "cell_type": "code",
   "execution_count": 8,
   "metadata": {},
   "outputs": [
    {
     "name": "stdout",
     "output_type": "stream",
     "text": [
      "expect: 10 10 10 11\n",
      "10\n",
      "10\n",
      "10\n",
      "11\n"
     ]
    }
   ],
   "source": [
    "%%bash\n",
    "echo \"expect: 10 10 10 11\"\n",
    "python3 table-join.py <<EOF\n",
    "6 4\n",
    "10 0 5 0 3 3\n",
    "6 6\n",
    "6 5\n",
    "5 4\n",
    "4 3\n",
    "EOF"
   ]
  },
  {
   "cell_type": "code",
   "execution_count": 9,
   "metadata": {},
   "outputs": [
    {
     "name": "stdout",
     "output_type": "stream",
     "text": [
      "expect: 2 2 3 5 5\n",
      "2\n",
      "2\n",
      "3\n",
      "5\n",
      "5\n"
     ]
    }
   ],
   "source": [
    "%%bash\n",
    "echo \"expect: 2 2 3 5 5\"\n",
    "python3 table-join.py <<EOF\n",
    "5 5\n",
    "1 1 1 1 1\n",
    "3 5\n",
    "2 4\n",
    "1 4\n",
    "5 4\n",
    "5 3\n",
    "EOF"
   ]
  }
 ],
 "metadata": {
  "kernelspec": {
   "display_name": "Python 3",
   "language": "python",
   "name": "python3"
  },
  "language_info": {
   "codemirror_mode": {
    "name": "ipython",
    "version": 3
   },
   "file_extension": ".py",
   "mimetype": "text/x-python",
   "name": "python",
   "nbconvert_exporter": "python",
   "pygments_lexer": "ipython3",
   "version": "3.5.2"
  }
 },
 "nbformat": 4,
 "nbformat_minor": 2
}
