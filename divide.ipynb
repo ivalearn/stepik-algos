{
 "cells": [
  {
   "cell_type": "code",
   "execution_count": 12,
   "metadata": {},
   "outputs": [
    {
     "name": "stdout",
     "output_type": "stream",
     "text": [
      "5 1 5 8 12 13\n",
      "5 8 1 23 1 11\n",
      "3 1 -1 1 -1\n"
     ]
    }
   ],
   "source": [
    "# binary search\n",
    "# https://stepik.org/lesson/13246/step/4\n",
    "def binary(a, b):\n",
    "    h = {}\n",
    "    n = len(a)-1\n",
    "    for v in set(b):\n",
    "        l = 0\n",
    "        r = n\n",
    "        h[v] = -2\n",
    "        while l <= r:\n",
    "            m = l + (r-l)//2\n",
    "            if a[m] == v:\n",
    "                h[v] = m\n",
    "                break\n",
    "            if a[m] < v:\n",
    "                l = m+1\n",
    "            else:\n",
    "                r = m-1\n",
    "    return [h[v]+1 for v in b]\n",
    "\n",
    "def test():\n",
    "    assert binary([1,5,8,12,13],[8,1,23,1,11]) == [3,1,-1,1,-1]\n",
    "    print(\"OK\")\n",
    "\n",
    "def main():\n",
    "    n, *a = map(int, input().split())\n",
    "    assert len(a) == n\n",
    "    n, *b = map(int, input().split())\n",
    "    assert len(b) == n\n",
    "    print(*(binary(a,b)))\n",
    "\n",
    "#test()\n",
    "main()"
   ]
  },
  {
   "cell_type": "code",
   "execution_count": 16,
   "metadata": {},
   "outputs": [
    {
     "name": "stdout",
     "output_type": "stream",
     "text": [
      "5 1 5 8 12 13\n",
      "5 8 1 23 1 11\n",
      "3 1 -1 1 -1\n"
     ]
    }
   ],
   "source": [
    "# binary search (short version)\n",
    "# https://stepik.org/lesson/13246/step/4\n",
    "na, *a = map(int, input().split())\n",
    "nb, *b = map(int, input().split())\n",
    "h = {v: -1 for v in b}\n",
    "for v in h:\n",
    "    l, r = 0, na-1\n",
    "    while l <= r:\n",
    "        m = l + (r-l)//2\n",
    "        if a[m] == v:\n",
    "            h[v] = m+1\n",
    "            break\n",
    "        if a[m] < v:\n",
    "            l = m+1\n",
    "        else:\n",
    "            r = m-1\n",
    "print(*(h[v] for v in b))"
   ]
  },
  {
   "cell_type": "code",
   "execution_count": null,
   "metadata": {},
   "outputs": [],
   "source": []
  }
 ],
 "metadata": {
  "kernelspec": {
   "display_name": "Python 3",
   "language": "python",
   "name": "python3"
  },
  "language_info": {
   "codemirror_mode": {
    "name": "ipython",
    "version": 3
   },
   "file_extension": ".py",
   "mimetype": "text/x-python",
   "name": "python",
   "nbconvert_exporter": "python",
   "pygments_lexer": "ipython3",
   "version": "3.5.2"
  }
 },
 "nbformat": 4,
 "nbformat_minor": 2
}
