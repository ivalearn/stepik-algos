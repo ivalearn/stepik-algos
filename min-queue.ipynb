{
 "cells": [
  {
   "cell_type": "code",
   "execution_count": 140,
   "metadata": {},
   "outputs": [],
   "source": [
    "class MinStack:\n",
    "    MAX = 10**9\n",
    "    def __init__(self):\n",
    "        self.s, self.m = [], []\n",
    "    def push(self, x):\n",
    "        self.s.append(x)\n",
    "        self.m.append(min(x, self.m[-1] if self.m else x))\n",
    "    def pop(self):\n",
    "        self.m.pop()\n",
    "        return self.s.pop()\n",
    "    @property\n",
    "    def minv(self):\n",
    "        return self.m[-1] if self.m else self.MAX\n",
    "    def __len__(self):\n",
    "        return len(self.s)\n",
    "    def __bool__(self):\n",
    "        return bool(self.s)\n",
    "    def __repr__(self):\n",
    "        return \"{!r} / {!r}\".format(self.s, self.m)\n",
    "    def clear(self):\n",
    "        self.s.clear()\n",
    "        self.m.clear()\n",
    "\n",
    "class MinQueue:\n",
    "    def __init__(self):\n",
    "        self.l = MinStack()\n",
    "        self.r = MinStack()\n",
    "    def enque(self, x):\n",
    "        self.l.push(x)\n",
    "    def deque(self):\n",
    "        if not self.r:\n",
    "            while self.l:\n",
    "                self.r.push(self.l.pop())\n",
    "        return self.r.pop()\n",
    "    @property\n",
    "    def minv(self):\n",
    "        return min(self.l.minv, self.r.minv)\n",
    "    def clear(self):\n",
    "        self.l.clear()\n",
    "        self.r.clear()\n",
    "    def __len__(self):\n",
    "        return len(self.l) + len(self.r)\n",
    "    def __bool__(self):\n",
    "        return bool(self.l) or bool(self.r)\n",
    "    def __repr__(self):\n",
    "        return \"{!r} >> {!r}\".format(self.l, self.r)\n",
    "\n",
    "q = MinQueue()"
   ]
  },
  {
   "cell_type": "code",
   "execution_count": 151,
   "metadata": {},
   "outputs": [
    {
     "name": "stdout",
     "output_type": "stream",
     "text": [
      "3 1 [5, 1, 3] / [5, 1, 1] >> [] / []\n",
      "--> [] / [] >> [3, 1] / [3, 1]\n",
      "2 1 [2] / [2] >> [3, 1] / [3, 1]\n",
      "--> [2] / [2] >> [3] / [3]\n",
      "4 2 [2, 4] / [2, 2] >> [3] / [3]\n",
      "--> [2, 4] / [2, 2] >> [] / []\n",
      "6 2 [2, 4, 6] / [2, 2, 2] >> [] / []\n",
      "--> [] / [] >> [6, 4] / [6, 4]\n",
      "1 1 [1] / [1] >> [6, 4] / [6, 4]\n",
      "--> [1] / [1] >> [6] / [6]\n",
      "7 1 [1, 7] / [1, 1] >> [6] / [6]\n",
      "--> [1, 7] / [1, 1] >> [] / []\n",
      "3 1 [1, 7, 3] / [1, 1, 1] >> [] / []\n",
      "--> [] / [] >> [3, 7] / [3, 3]\n",
      "2 2 [2] / [2] >> [3, 7] / [3, 3]\n",
      "--> [2] / [2] >> [3] / [3]\n",
      "8 2 [2, 8] / [2, 2] >> [3] / [3]\n",
      "--> [2, 8] / [2, 2] >> [] / []\n"
     ]
    }
   ],
   "source": [
    "q = MinQueue()\n",
    "a = [5,1,3,2,4,6,1,7,3,2,8]\n",
    "for x in a[:2]:\n",
    "    q.enque(x)\n",
    "for x in a[2:]:\n",
    "    q.enque(x)\n",
    "    print(x, q.minv, q)\n",
    "    q.deque()\n",
    "    print(\"-->\", q)"
   ]
  },
  {
   "cell_type": "code",
   "execution_count": 147,
   "metadata": {},
   "outputs": [
    {
     "name": "stdout",
     "output_type": "stream",
     "text": [
      "OK\n",
      "OK\n"
     ]
    }
   ],
   "source": [
    "def m_min1(a, m=3):\n",
    "    return [min(a[i-m:i]) for i in range(m, len(a)+1)]\n",
    "\n",
    "def m_min2(a, m=3):\n",
    "    r = []\n",
    "    q = MinQueue()\n",
    "    for i, x in enumerate(a):\n",
    "        q.enque(x)\n",
    "        if i >= m-1:\n",
    "            r.append(q.minv)\n",
    "            q.deque()\n",
    "    return r\n",
    "\n",
    "def test(m_min):\n",
    "    m = 3\n",
    "    a = [5,1,3,2,4,6,1,7,3,2,8]\n",
    "    r = [1,1,2,2,1,1,1,2,2]\n",
    "    assert m_min(a,m) == r\n",
    "    print(\"OK\")\n",
    "\n",
    "test(m_min1)\n",
    "test(m_min2)"
   ]
  }
 ],
 "metadata": {
  "kernelspec": {
   "display_name": "Python 3",
   "language": "python",
   "name": "python3"
  },
  "language_info": {
   "codemirror_mode": {
    "name": "ipython",
    "version": 3
   },
   "file_extension": ".py",
   "mimetype": "text/x-python",
   "name": "python",
   "nbconvert_exporter": "python",
   "pygments_lexer": "ipython3",
   "version": "3.5.2"
  }
 },
 "nbformat": 4,
 "nbformat_minor": 2
}
